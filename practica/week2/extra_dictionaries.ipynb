{
 "cells": [
  {
   "cell_type": "markdown",
   "id": "5713f5a7-348e-4905-a2dc-b4b750d3eb7b",
   "metadata": {},
   "source": [
    "<div>\n",
    "    <img src='../pics/banner.PNG'/>\n",
    "</div>\n",
    "<div>\n",
    "    <img width=\"10%\" height=\"10%\" src='../pics/python-programming.png'/>\n",
    "    <img src='../pics/miw.PNG'/>\n",
    "</div>\n",
    "<div>\n",
    "    <em>Author: Jeroen Boogaard</em>\n",
    "</div>"
   ]
  },
  {
   "cell_type": "markdown",
   "id": "8c60c67e-7b39-45ac-acd5-54e1013ec115",
   "metadata": {},
   "source": [
    "---"
   ]
  },
  {
   "cell_type": "markdown",
   "id": "d697ae0a-1505-43f5-817d-efeaed6009a4",
   "metadata": {},
   "source": [
    "<h1>Samengestelde variabelen - Dictionaries</h1>"
   ]
  },
  {
   "cell_type": "markdown",
   "id": "5968c213-ab8e-41d5-b245-a23956f3af6f",
   "metadata": {},
   "source": [
    "**Een dictionary is een <u>mutable</u> dataverzameling van <u>key-value pairs</u>**"
   ]
  },
  {
   "cell_type": "markdown",
   "id": "11f5f3d4-8ca8-475f-b552-6ec65b351da0",
   "metadata": {},
   "source": [
    "<h3>Imports</h3>"
   ]
  },
  {
   "cell_type": "code",
   "execution_count": null,
   "id": "8a0fad6b-921c-4066-a0a9-c6a2bdb00549",
   "metadata": {
    "tags": []
   },
   "outputs": [],
   "source": [
    "from PIL import Image\n",
    "import csv\n",
    "import json"
   ]
  },
  {
   "cell_type": "markdown",
   "id": "5812a326-b1a7-409e-9b2d-7b2bb5102532",
   "metadata": {},
   "source": [
    "<h3>Dictionary variabelen aanmaken en afdrukken</h3>"
   ]
  },
  {
   "cell_type": "code",
   "execution_count": null,
   "id": "0dabdb25-6ff5-4edc-96fd-7019734055e0",
   "metadata": {
    "tags": []
   },
   "outputs": [],
   "source": [
    "# https://www.w3schools.com/python/python_dictionaries.asp\n",
    "# As of Python version 3.7, dictionaries are ordered. In Python 3.6 and earlier, dictionaries are unordered.\n",
    "# When we say that dictionaries are ordered, it means that the items have a defined order, and that order will not change.\n",
    "\n",
    "marslanderSpecs = { 'length': 6, 'width': 1.56, 'weight': 360, 'deckHeight': (83, 108), 'robotArmLength': 1.8, 'numberOfSolarPanels': 2}\n",
    "marslanderSpecs.items()"
   ]
  },
  {
   "cell_type": "markdown",
   "id": "839821d9-8d2c-4c18-a55e-c7645cbb3160",
   "metadata": {},
   "source": [
    "De <i>String Formatting Operator</i> maakt gebruik van een <i>tuple</i>"
   ]
  },
  {
   "cell_type": "code",
   "execution_count": null,
   "id": "9fc3a9ee-6b10-41e0-9d45-6d4b85940f7f",
   "metadata": {
    "tags": []
   },
   "outputs": [],
   "source": [
    "print(type(marslanderSpecs.get('deckHeight')))\n",
    "print( 'The Deck Height of the Marslander has a range from %s to %s' %marslanderSpecs.get('deckHeight'))"
   ]
  },
  {
   "cell_type": "markdown",
   "id": "db849391-b9b9-4900-95ba-24d21c65138f",
   "metadata": {},
   "source": [
    "<h3>Elementen toevoegen</h3>"
   ]
  },
  {
   "cell_type": "markdown",
   "id": "7407930c-6949-4c05-97c7-aded1c5b5455",
   "metadata": {},
   "source": [
    "**Voeg elementen toe via een merge met een tweede dictionary**"
   ]
  },
  {
   "cell_type": "code",
   "execution_count": null,
   "id": "9f7810ed-c68f-425f-b88a-f47e0759e355",
   "metadata": {
    "tags": []
   },
   "outputs": [],
   "source": [
    "marslanderSpecs = marslanderSpecs | {'scienceInstruments' : (\"seismometer\", \"heat probe\", \"radio science experiment\")}\n",
    "print(marslanderSpecs)"
   ]
  },
  {
   "cell_type": "markdown",
   "id": "999f816b-0de2-4e19-9faa-12f90ed33d25",
   "metadata": {
    "tags": []
   },
   "source": [
    "<h3>Excercise 1</h3>\n",
    "<h4>Gegeven</h4>"
   ]
  },
  {
   "cell_type": "markdown",
   "id": "ac52ffa1-a8cc-4b1a-96ce-378c5c27e0d1",
   "metadata": {},
   "source": [
    "\n"
   ]
  },
  {
   "cell_type": "code",
   "execution_count": null,
   "id": "786be27d-ff7a-496e-9e6a-2da92b0180ba",
   "metadata": {
    "tags": []
   },
   "outputs": [],
   "source": [
    "imgTuple = ('image',\"../pics/mars.nasa.jpg\")"
   ]
  },
  {
   "cell_type": "markdown",
   "id": "bc1168d3-72a3-4e48-ab08-cbc743ad51a5",
   "metadata": {},
   "source": [
    "<h4>Gevraagd</h4>\n",
    "<p>Voeg het element <i>image</i> toe m.b.v. de variabele <u>imgTuple</u>"
   ]
  },
  {
   "cell_type": "markdown",
   "id": "8610a4a8-ae31-4c2e-aa0f-71dd76d563d9",
   "metadata": {},
   "source": [
    "<h4>Oplossing</h4>"
   ]
  },
  {
   "cell_type": "code",
   "execution_count": null,
   "id": "321b9ef8-559f-4f09-8110-0d07f6091807",
   "metadata": {
    "tags": []
   },
   "outputs": [],
   "source": [
    "# Oplossing : \n",
    "# item toevoegen aan dict: https://www.w3schools.com/python/python_dictionaries_add.asp  Example: thisdict[\"key_name\"] = \"entry_value\"\n",
    "# marslanderSpecs.pop(\"image\") geeft fout resultaat\n",
    "# ongewenste entry uit dict verwijderen: The pop() method removes the item with the specified key name:\n",
    "# thisdict.pop(\"model\")\n",
    "# [imgTuple[0]] = key\n",
    "# imgTuple[1] = value\n",
    "marslanderSpecs[imgTuple[0]] = imgTuple[1]\n",
    "print(marslanderSpecs)"
   ]
  },
  {
   "cell_type": "markdown",
   "id": "a046bb7e-a5d0-418b-8028-1f682fee2723",
   "metadata": {},
   "source": [
    "<h3>Visualisatie</h3>"
   ]
  },
  {
   "cell_type": "markdown",
   "id": "0dd8cab6-9c61-4baf-b09f-c37959fc3182",
   "metadata": {},
   "source": [
    "**Gebruik de Python Imaging Library (PIL) voor het renderen van een Image** "
   ]
  },
  {
   "cell_type": "code",
   "execution_count": null,
   "id": "a5c8766a-170a-44a6-b690-02365160786e",
   "metadata": {
    "tags": []
   },
   "outputs": [],
   "source": [
    "img = Image.open(imgTuple[1])\n",
    "percentage = 0.4\n",
    "width, height = img.size\n",
    "resizedDimensions = (int(width * percentage), int(height * percentage))\n",
    "resizedImg = img.resize(resizedDimensions)\n",
    "resizedImg.show()"
   ]
  },
  {
   "cell_type": "markdown",
   "id": "8d7f5afb-dd50-47e3-8df8-87d6c98a1ac4",
   "metadata": {},
   "source": [
    "<h3>Exporteren</h3>"
   ]
  },
  {
   "cell_type": "code",
   "execution_count": null,
   "id": "9d006a57-80f9-4d46-b23f-4c13282abafa",
   "metadata": {
    "tags": []
   },
   "outputs": [],
   "source": [
    "!mkdir ../json"
   ]
  },
  {
   "cell_type": "markdown",
   "id": "f7975fbd-67bb-423c-ab0e-d500a9075c66",
   "metadata": {},
   "source": [
    "**Gebruik de json library voor het exporteren naar een JSon-file**"
   ]
  },
  {
   "cell_type": "code",
   "execution_count": null,
   "id": "ea94991d-bbc4-4ec3-881e-e0a67282ffd2",
   "metadata": {
    "tags": []
   },
   "outputs": [],
   "source": [
    "with open(\"../json/marslander.json\", \"w\") as outfile:\n",
    "    json.dump(marslanderSpecs, outfile)"
   ]
  },
  {
   "cell_type": "markdown",
   "id": "ef481205-753b-42ef-858d-84696e760708",
   "metadata": {},
   "source": [
    "<h3>Excercise 2</h3>\n",
    "<p>\n",
    "    <ol>\n",
    "        <li>Maak de directory <i>../csv</i> aan</li>\n",
    "        <li>Exporteer de dictionary marslanderSpecs naar het bestand <i>csv/marslander.csv</i> m.b.v. de library <u>csv</i>\n",
    "    </ol>\n",
    "    <strong>TIP : </strong>Zoek op <a>https://stackoverflow.com/</a> naar geschikte voorbeelden\n",
    "</p> "
   ]
  },
  {
   "cell_type": "code",
   "execution_count": null,
   "id": "7a803575-aba2-45e1-8304-dc5f1abaf20c",
   "metadata": {
    "tags": []
   },
   "outputs": [],
   "source": [
    "# Oplossing: \n",
    "# https://stackoverflow.com/questions/62785582/how-to-add-a-new-folder-to-the-directory-you-are-in-in-jupyter-notebook\n",
    "# This will create a new directory named \"plots\" in the current directory from which you have called this python script.\n",
    "# You could then check to see if the folder has been created in your directory by using os.listdir()\n",
    "\n",
    "# https://docs.python.org/3/library/os.html\n",
    "import os\n",
    "if not os.path.exists('../csv'):\n",
    "    os.mkdir('../csv')\n",
    "\n",
    "os.listdir()\n"
   ]
  },
  {
   "cell_type": "code",
   "execution_count": null,
   "id": "e036801b-0321-44c1-87c9-6d4c2743a46b",
   "metadata": {
    "tags": []
   },
   "outputs": [],
   "source": [
    "# Oplossing, deel 2 (Exporteer de dictionary marslanderSpecs naar het bestand csv/marslander.csv m.b.v. de library csv )\n",
    "# https://stackoverflow.com/questions/10373247/how-do-i-write-a-python-dictionary-to-a-csv-file - zie op deze pagina 'commentaar nr 116' :\n",
    "# import csv\n",
    "\n",
    "# somedict = dict(raymond='red', rachel='blue', matthew='green')\n",
    "# with open('mycsvfile.csv','wb') as f:\n",
    "#     w = csv.writer(f)\n",
    "#     w.writerows(somedict.items())\n",
    "\n",
    "import csv\n",
    "    \n",
    "somedict = marslanderSpecs\n",
    "with open('../csv/marslander.csv','w') as f: #Zorg hier dat het pad goed staat. Ook: <-- hier stond 'wb' en daarvan heb ik 'w' van 'write'  gemaakt\n",
    "                                            # toen verdween de foutmelding dat er een byte-like object nodig was en geen string\n",
    "    w = csv.writer(f)\n",
    "    w.writerows(somedict.items())\n",
    "\n"
   ]
  },
  {
   "cell_type": "markdown",
   "id": "abd38803-e2b6-4f6f-8401-75db49c964fb",
   "metadata": {},
   "source": [
    "## Extra opdracht: zet marslanderSpecs om in een dataclass.\n",
    "\n",
    "Maak een data class marslander\n",
    "\n"
   ]
  },
  {
   "cell_type": "markdown",
   "id": "f1df9edc-044d-46ae-b70e-e097e3f1412e",
   "metadata": {},
   "source": [
    "https://docs.python.org/3/library/dataclasses.html"
   ]
  },
  {
   "cell_type": "code",
   "execution_count": 3,
   "id": "e69e2a61-52fd-471f-8574-5c8abef75f08",
   "metadata": {
    "tags": []
   },
   "outputs": [],
   "source": [
    "from dataclasses import dataclass\n",
    "\n",
    "# @dataclass"
   ]
  },
  {
   "cell_type": "markdown",
   "id": "2214f98e-0dc8-439d-b440-ec897f6de7c6",
   "metadata": {},
   "source": [
    "https://www.w3schools.com/python/python_classes.asp \n",
    "Python is an object oriented programming language.\n",
    "Almost everything in Python is an object, with its properties and methods.\n",
    "A Class is like an object constructor, or a \"blueprint\" for creating objects.\n",
    "To create a class, use the keyword 'class' :\n",
    "<br>\n",
    "<br>\n",
    "class MyClass:\n",
    "<br>\n",
    "  x = 5\n",
    "<br>\n",
    "print(MyClass)\n",
    "<br>\n",
    "geeft: <class '__main__.MyClass'>\n",
    "<br>\n",
    "<br>\n",
    "To understand the meaning of classes we have to understand the built-in __init__() function.\n",
    "<br>\n",
    "All classes have a function called __init__(), which is always executed when the class is being initiated.\n",
    "<br>\n",
    "Use the __init__() function to assign values to object properties, or other operations that are necessary to do when the object is being created:\n",
    "<br>"
   ]
  },
  {
   "cell_type": "code",
   "execution_count": null,
   "id": "d5232dec-d96a-4639-b7d8-0249f4c6bcf7",
   "metadata": {},
   "outputs": [],
   "source": []
  }
 ],
 "metadata": {
  "kernelspec": {
   "display_name": "Python 3 (ipykernel)",
   "language": "python",
   "name": "python3"
  },
  "language_info": {
   "codemirror_mode": {
    "name": "ipython",
    "version": 3
   },
   "file_extension": ".py",
   "mimetype": "text/x-python",
   "name": "python",
   "nbconvert_exporter": "python",
   "pygments_lexer": "ipython3",
   "version": "3.10.9"
  }
 },
 "nbformat": 4,
 "nbformat_minor": 5
}
