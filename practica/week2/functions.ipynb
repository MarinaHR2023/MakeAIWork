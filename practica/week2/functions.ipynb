{
 "cells": [
  {
   "cell_type": "markdown",
   "id": "7eb1c299-98e2-45cb-9af8-8247ab78e8a0",
   "metadata": {},
   "source": [
    "<a href=\"https://it-omscholing.nl/locaties/hogeschool-rotterdam/\">\n",
    "<div>\n",
    "<a><img src='pics/banner.PNG'/></a>\n",
    "</div>\n",
    "<div>\n",
    "<a href=''><img src='pics/miw.PNG'/></a>\n",
    "<em>Author: Jeroen Boogaard</em>\n",
    "</div>\n",
    "</a>"
   ]
  },
  {
   "cell_type": "markdown",
   "id": "f8c3166e-a33e-466b-80ba-026a1d9b469f",
   "metadata": {},
   "source": [
    "<h1>Functies</h1>"
   ]
  },
  {
   "cell_type": "markdown",
   "id": "c9392295-fc66-4c23-b5a1-bd6e77d04144",
   "metadata": {},
   "source": [
    "<h3>Strings</h3>"
   ]
  },
  {
   "cell_type": "markdown",
   "id": "e93ad462-46c4-4028-ace1-b4b84b45a5da",
   "metadata": {},
   "source": [
    "**Functies kunnen worden aangeroepen zonder argument**"
   ]
  },
  {
   "cell_type": "code",
   "execution_count": null,
   "id": "610cb44d-3ec8-413e-9e83-8f7602ab1481",
   "metadata": {
    "tags": []
   },
   "outputs": [],
   "source": [
    "def printExampleString():\n",
    "    print(\"Because of Mercury's elliptical – egg-shaped – orbit, and sluggish rotation, the Sun appears to rise briefly, set, and rise again from some parts of the planet's surface. The same thing happens in reverse at sunset.\")\n",
    "    \n",
    "printExampleString()"
   ]
  },
  {
   "cell_type": "markdown",
   "id": "864dc06d-4fa5-40ad-b407-a28a34084be1",
   "metadata": {},
   "source": [
    "**Gebruik een <i>docstring</i> om een String over meerdere regels te verdelen**"
   ]
  },
  {
   "cell_type": "code",
   "execution_count": null,
   "id": "10ef19a8-1b77-4c99-a3fd-fe4554daa771",
   "metadata": {
    "tags": []
   },
   "outputs": [],
   "source": [
    "def showDocString():\n",
    "    \"\"\"\n",
    "    De docstring is een beschrijving van een functie, die bedoeld is voor de programmeur. \n",
    "    De Python interpreter negeert deze String\n",
    "    \"\"\"\n",
    "\n",
    "print(showDocString.__doc__)"
   ]
  },
  {
   "cell_type": "markdown",
   "id": "1fa654e3-5c01-4cbb-af3b-dceb2fa7ea5a",
   "metadata": {},
   "source": [
    "<h3>Numbers</h3>"
   ]
  },
  {
   "cell_type": "markdown",
   "id": "e536b14f-3bf5-41d8-a00c-1df335cef63d",
   "metadata": {},
   "source": [
    "**Functies kunnen worden aangeroepen met een variabele als argument**"
   ]
  },
  {
   "cell_type": "code",
   "execution_count": null,
   "id": "6c24ec9f-d20e-497c-a3d7-3e28be4ee28f",
   "metadata": {
    "tags": []
   },
   "outputs": [],
   "source": [
    "def milesToKilometers(distance):\n",
    "    return round(distance * 1.609344, 2)\n",
    "\n",
    "distanceInMiles = 11        \n",
    "print( f\"The meteoroid entered the atmosphere at over {int(milesToKilometers(distanceInMiles)*3600)} kilometers per hour.\" )"
   ]
  },
  {
   "cell_type": "markdown",
   "id": "8764da59-d4eb-4703-a1c2-dfa750aea51c",
   "metadata": {},
   "source": [
    "**Het argument van een functie kan <i>optioneel</i> worden gemaakt met een <i>default</i> waarde**"
   ]
  },
  {
   "cell_type": "code",
   "execution_count": null,
   "id": "9aa67dcd-cf00-43d0-a9f7-94b03f6daf9d",
   "metadata": {
    "tags": []
   },
   "outputs": [],
   "source": [
    "def milesToKilometers(distance=1):\n",
    "    return distance * 1.609344\n",
    "\n",
    "print(f\"A mile is longer than a kilometer and is equivalent to approximately { round(milesToKilometers(),1) } kilometers\")"
   ]
  },
  {
   "cell_type": "markdown",
   "id": "ea21995d-c3eb-4a9f-b73e-78b3e72c75c4",
   "metadata": {},
   "source": [
    "<h3>Exercise 7</h3>\n",
    "<p>Schrijf een functie voor het omzetten van een gewicht in <i>pounds</i> naar een <u>geheel aantal</u> <i>kilo's</i></p>"
   ]
  },
  {
   "cell_type": "code",
   "execution_count": null,
   "id": "62ae6724-341c-4d15-a3ac-7072746d70e8",
   "metadata": {
    "tags": []
   },
   "outputs": [],
   "source": [
    "# Oplossing\n",
    "\"\"\"\n",
    "Function converts lbs to kilo(s) - rounded\n",
    "\"\"\"\n",
    "def poundsToKilos(pound):\n",
    "    return round(pound * 0.45)\n",
    "\n",
    "example = 145\n",
    "print(poundsToKilos (example)) \n"
   ]
  },
  {
   "cell_type": "markdown",
   "id": "5ac2bd1b-62dd-431c-99a4-f659a5c8599e",
   "metadata": {},
   "source": [
    "<h3>Booleans</h3>"
   ]
  },
  {
   "cell_type": "markdown",
   "id": "23590b8a-c805-4c2a-ad6d-8ba9e7f17f05",
   "metadata": {},
   "source": [
    "Volgens de eerste stelling van DeMorgan kun is de expressie <strong>not (p and q</strong>) <u>equivalent</u> aan <strong>(not p) or (not q)</strong>"
   ]
  },
  {
   "cell_type": "code",
   "execution_count": null,
   "id": "d62120a0-45df-49f9-9998-41e09c0acb54",
   "metadata": {
    "tags": []
   },
   "outputs": [],
   "source": [
    "def deMorgan1(p, q):\n",
    "    return (not p) or (not q)"
   ]
  },
  {
   "cell_type": "markdown",
   "id": "2ede72d8-2fb4-4387-9202-cd52334721f7",
   "metadata": {},
   "source": [
    "**Gebruik een waarheidstabel voor beschrijven van logische functies**"
   ]
  },
  {
   "cell_type": "code",
   "execution_count": null,
   "id": "cf2642fa-be01-43bc-ac74-3f50c74add66",
   "metadata": {
    "tags": []
   },
   "outputs": [],
   "source": [
    "logTable = [f\"p\\tq\\tnot(p and q)\\t\\033[1mdeMorgan1(p, q)\\033[0m\"]\n",
    "for p in [False, True]:\n",
    "    for q in [False, True]:\n",
    "        logTable.append(f\"{p}\\t{q}\\t{ not (p and q) }\\t\\t\\033[1m{ deMorgan1(p,q) }\\033[0m\")\n",
    "\n",
    "print(\"\\n\".join(logTable))\n"
   ]
  },
  {
   "cell_type": "markdown",
   "id": "ad3b0150-ef9b-4bbe-98d3-808e3c87d932",
   "metadata": {},
   "source": [
    "Volgens de tweede stelling van DeMorgan kun is de expressie <strong>not (p or q</strong>) <u>equivalent</u> aan <strong>(not p) and (not q)</strong>"
   ]
  },
  {
   "cell_type": "markdown",
   "id": "960a380d-cff5-463c-b4ab-ee124f01471b",
   "metadata": {},
   "source": [
    "<h3>Exercise 8</h3>\n",
    "<p>Implementeer de tweede stelling van DeMorgan in een functie <u>bothFalse</u> en toon m.b.v. een waarheidstabel de juiste werking van de functie aan.\n",
    "</p>"
   ]
  },
  {
   "cell_type": "code",
   "execution_count": null,
   "id": "560bc06c-e05f-4c9a-bc4b-3c1a09da15dc",
   "metadata": {
    "tags": []
   },
   "outputs": [],
   "source": [
    "# Oplossing\n",
    "def bothFalse(p, q):\n",
    "    return (not p) and (not q)"
   ]
  },
  {
   "cell_type": "code",
   "execution_count": null,
   "id": "014722de-d2fd-4f18-bb5e-13f7d72a9d21",
   "metadata": {
    "tags": []
   },
   "outputs": [],
   "source": [
    "logTable = [f\"p\\tq\\tnot(p and q)\\t\\033[1mbothFalse(p, q)\\033[0m\"]\n",
    "for p in [False, True]:\n",
    "    for q in [False, True]:\n",
    "        logTable.append(f\"{p}\\t{q}\\t{ not (p or q) }\\t\\t\\033[1m{bothFalse(p,q) }\\033[0m\")\n",
    "\n",
    "print(\"\\n\".join(logTable))\n"
   ]
  },
  {
   "cell_type": "markdown",
   "id": "5fa081eb-6479-43d5-a46e-0078a54f203b",
   "metadata": {},
   "source": [
    "<h3>Lists</h3>"
   ]
  },
  {
   "cell_type": "code",
   "execution_count": null,
   "id": "6ea79e2d-704a-413d-a393-81e4298eb11e",
   "metadata": {
    "tags": []
   },
   "outputs": [],
   "source": [
    "digits = list( range(0,100,3) )\n",
    "#print(digits)\n",
    "print(f\"The lowest value of digits is { min(digits) } and { max(digits) } is the highest value\")"
   ]
  },
  {
   "cell_type": "code",
   "execution_count": null,
   "id": "84dfab1b-d3cb-45c2-a6bd-0738b3d10de6",
   "metadata": {
    "tags": []
   },
   "outputs": [],
   "source": [
    "sum(digits)"
   ]
  },
  {
   "cell_type": "markdown",
   "id": "b15614fe-c85c-4cdc-a575-f553c734585e",
   "metadata": {},
   "source": [
    "<h3>Exercise 9</h3>\n",
    "<p>\n",
    "    Schrijf een functie <i>averageOfDigits</i> die het <u>gemiddelde</u> van een lijst <u>gehele getallen</u> berekent en teruggeeft als <u>geheel getal</u>\n",
    "    <br>Retourneer <u>0</u> in geval de lijst <u>leeg</u> is\n",
    "</p>"
   ]
  },
  {
   "cell_type": "code",
   "execution_count": null,
   "id": "c6bf6571-2329-4ef8-b21a-c1f330395f1c",
   "metadata": {},
   "outputs": [],
   "source": [
    "# Oplossing\n",
    "\"\"\"\n",
    "averageOfDigits takes several numbers in a list, sums all the digits in the list, calculates the average and prints the rounded average\n",
    "\"\"\"\n",
    "\n",
    "def averageOfDigits(a):\n",
    "    if a == []:\n",
    "        return 0\n",
    "    return round(sum(a)/len(a))\n",
    "example = [7, 9, 11]\n",
    "\n",
    "print(averageOfDigits(example))\n",
    "\n"
   ]
  },
  {
   "cell_type": "code",
   "execution_count": null,
   "id": "095899ff-2eba-4beb-aa33-84eae8fadf20",
   "metadata": {
    "tags": []
   },
   "outputs": [],
   "source": [
    "#EXTRA: Create a definition that returns the count of vowels in a given string\n",
    "\n",
    "def nrOfVowelsInString(string):\n",
    "    \n",
    "    vowels = ['a', 'e', 'i', 'o', 'u']\n",
    "    nwString=\"\"\n",
    "    counter = 0\n",
    "    for char in string:\n",
    "        if char in vowels:\n",
    "            nwString += char\n",
    "            counter= len(nwString)\n",
    "    return nwString , counter\n",
    "\n",
    "example = input(f'Give me a word or sentence and I will tell you which & how many vowels there are in that word or sentence: ').lower()\n",
    "\n",
    "print(nrOfVowelsInString(example))\n",
    "\n"
   ]
  },
  {
   "cell_type": "markdown",
   "id": "f671effa-d395-47b9-ad0e-9d047d1acebd",
   "metadata": {},
   "source": [
    "*ARGS - Arbitrary Arguments\n",
    "https://www.w3schools.com/python/gloss_python_function_arbitrary_arguments.asp\n",
    "\n",
    "If you do not know how many arguments that will be passed into your function, add a '*' before the parameter name in the function definition. \n",
    "This way the function will receive a tuple of arguments, and can access the items accordingly\n",
    "\n"
   ]
  },
  {
   "cell_type": "code",
   "execution_count": null,
   "id": "b139a3c5-3cc3-487d-bd41-be50847a1b0b",
   "metadata": {
    "tags": []
   },
   "outputs": [],
   "source": [
    "def sumOfnumbers(*a):\n",
    "    total= sum(*a)\n",
    "    return(total)\n",
    "  \n",
    "example = (4,5,90,-7) # add or remove numbers from ' example' \n",
    "\n",
    "\n",
    "print(sumOfnumbers(example))"
   ]
  },
  {
   "cell_type": "code",
   "execution_count": null,
   "id": "899e64c5-d34e-4a14-ab68-e6dbf905e789",
   "metadata": {
    "tags": []
   },
   "outputs": [],
   "source": [
    "\"\"\"\n",
    "Deze functie is een voorbeeld van een functie die zichzelf aanroept binnen de functie\n",
    "Voorbeeld '5!' = 5 * 4 * 3 * 2* 1   = 120\n",
    "\"\"\"\n",
    "\n",
    "def factorial(n):\n",
    "    if n == 0:\n",
    "        return 1\n",
    "    return n * factorial(n-1)\n",
    "\n",
    "example = 4\n",
    "\n",
    "print(factorial(example))"
   ]
  },
  {
   "cell_type": "code",
   "execution_count": null,
   "id": "1ba820f9-ece7-441a-bbcc-128b7a146f3e",
   "metadata": {
    "tags": []
   },
   "outputs": [],
   "source": [
    "def fibonacci(n):\n",
    "    if n <= 1: # series must start with 0 and 1. Since '0 - 2' and '1-2' do not result in a positive number, we must stipulate that any 'n' lower than or equal\n",
    "                # to 1 must be returned as 0 resp 1\n",
    "        return n\n",
    "    return fibonacci(n-2) + fibonacci(n-1)\n",
    "\n",
    "x = 17\n",
    "for i in range(x):\n",
    "    print(fibonacci(i))"
   ]
  },
  {
   "cell_type": "code",
   "execution_count": null,
   "id": "b3e1f52b-2b3b-4eff-87d5-330cb5f4161a",
   "metadata": {},
   "outputs": [],
   "source": []
  }
 ],
 "metadata": {
  "kernelspec": {
   "display_name": "Python 3 (ipykernel)",
   "language": "python",
   "name": "python3"
  },
  "language_info": {
   "codemirror_mode": {
    "name": "ipython",
    "version": 3
   },
   "file_extension": ".py",
   "mimetype": "text/x-python",
   "name": "python",
   "nbconvert_exporter": "python",
   "pygments_lexer": "ipython3",
   "version": "3.10.9"
  }
 },
 "nbformat": 4,
 "nbformat_minor": 5
}
