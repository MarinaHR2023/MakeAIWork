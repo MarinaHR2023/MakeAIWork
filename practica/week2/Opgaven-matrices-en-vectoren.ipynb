{
 "cells": [
  {
   "cell_type": "markdown",
   "id": "2ea724be",
   "metadata": {},
   "source": [
    "# Matrices en vectoren"
   ]
  },
  {
   "cell_type": "markdown",
   "id": "18595eca",
   "metadata": {},
   "source": [
    "Er zijn meerdere manieren om een matrix te representeren.\n",
    "\n",
    "Hier kiezen we voor het volgende datamodel:\n",
    "\n",
    "`matrix_2D :: {rows: int, cols: int, data: []}`\n",
    "\n",
    "Implementeer onderstaande opdrachten in Python."
   ]
  },
  {
   "cell_type": "markdown",
   "id": "42182308",
   "metadata": {},
   "source": [
    "## Vectoren"
   ]
  },
  {
   "cell_type": "markdown",
   "id": "db43ccb1",
   "metadata": {},
   "source": [
    "### 1. Een vector als rij*"
   ]
  },
  {
   "cell_type": "markdown",
   "id": "e9ac731a",
   "metadata": {},
   "source": [
    "Representeer de onderstaande vector in code:\n",
    "\n",
    "$$\n",
    "  \\begin{pmatrix}\n",
    "    1 & 2 & 3\n",
    "  \\end{pmatrix}\n",
    "$$"
   ]
  },
  {
   "cell_type": "code",
   "execution_count": null,
   "id": "72c55633",
   "metadata": {
    "tags": []
   },
   "outputs": [],
   "source": [
    "# How many rows and colums does this vector have?\n",
    "\n",
    "# 1 row, 3 columns\n",
    "\n",
    "# Use the definition at the top to implement this vector:\n",
    "\n",
    "vec = {\"rows\": 1, \"cols\": 3, \"data\": [1,2,3]}\n",
    "\n",
    "# Can you print its dimensions? (rows, cols)\n",
    "#Let op dat je hier gebruik maakt van beide soorten aanhalingstekens (dubbele en enkele) als je \n",
    "# het ene soort gebruikt om de format-string te openen, kun je ze in de loop van de string niet meer gebruiken. Dan\n",
    "# moet je dus de andere soort aanhalingstekens gebruiken. Anders krijg je foutmeldingen.\n",
    "\n",
    "print(f'This vector has {vec[\"rows\"]} rows and {vec[\"cols\"]} columns.')\n",
    "\n",
    "# Can you print the number of elements?\n",
    "\n",
    "print(f\"This vector has {len(vec['data'])} elements.\") \n"
   ]
  },
  {
   "cell_type": "code",
   "execution_count": null,
   "id": "f2ada639-c18a-4c6b-8a8b-df5c1f6bb0ca",
   "metadata": {
    "tags": []
   },
   "outputs": [],
   "source": [
    "# print het middelste ('2e') element uit deze vector:\n",
    "print(vec['data'][1])"
   ]
  },
  {
   "cell_type": "markdown",
   "id": "0abbc0ad",
   "metadata": {},
   "source": [
    "### 2. Een vector als kolom*"
   ]
  },
  {
   "cell_type": "markdown",
   "id": "ac4f647f",
   "metadata": {},
   "source": [
    "Representeer de onderstaande vector in code:\n",
    "\n",
    "$$\n",
    "  \\begin{pmatrix}\n",
    "    1 \\\\\n",
    "    2 \\\\\n",
    "    3\n",
    "  \\end{pmatrix}\n",
    "$$"
   ]
  },
  {
   "cell_type": "code",
   "execution_count": null,
   "id": "f4f6bfc9",
   "metadata": {
    "tags": []
   },
   "outputs": [],
   "source": [
    "# How many rows and colums does this vector have?\n",
    "\n",
    "# 3 rows, 1 column\n",
    "\n",
    "# Use the definition at the top to implement this vector:\n",
    "\n",
    "vec = {\"rows\": 3, \"cols\": 1, \"data\": [1,2,3]}\n",
    "\n",
    "# Can you print its dimensions? (rows, cols)\n",
    "\n",
    "print(f'This vector has {vec[\"rows\"]} rows and {vec[\"cols\"]} columns.')\n",
    "\n",
    "# Can you print the number of elements?\n",
    "\n",
    "print(f\"This vector has {len(vec['data'])} elements.\") \n",
    "\n",
    "# print het middelste ('2e') element uit deze vector:\n",
    "#print(vec['data'][1])"
   ]
  },
  {
   "cell_type": "markdown",
   "id": "8de02084",
   "metadata": {},
   "source": [
    "### 3. Vectoren optellen**"
   ]
  },
  {
   "cell_type": "markdown",
   "id": "c2edbb39",
   "metadata": {},
   "source": [
    "Tel de onderstaande vectoren bij elkaar op:\n",
    "\n",
    "$$\n",
    "  \\begin{pmatrix}\n",
    "    1 \\\\\n",
    "    2 \\\\\n",
    "    3\n",
    "  \\end{pmatrix}\n",
    "  +\n",
    "    \\begin{pmatrix}\n",
    "    9 \\\\\n",
    "    8 \\\\\n",
    "    7\n",
    "  \\end{pmatrix}\n",
    "  =\n",
    "  ...\n",
    "$$"
   ]
  },
  {
   "cell_type": "code",
   "execution_count": null,
   "id": "9fd6bc2a",
   "metadata": {
    "tags": []
   },
   "outputs": [],
   "source": [
    "# Implement both vectors:\n",
    "\n",
    "vec1 = {\"rows\": 3, \"cols\": 1, \"data\": [1,2,3]}\n",
    "vec2 = {\"rows\": 3, \"cols\": 1, \"data\": [9,8,7]}\n",
    "\n",
    "# Can we add them? Check if dimensions are the same:\n",
    "\n",
    "print(f'vec1 has {vec1[\"rows\"]} rows and {vec1[\"cols\"]} columns.')\n",
    "print(f'vec2 has {vec2[\"rows\"]} rows and {vec2[\"cols\"]} columns.')\n",
    "\n",
    "# How do you add these vectors by hand?\n",
    "\n",
    "# pick the first row and then sum the (first) element of the column \n",
    "# go to the next row and repeat the addition\n",
    "# etc until the last of the number of rows (\n",
    "\n",
    "# print het middelste ('2e') element uit elk van deze vectoren:\n",
    "print(vec1['data'][1], type(vec1['data'][1]))\n",
    "print(vec2['data'][1])\n",
    "sumBoth = vec1['data'][1] +vec2['data'][1]\n",
    "print(sumBoth)"
   ]
  },
  {
   "cell_type": "code",
   "execution_count": null,
   "id": "109ed2e3-c971-493a-bb1a-92cada1a17e8",
   "metadata": {
    "tags": []
   },
   "outputs": [],
   "source": [
    "# Now add the vectors in code:\n",
    "rownr = 0 #begin bij het eerste element uit de vector\n",
    "nrOfElements = len(vec1[\"data\"])\n",
    "#print(nrOfElements, type(nrOfElements)) \n",
    "sumOfNrs = 0\n",
    "\n",
    "list_total = []\n",
    "\n",
    "while rownr < nrOfElements:\n",
    "    sumOfNrs = (vec1[\"data\"][rownr] + vec2[\"data\"][rownr])\n",
    "    list_total.append(sumOfNrs)\n",
    "    sumOfNrs = 0\n",
    "    rownr +=1\n",
    "    \n",
    "print(list_total)\n",
    "vec3 = {\"rows\": 3, \"cols\": 1, \"data\": list_total}\n",
    "print(vec3)"
   ]
  },
  {
   "cell_type": "markdown",
   "id": "10e3be49",
   "metadata": {},
   "source": [
    "Tel de onderstaande vectoren bij elkaar op:\n",
    "\n",
    "$$\n",
    "  \\begin{pmatrix}\n",
    "    1 & 2 & 3\n",
    "  \\end{pmatrix}\n",
    "  +\n",
    "  \\begin{pmatrix}\n",
    "    9 & 8 & 7\n",
    "  \\end{pmatrix}\n",
    "  =\n",
    "  ...\n",
    "$$"
   ]
  },
  {
   "cell_type": "code",
   "execution_count": null,
   "id": "3319db0c",
   "metadata": {
    "tags": []
   },
   "outputs": [],
   "source": [
    "# Implement both vectors:\n",
    "\n",
    "vec1 = {\"rows\": 1, \"cols\": 3, \"data\": [1,2,3]}\n",
    "vec2 = {\"rows\": 1, \"cols\": 3, \"data\": [9,8,7]}\n",
    "\n",
    "# Can we add them? Check if dimensions are the same:\n",
    "\n",
    "print(f'vec1 has {vec1[\"rows\"]} rows and {vec1[\"cols\"]} columns.')\n",
    "print(f'vec2 has {vec2[\"rows\"]} rows and {vec2[\"cols\"]} columns.')\n",
    "# Yes, we can add them\n",
    "\n",
    "# How do you add these vectors by hand?\n",
    "\n",
    "# pick the first element in the row of vec1 and do the same for vec2, then sum both elements \n",
    "# add the result to a list\n",
    "# go to the next element in each vector, sum them, and add this new nr to the same list\n",
    "# etc until the last element in the vector\n",
    "\n",
    "# Now add the vectors in code:\n",
    "\n",
    "element = 0 # = element-iterator\n",
    "nrOfElements = len(vec1[\"data\"]) # teller om alle elementen te kunnen aflopen\n",
    "#print(nrOfElements, type(nrOfElements))\n",
    "sumOfEls = 0\n",
    "\n",
    "list_total = []\n",
    "\n",
    "while element < nrOfElements:\n",
    "    sumOfEls = (vec1[\"data\"][element] + vec2[\"data\"][element])\n",
    "    list_total.append(sumOfEls)\n",
    "    sumOfEls = 0\n",
    "    element +=1\n",
    "    \n",
    "print(list_total)\n",
    "\n",
    "vec3 = {\"rows\": 1, \"cols\": 3, \"data\": list_total}\n",
    "print(vec3)"
   ]
  },
  {
   "cell_type": "markdown",
   "id": "ecf7d53a",
   "metadata": {},
   "source": [
    "## Matrices"
   ]
  },
  {
   "cell_type": "markdown",
   "id": "aea58d0c",
   "metadata": {},
   "source": [
    "### 1. Een 3 x 3 matrix*"
   ]
  },
  {
   "cell_type": "markdown",
   "id": "8ecdf748",
   "metadata": {},
   "source": [
    "Representeer de onderstaande matrix in code:\n",
    "\n",
    "$$\n",
    "  \\begin{pmatrix}\n",
    "    1 & 2 & 3\\\\\n",
    "    4 & 5 & 6\\\\\n",
    "    7 & 8 & 9\\\\\n",
    "  \\end{pmatrix}\n",
    "$$"
   ]
  },
  {
   "cell_type": "code",
   "execution_count": null,
   "id": "744a8d77",
   "metadata": {},
   "outputs": [],
   "source": [
    "# How many rows and colums does this matrix have?\n",
    "\n",
    "# 3 rows, 3 columns\n",
    "\n",
    "# Use the definition at the top to implement this matrix:\n",
    "\n",
    "mat = {\"rows\": 3, \"cols\": 3, \"data\": [1,2,3,4,5,6,7,8,9]}\n",
    "\n",
    "# Can you print its dimensions? (rows, cols)\n",
    "\n",
    "print(f'This matrix has {mat[\"rows\"]} rows and {mat[\"cols\"]} columns.')\n",
    "\n",
    "# Can you print the number of elements?\n",
    "\n",
    "print(f\"This matrix has {len(mat['data'])} elements.\") \n"
   ]
  },
  {
   "cell_type": "markdown",
   "id": "78d195fb",
   "metadata": {},
   "source": [
    "### 2. Matrices optellen**"
   ]
  },
  {
   "cell_type": "markdown",
   "id": "1554b6d8",
   "metadata": {},
   "source": [
    "Tel de onderstaande matrices op:\n",
    "\n",
    "$$\n",
    "  \\begin{pmatrix}\n",
    "    1 & 2 & 3\\\\\n",
    "    4 & 5 & 6\\\\\n",
    "    7 & 8 & 9\\\\\n",
    "  \\end{pmatrix}\n",
    "  +\n",
    "    \\begin{pmatrix}\n",
    "    9 & 8 & 7\\\\\n",
    "    6 & 5 & 4\\\\\n",
    "    3 & 2 & 1\\\\\n",
    "  \\end{pmatrix}\n",
    "  =\n",
    "  ...\n",
    "$$"
   ]
  },
  {
   "cell_type": "code",
   "execution_count": null,
   "id": "ac6bd48c",
   "metadata": {},
   "outputs": [],
   "source": [
    "# Implement both matrices:\n",
    "\n",
    "mat1 = {\"rows\": 3, \"cols\": 3, \"data\": [1,2,3,4,5,6,7,8,9]}\n",
    "mat2 = {\"rows\": 3, \"cols\": 3, \"data\": [9,8,7,6,5,4,3,2,1]}\n",
    "\n",
    "# Can we add them? Check if dimensions are the same:\n",
    "\n",
    "print(f'mat1 has {mat1[\"rows\"]} rows and {mat1[\"cols\"]} columns.')\n",
    "print(f'mat2 has {mat2[\"rows\"]} rows and {mat2[\"cols\"]} columns.')\n",
    "\n",
    "# Yes, we can add them.\n",
    "\n",
    "# How do you add these matrices by hand?\n",
    "\n",
    "# pick the first element in the row of mat1 and do the same for mat2, then sum both elements \n",
    "# add the result to a list (firstRowList)\n",
    "# for both matrices: go to the next element in the row, sum them, and add this new nr to the same list\n",
    "# repeat until the last element in the first row\n",
    "# ==//==//==//==\n",
    "# Go to the next row and repeat previous steps\n",
    "# ==//==//==//==\n",
    "# Keep going until you've worked your way through all rows and colums (row = 1 list, column = element in that list)\n",
    "\n",
    "# Now add the matrices in code:\n",
    "\n",
    "element = 0 # = element-iterator\n",
    "nrOfElements = len(mat1[\"data\"]) # teller om alle elementen te kunnen aflopen\n",
    "#print(nrOfElements, type(nrOfElements))\n",
    "sumOfEls = 0\n",
    "\n",
    "list_total = []\n",
    "\n",
    "while element < nrOfElements:\n",
    "    sumOfEls = (mat1[\"data\"][element] + mat2[\"data\"][element])\n",
    "    list_total.append(sumOfEls)\n",
    "    sumOfEls = 0\n",
    "    element +=1\n",
    "    \n",
    "print(list_total)\n",
    "\n",
    "mat3 = {\"rows\": 1, \"cols\": 3, \"data\": list_total}\n",
    "print(mat3)\n",
    "\n",
    "# In case you didn't: can you generalize this algorithm?\n",
    "\n",
    "# .."
   ]
  },
  {
   "cell_type": "markdown",
   "id": "7bff9837",
   "metadata": {},
   "source": [
    "### 3. Matrices vermenigvuldigen***"
   ]
  },
  {
   "cell_type": "markdown",
   "id": "4dba734d",
   "metadata": {},
   "source": [
    "Vermenigvuldig de onderstaande matrices:\n",
    "\n",
    "$$\n",
    "  \\begin{pmatrix}\n",
    "    1 & 2 & 3\\\\\n",
    "    4 & 5 & 6\n",
    "  \\end{pmatrix}\n",
    "  *\n",
    "    \\begin{pmatrix}\n",
    "    9 & 8\\\\\n",
    "    6 & 5\\\\\n",
    "    3 & 2\\\\\n",
    "  \\end{pmatrix}\n",
    "  =\n",
    "  ...\n",
    "$$"
   ]
  },
  {
   "cell_type": "code",
   "execution_count": null,
   "id": "9895aaab",
   "metadata": {
    "tags": []
   },
   "outputs": [],
   "source": [
    "# Implement both matrices:\n",
    "\n",
    "mat1 = {\"rows\": 2, \"cols\": 3, \"data\": [1,2,3,4,5,6]}\n",
    "mat2 = {\"rows\": 3, \"cols\": 2, \"data\": [9,8,6,5,3,2]}\n",
    "\n",
    "# Can we multiply them? Check if dimensions satisfy the (M by N) * (N by K) = (M by K) rule:\n",
    "\n",
    "if mat1[\"rows\"] == mat2[\"cols\"]:\n",
    "    print(f\"We kunnen beide matrices met elkaar vermenigvuldigen. Het aantal rijen in mat1: {mat1['rows']}, komt overeen met het aantal kolommen in mat2: {mat2['cols']}\")\n",
    "else:\n",
    "    print('Het kan niet.')\n",
    "\n",
    "# How do you multiply these matrices by hand?\n",
    "\n",
    "# Bovenste rij (= eerste helft elementen) mat 1 * eerste kolom (= even elementen) van mat 2\n",
    "# Bovenste rij (= eerste helft elementen) mat 1 * tweede kolom (= oneven elementen) van mat 2\n",
    "\n",
    "# Onderste rij (= tweede helft elementen) mat 1 * eerste kolom (= even elementen) van mat 2\n",
    "# Onderste rij (= tweede helft elementen) mat 1 * tweede kolom (= oneven elementen) van mat 2\n",
    "\n",
    "# Now multiply the matrices in code:\n",
    "\n",
    "\n",
    "nrOfElementsM1 = int(len(mat1[\"data\"])) # range om alle elementen te kunnen aflopen\n",
    "nrOfElementsM2 = int(len(mat2[\"data\"])) # range om alle elementen te kunnen aflopen\n",
    "#print(nrOfElements,int(nrOfElements/2) ,type(nrOfElements))\n",
    "\n",
    "# el1 = 0\n",
    "# el2 =  0 of 1\n",
    "# prodOfEls = \n",
    "# sumOfProd = 0, \n",
    "# total_list = []\n",
    "\n",
    "el1 = 0 # het eerste element van mat1\n",
    "el2 = 0 # het eerste element van mat2, moet met 2 opgehoogd worden en aan het begin van de volgende loop op 1 (en dan weer met 2 opgehoogd)\n",
    "\n",
    "firstHalfMatr1 = int(nrOfElementsM1/2)\n",
    "startSecHalfMatr1 = int(nrOfElementsM1 - firstHalfMatr1)\n",
    "\n",
    "\n",
    "# 1. Bovenste rij (= eerste helft elementen) mat 1 * eerste kolom (= even elementen) van mat 2\n",
    "# Dus elementen : (0 * 0) + (1 * 2) + (2 * 4)\n",
    "el1, el2, prodOfEls, sumOfProd = 0, 0, 0, 0\n",
    "total_list = []\n",
    "for element in range(0,firstHalfMatr1):\n",
    "    prodOfEls = mat1[\"data\"][el1] * mat2[\"data\"][el2]\n",
    "    # print(f'el2 = {el2}')\n",
    "    # print(f'prodOfEls = {prodOfEls}')\n",
    "    sumOfProd = sumOfProd + prodOfEls\n",
    "    # print(f'sumOfProd = {sumOfProd}')\n",
    "    el1 +=1\n",
    "    el2 += 2\n",
    "    # print(f'el1 = {el1}')\n",
    "    # print(f'el2 = {el2}')\n",
    "total_list.append(sumOfProd)\n",
    "print(f'sumOfProd = {sumOfProd}')\n",
    "print(f'total_list = {total_list}')\n",
    "\n",
    "# 2.Tweede deel Bovenste rij (= eerste helft elementen) mat 1 * tweede kolom (= oneven elementen) van mat 2\n",
    "sumOfProd, prodOfEls = 0,0\n",
    "el1, el2 = 0, 1\n",
    "\n",
    "for element in range(0,firstHalfMatr1):\n",
    " \n",
    "    prodOfEls = mat1[\"data\"][el1] * mat2[\"data\"][el2]\n",
    "    # print(f'el2 = {el2}')\n",
    "    # print(f'prodOfEls = {prodOfEls}')\n",
    "    sumOfProd = sumOfProd+prodOfEls\n",
    "    el1 +=1\n",
    "    el2 += 2\n",
    "    # print(f'el1 = {el1}')\n",
    "    # print(f'el2 = {el2}')\n",
    "total_list.append(sumOfProd)\n",
    "print(f'sumOfProd = {sumOfProd}')\n",
    "print(f'total_list = {total_list}')\n",
    "\n",
    "# 3. Onderste rij (= tweede helft elementen) mat 1 * eerste kolom (= even elementen) van mat 2\n",
    "sumOfProd, prodOfEls = 0,0\n",
    "el1, el2 = 3, 0\n",
    "\n",
    "for element in range(startSecHalfMatr1, nrOfElementsM1):\n",
    " \n",
    "    prodOfEls = mat1[\"data\"][el1] * mat2[\"data\"][el2]\n",
    "    # print(f'el2 = {el2}')\n",
    "    # print(f'prodOfEls = {prodOfEls}')\n",
    "    sumOfProd = sumOfProd+prodOfEls\n",
    "    el1 +=1\n",
    "    el2 += 2\n",
    "    # print(f'el1 = {el1}')\n",
    "    # print(f'el2 = {el2}')\n",
    "total_list.append(sumOfProd)\n",
    "print(f'sumOfProd = {sumOfProd}')\n",
    "print(f'total_list = {total_list}')\n",
    "\n",
    "\n",
    "# 4. # Onderste rij (= tweede helft elementen) mat 1 * tweede kolom (= oneven elementen) van mat 2\n",
    "sumOfProd, prodOfEls = 0,0\n",
    "el1, el2 = 3, 1\n",
    "\n",
    "for element in range(startSecHalfMatr1, nrOfElementsM1):\n",
    " \n",
    "    prodOfEls = mat1[\"data\"][el1] * mat2[\"data\"][el2]\n",
    "    # print(f'el2 = {el2}')\n",
    "    # print(f'prodOfEls = {prodOfEls}')\n",
    "    sumOfProd = sumOfProd+prodOfEls\n",
    "    el1 +=1\n",
    "    el2 += 2\n",
    "    # print(f'el1 = {el1}')\n",
    "    # print(f'el2 = {el2}')\n",
    "total_list.append(sumOfProd)\n",
    "print(f'sumOfProd = {sumOfProd}')\n",
    "print(f'total_list = {total_list}')\n",
    "mat3 = {\"rows\": 2, \"cols\": 2, \"data\": total_list}\n",
    "print(f'De nieuwe matrix ziet er zo uit: {mat3}')\n",
    "# De total_list moet zijn [30, 24, 84, 69]\n",
    "# In case you didn't: can you generalize this algorithm?\n",
    "\n",
    "# .."
   ]
  },
  {
   "cell_type": "code",
   "execution_count": null,
   "id": "25ea6b87-9aa7-4c03-820b-56414ae4cc3e",
   "metadata": {},
   "outputs": [],
   "source": [
    "# Check if sizes match mxn nxp\n",
    "   \n",
    "    # Create empty list\n",
    "    m2 = list()\n",
    "   \n",
    "    # Multiply all elements from rows of m0 with all elements of cols of m1\n",
    "      # for all rows in m0\n",
    "   \n",
    "        # for all cols in m1\n",
    "       \n",
    "            m2[i][j] = # cominatie element van m0 en element van m1\n",
    "   \n",
    "    return m2"
   ]
  }
 ],
 "metadata": {
  "kernelspec": {
   "display_name": "Python 3 (ipykernel)",
   "language": "python",
   "name": "python3"
  },
  "language_info": {
   "codemirror_mode": {
    "name": "ipython",
    "version": 3
   },
   "file_extension": ".py",
   "mimetype": "text/x-python",
   "name": "python",
   "nbconvert_exporter": "python",
   "pygments_lexer": "ipython3",
   "version": "3.10.9"
  }
 },
 "nbformat": 4,
 "nbformat_minor": 5
}
