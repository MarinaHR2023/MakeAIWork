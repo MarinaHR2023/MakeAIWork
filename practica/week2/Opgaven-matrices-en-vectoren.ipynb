{
 "cells": [
  {
   "cell_type": "markdown",
   "id": "2ea724be",
   "metadata": {},
   "source": [
    "# Matrices en vectoren"
   ]
  },
  {
   "cell_type": "markdown",
   "id": "18595eca",
   "metadata": {},
   "source": [
    "Er zijn meerdere manieren om een matrix te representeren.\n",
    "\n",
    "Hier kiezen we voor het volgende datamodel:\n",
    "\n",
    "`matrix_2D :: {rows: int, cols: int, data: []}`\n",
    "\n",
    "Implementeer onderstaande opdrachten in Python."
   ]
  },
  {
   "cell_type": "markdown",
   "id": "42182308",
   "metadata": {},
   "source": [
    "## Vectoren"
   ]
  },
  {
   "cell_type": "markdown",
   "id": "db43ccb1",
   "metadata": {},
   "source": [
    "### 1. Een vector als rij*"
   ]
  },
  {
   "cell_type": "markdown",
   "id": "e9ac731a",
   "metadata": {},
   "source": [
    "Representeer de onderstaande vector in code:\n",
    "\n",
    "$$\n",
    "  \\begin{pmatrix}\n",
    "    1 & 2 & 3\n",
    "  \\end{pmatrix}\n",
    "$$"
   ]
  },
  {
   "cell_type": "code",
   "execution_count": 1,
   "id": "72c55633",
   "metadata": {
    "tags": []
   },
   "outputs": [
    {
     "name": "stdout",
     "output_type": "stream",
     "text": [
      "This vector has 1 rows and 3 columns.\n",
      "This vector has 3 elements.\n"
     ]
    }
   ],
   "source": [
    "# How many rows and colums does this vector have?\n",
    "\n",
    "# 1 row, 3 columns\n",
    "\n",
    "# Use the definition at the top to implement this vector:\n",
    "\n",
    "vec = {\"rows\": 1, \"cols\": 3, \"data\": [1,2,3]}\n",
    "\n",
    "# Can you print its dimensions? (rows, cols)\n",
    "#Let op dat je hier gebruik maakt van beide soorten aanhalingstekens (dubbele en enkele) als je \n",
    "# het ene soort gebruikt om de format-string te openen, kun je ze in de loop van de string niet meer gebruiken. Dan\n",
    "# moet je dus de andere soort aanhalingstekens gebruiken. Anders krijg je foutmeldingen.\n",
    "\n",
    "print(f'This vector has {vec[\"rows\"]} rows and {vec[\"cols\"]} columns.')\n",
    "\n",
    "# Can you print the number of elements?\n",
    "\n",
    "print(f\"This vector has {len(vec['data'])} elements.\") \n"
   ]
  },
  {
   "cell_type": "code",
   "execution_count": 2,
   "id": "f2ada639-c18a-4c6b-8a8b-df5c1f6bb0ca",
   "metadata": {
    "tags": []
   },
   "outputs": [
    {
     "name": "stdout",
     "output_type": "stream",
     "text": [
      "2\n"
     ]
    }
   ],
   "source": [
    "# print het middelste ('2e') element uit deze vector:\n",
    "print(vec['data'][1])"
   ]
  },
  {
   "cell_type": "markdown",
   "id": "0abbc0ad",
   "metadata": {},
   "source": [
    "### 2. Een vector als kolom*"
   ]
  },
  {
   "cell_type": "markdown",
   "id": "ac4f647f",
   "metadata": {},
   "source": [
    "Representeer de onderstaande vector in code:\n",
    "\n",
    "$$\n",
    "  \\begin{pmatrix}\n",
    "    1 \\\\\n",
    "    2 \\\\\n",
    "    3\n",
    "  \\end{pmatrix}\n",
    "$$"
   ]
  },
  {
   "cell_type": "code",
   "execution_count": 3,
   "id": "f4f6bfc9",
   "metadata": {
    "tags": []
   },
   "outputs": [
    {
     "name": "stdout",
     "output_type": "stream",
     "text": [
      "This vector has 3 rows and 1 columns.\n",
      "This vector has 3 elements.\n",
      "2\n"
     ]
    }
   ],
   "source": [
    "# How many rows and colums does this vector have?\n",
    "\n",
    "# 3 rows, 1 column\n",
    "\n",
    "# Use the definition at the top to implement this vector:\n",
    "\n",
    "vec = {\"rows\": 3, \"cols\": 1, \"data\": [1,2,3]}\n",
    "\n",
    "# Can you print its dimensions? (rows, cols)\n",
    "\n",
    "print(f'This vector has {vec[\"rows\"]} rows and {vec[\"cols\"]} columns.')\n",
    "\n",
    "# Can you print the number of elements?\n",
    "\n",
    "print(f\"This vector has {len(vec['data'])} elements.\") \n",
    "\n",
    "# print het middelste ('2e') element uit deze vector:\n",
    "#print(vec['data'][1])"
   ]
  },
  {
   "cell_type": "markdown",
   "id": "8de02084",
   "metadata": {},
   "source": [
    "### 3. Vectoren optellen**"
   ]
  },
  {
   "cell_type": "markdown",
   "id": "c2edbb39",
   "metadata": {},
   "source": [
    "Tel de onderstaande vectoren bij elkaar op:\n",
    "\n",
    "$$\n",
    "  \\begin{pmatrix}\n",
    "    1 \\\\\n",
    "    2 \\\\\n",
    "    3\n",
    "  \\end{pmatrix}\n",
    "  +\n",
    "    \\begin{pmatrix}\n",
    "    9 \\\\\n",
    "    8 \\\\\n",
    "    7\n",
    "  \\end{pmatrix}\n",
    "  =\n",
    "  ...\n",
    "$$"
   ]
  },
  {
   "cell_type": "code",
   "execution_count": 4,
   "id": "9fd6bc2a",
   "metadata": {
    "tags": []
   },
   "outputs": [
    {
     "name": "stdout",
     "output_type": "stream",
     "text": [
      "vec1 has 3 rows and 1 columns.\n",
      "vec2 has 3 rows and 1 columns.\n",
      "2 <class 'int'>\n",
      "8\n",
      "10\n"
     ]
    }
   ],
   "source": [
    "# Implement both vectors:\n",
    "\n",
    "vec1 = {\"rows\": 3, \"cols\": 1, \"data\": [1,2,3]}\n",
    "vec2 = {\"rows\": 3, \"cols\": 1, \"data\": [9,8,7]}\n",
    "\n",
    "# Can we add them? Check if dimensions are the same:\n",
    "\n",
    "print(f'vec1 has {vec1[\"rows\"]} rows and {vec1[\"cols\"]} columns.')\n",
    "print(f'vec2 has {vec2[\"rows\"]} rows and {vec2[\"cols\"]} columns.')\n",
    "\n",
    "# How do you add these vectors by hand?\n",
    "\n",
    "# pick the first row and then sum the (first) element of the column \n",
    "# go to the next row and repeat the addition\n",
    "# etc until the last of the number of rows (\n",
    "\n",
    "# print het middelste ('2e') element uit elk van deze vectoren:\n",
    "print(vec1['data'][1], type(vec1['data'][1]))\n",
    "print(vec2['data'][1])\n",
    "sumBoth = vec1['data'][1] +vec2['data'][1]\n",
    "print(sumBoth)"
   ]
  },
  {
   "cell_type": "code",
   "execution_count": 5,
   "id": "109ed2e3-c971-493a-bb1a-92cada1a17e8",
   "metadata": {
    "tags": []
   },
   "outputs": [
    {
     "name": "stdout",
     "output_type": "stream",
     "text": [
      "[10, 10, 10]\n",
      "{'rows': 3, 'cols': 1, 'data': [10, 10, 10]}\n"
     ]
    }
   ],
   "source": [
    "# Now add the vectors in code:\n",
    "rownr = 0 #begin bij het eerste element uit de vector\n",
    "nrOfElements = len(vec1[\"data\"])\n",
    "#print(nrOfElements, type(nrOfElements)) \n",
    "sumOfNrs = 0\n",
    "\n",
    "list_total = []\n",
    "\n",
    "while rownr < nrOfElements:\n",
    "    sumOfNrs = (vec1[\"data\"][rownr] + vec2[\"data\"][rownr])\n",
    "    list_total.append(sumOfNrs)\n",
    "    sumOfNrs = 0\n",
    "    rownr +=1\n",
    "    \n",
    "print(list_total)\n",
    "vec3 = {\"rows\": 3, \"cols\": 1, \"data\": list_total}\n",
    "print(vec3)"
   ]
  },
  {
   "cell_type": "markdown",
   "id": "10e3be49",
   "metadata": {},
   "source": [
    "Tel de onderstaande vectoren bij elkaar op:\n",
    "\n",
    "$$\n",
    "  \\begin{pmatrix}\n",
    "    1 & 2 & 3\n",
    "  \\end{pmatrix}\n",
    "  +\n",
    "  \\begin{pmatrix}\n",
    "    9 & 8 & 7\n",
    "  \\end{pmatrix}\n",
    "  =\n",
    "  ...\n",
    "$$"
   ]
  },
  {
   "cell_type": "code",
   "execution_count": 6,
   "id": "3319db0c",
   "metadata": {
    "tags": []
   },
   "outputs": [
    {
     "name": "stdout",
     "output_type": "stream",
     "text": [
      "vec1 has 1 rows and 3 columns.\n",
      "vec2 has 1 rows and 3 columns.\n",
      "[10, 10, 10]\n",
      "{'rows': 1, 'cols': 3, 'data': [10, 10, 10]}\n"
     ]
    }
   ],
   "source": [
    "# Implement both vectors:\n",
    "\n",
    "vec1 = {\"rows\": 1, \"cols\": 3, \"data\": [1,2,3]}\n",
    "vec2 = {\"rows\": 1, \"cols\": 3, \"data\": [9,8,7]}\n",
    "\n",
    "# Can we add them? Check if dimensions are the same:\n",
    "\n",
    "print(f'vec1 has {vec1[\"rows\"]} rows and {vec1[\"cols\"]} columns.')\n",
    "print(f'vec2 has {vec2[\"rows\"]} rows and {vec2[\"cols\"]} columns.')\n",
    "# Yes, we can add them\n",
    "\n",
    "# How do you add these vectors by hand?\n",
    "\n",
    "# pick the first element in the row of vec1 and do the same for vec2, then sum both elements \n",
    "# add the result to a list\n",
    "# go to the next element in each vector, sum them, and add this new nr to the same list\n",
    "# etc until the last element in the vector\n",
    "\n",
    "# Now add the vectors in code:\n",
    "\n",
    "element = 0 # = element-iterator\n",
    "nrOfElements = len(vec1[\"data\"]) # teller om alle elementen te kunnen aflopen\n",
    "#print(nrOfElements, type(nrOfElements))\n",
    "sumOfEls = 0\n",
    "\n",
    "list_total = []\n",
    "\n",
    "while element < nrOfElements:\n",
    "    sumOfEls = (vec1[\"data\"][element] + vec2[\"data\"][element])\n",
    "    list_total.append(sumOfEls)\n",
    "    sumOfEls = 0\n",
    "    element +=1\n",
    "    \n",
    "print(list_total)\n",
    "\n",
    "vec3 = {\"rows\": 1, \"cols\": 3, \"data\": list_total}\n",
    "print(vec3)"
   ]
  },
  {
   "cell_type": "markdown",
   "id": "ecf7d53a",
   "metadata": {},
   "source": [
    "## Matrices"
   ]
  },
  {
   "cell_type": "markdown",
   "id": "aea58d0c",
   "metadata": {},
   "source": [
    "### 1. Een 3 x 3 matrix*"
   ]
  },
  {
   "cell_type": "markdown",
   "id": "8ecdf748",
   "metadata": {},
   "source": [
    "Representeer de onderstaande matrix in code:\n",
    "\n",
    "$$\n",
    "  \\begin{pmatrix}\n",
    "    1 & 2 & 3\\\\\n",
    "    4 & 5 & 6\\\\\n",
    "    7 & 8 & 9\\\\\n",
    "  \\end{pmatrix}\n",
    "$$"
   ]
  },
  {
   "cell_type": "code",
   "execution_count": 23,
   "id": "744a8d77",
   "metadata": {},
   "outputs": [
    {
     "name": "stdout",
     "output_type": "stream",
     "text": [
      "This matrix has 3 rows and 3 columns.\n",
      "This matrix has 9 elements.\n"
     ]
    }
   ],
   "source": [
    "# How many rows and colums does this matrix have?\n",
    "\n",
    "# 3 rows, 3 columns\n",
    "\n",
    "# Use the definition at the top to implement this matrix:\n",
    "\n",
    "mat = {\"rows\": 3, \"cols\": 3, \"data\": [1,2,3,4,5,6,7,8,9]}\n",
    "\n",
    "# Can you print its dimensions? (rows, cols)\n",
    "\n",
    "print(f'This matrix has {mat[\"rows\"]} rows and {mat[\"cols\"]} columns.')\n",
    "\n",
    "# Can you print the number of elements?\n",
    "\n",
    "print(f\"This matrix has {len(mat['data'])} elements.\") \n"
   ]
  },
  {
   "cell_type": "markdown",
   "id": "78d195fb",
   "metadata": {},
   "source": [
    "### 2. Matrices optellen**"
   ]
  },
  {
   "cell_type": "markdown",
   "id": "1554b6d8",
   "metadata": {},
   "source": [
    "Tel de onderstaande matrices op:\n",
    "\n",
    "$$\n",
    "  \\begin{pmatrix}\n",
    "    1 & 2 & 3\\\\\n",
    "    4 & 5 & 6\\\\\n",
    "    7 & 8 & 9\\\\\n",
    "  \\end{pmatrix}\n",
    "  +\n",
    "    \\begin{pmatrix}\n",
    "    9 & 8 & 7\\\\\n",
    "    6 & 5 & 4\\\\\n",
    "    3 & 2 & 1\\\\\n",
    "  \\end{pmatrix}\n",
    "  =\n",
    "  ...\n",
    "$$"
   ]
  },
  {
   "cell_type": "code",
   "execution_count": 25,
   "id": "ac6bd48c",
   "metadata": {},
   "outputs": [
    {
     "name": "stdout",
     "output_type": "stream",
     "text": [
      "mat1 has 3 rows and 3 columns.\n",
      "mat2 has 3 rows and 3 columns.\n",
      "[10, 10, 10, 10, 10, 10, 10, 10, 10]\n",
      "{'rows': 1, 'cols': 3, 'data': [10, 10, 10, 10, 10, 10, 10, 10, 10]}\n"
     ]
    }
   ],
   "source": [
    "# Implement both matrices:\n",
    "\n",
    "mat1 = {\"rows\": 3, \"cols\": 3, \"data\": [1,2,3,4,5,6,7,8,9]}\n",
    "mat2 = {\"rows\": 3, \"cols\": 3, \"data\": [9,8,7,6,5,4,3,2,1]}\n",
    "\n",
    "# Can we add them? Check if dimensions are the same:\n",
    "\n",
    "print(f'mat1 has {mat1[\"rows\"]} rows and {mat1[\"cols\"]} columns.')\n",
    "print(f'mat2 has {mat2[\"rows\"]} rows and {mat2[\"cols\"]} columns.')\n",
    "\n",
    "# Yes, we can add them.\n",
    "\n",
    "# How do you add these matrices by hand?\n",
    "\n",
    "# pick the first element in the row of mat1 and do the same for mat2, then sum both elements \n",
    "# add the result to a list (firstRowList)\n",
    "# for both matrices: go to the next element in the row, sum them, and add this new nr to the same list\n",
    "# repeat until the last element in the first row\n",
    "# ==//==//==//==\n",
    "# Go to the next row and repeat previous steps\n",
    "# ==//==//==//==\n",
    "# Keep going until you've worked your way through all rows and colums (row = 1 list, column = element in that list)\n",
    "\n",
    "# Now add the matrices in code:\n",
    "\n",
    "element = 0 # = element-iterator\n",
    "nrOfElements = len(mat1[\"data\"]) # teller om alle elementen te kunnen aflopen\n",
    "#print(nrOfElements, type(nrOfElements))\n",
    "sumOfEls = 0\n",
    "\n",
    "list_total = []\n",
    "\n",
    "while element < nrOfElements:\n",
    "    sumOfEls = (mat1[\"data\"][element] + mat2[\"data\"][element])\n",
    "    list_total.append(sumOfEls)\n",
    "    sumOfEls = 0\n",
    "    element +=1\n",
    "    \n",
    "print(list_total)\n",
    "\n",
    "mat3 = {\"rows\": 1, \"cols\": 3, \"data\": list_total}\n",
    "print(mat3)\n",
    "\n",
    "# In case you didn't: can you generalize this algorithm?\n",
    "\n",
    "# .."
   ]
  },
  {
   "cell_type": "code",
   "execution_count": 20,
   "id": "64ce1905-8c92-4b14-a2bb-aff86a752411",
   "metadata": {
    "tags": []
   },
   "outputs": [
    {
     "name": "stdout",
     "output_type": "stream",
     "text": [
      "3 <class 'int'>\n"
     ]
    }
   ],
   "source": [
    "element = 0 # = element-iterator\n",
    "nrOfElements = len(mat1[\"data\"][0]) # teller om alle elementen te kunnen aflopen\n",
    "print(nrOfElements, type(nrOfElements))\n"
   ]
  },
  {
   "cell_type": "markdown",
   "id": "7bff9837",
   "metadata": {},
   "source": [
    "### 3. Matrices vermenigvuldigen***"
   ]
  },
  {
   "cell_type": "markdown",
   "id": "4dba734d",
   "metadata": {},
   "source": [
    "Vermenigvuldig de onderstaande matrices:\n",
    "\n",
    "$$\n",
    "  \\begin{pmatrix}\n",
    "    1 & 2 & 3\\\\\n",
    "    4 & 5 & 6\n",
    "  \\end{pmatrix}\n",
    "  *\n",
    "    \\begin{pmatrix}\n",
    "    9 & 8\\\\\n",
    "    6 & 5\\\\\n",
    "    3 & 2\\\\\n",
    "  \\end{pmatrix}\n",
    "  =\n",
    "  ...\n",
    "$$"
   ]
  },
  {
   "cell_type": "code",
   "execution_count": 35,
   "id": "9895aaab",
   "metadata": {
    "tags": []
   },
   "outputs": [
    {
     "name": "stdout",
     "output_type": "stream",
     "text": [
      "We kunnen beide matrices met elkaar vermenigvuldigen. Het aantal rijen in mat1: 2, komt overeen met het aantal kolommen in mat2: 2\n",
      "6 3.0 <class 'int'>\n"
     ]
    }
   ],
   "source": [
    "# Implement both matrices:\n",
    "\n",
    "mat1 = {\"rows\": 2, \"cols\": 3, \"data\": [1,2,3,4,5,6]}\n",
    "mat2 = {\"rows\": 3, \"cols\": 2, \"data\": [9,8,6,5,3,2]}\n",
    "\n",
    "# Can we multiply them? Check if dimensions satisfy the (M by N) * (N by K) = (M by K) rule:\n",
    "\n",
    "if mat1[\"rows\"] == mat2[\"cols\"]:\n",
    "    print(f\"We kunnen beide matrices met elkaar vermenigvuldigen. Het aantal rijen in mat1: {mat1['rows']}, komt overeen met het aantal kolommen in mat2: {mat2['cols']}\")\n",
    "else:\n",
    "    print('Het kan niet.')\n",
    "\n",
    "# How do you multiply these matrices by hand?\n",
    "\n",
    "# 1. mat1: take 1st nr and multiply with: 1st nr of 1st column of mat2  (= 1st nr in list), add to nwList, then\n",
    "# 2. mat1: take 2nd nr and multiply with: 2st nr of 1st column of mat2  (= 3th nr in list), add to nwList, then\n",
    "# 3. mat1: take 3th nr and multiply with: 3th nr of 1st column of mat2  (= 5th nr in list), add to nwList, then\n",
    "\n",
    "# 4. mat1: take 4th nr and multiply with: 1st nr of 2nd column of mat2  (= 2th nr in list), add to nwList, then\n",
    "# 5. mat1: take 5th nr and multiply with: 2nd nr of 2nd column of mat2  (= 4th nr in list), add to nwList, then\n",
    "# 6. mat1: take 6th nr and multiply with: 3th nr of 2nd column of mat2  (= 6th nr in list), add to nwList\n",
    "\n",
    "# Now multiply the matrices in code:\n",
    "\n",
    "element = 0 # = element-iterator\n",
    "nrOfElements = len(mat1[\"data\"]) # teller om alle elementen te kunnen aflopen\n",
    "#print(nrOfElements,(nrOfElements/2) ,type(nrOfElements))\n",
    "prodOfEls = 0\n",
    "\n",
    "# list_total = []\n",
    "\n",
    "# while element < (nrOfElements/2):\n",
    "#     sumOfEls = (mat1[\"data\"][element] + mat2[\"data\"][element])\n",
    "#     list_total.append(sumOfEls)\n",
    "#     sumOfEls = 0\n",
    "#     element +=1\n",
    "    \n",
    "# print(list_total)\n",
    "\n",
    "for element in (nrOfElements/2):\n",
    "    if element%2 == 0: #dus het 'normale nummer' van het element is oneven\n",
    "        prodOfEls = (mat1[\"data\"][element] * mat2[\"data\"][element])\n",
    "        list_total.append(prodOfEls)\n",
    "    elif:\n",
    "        element == 1:\n",
    "        prodOfEls = (mat1[\"data\"][element] * mat2[\"data\"][element])\n",
    "        list_total.append(prodOfEls)\n",
    "    elif:\n",
    "\n",
    "# In case you didn't: can you generalize this algorithm?\n",
    "\n",
    "# .."
   ]
  },
  {
   "cell_type": "code",
   "execution_count": 40,
   "id": "4cac2349-649d-4d1a-ac8c-3a229a794096",
   "metadata": {
    "tags": []
   },
   "outputs": [
    {
     "name": "stdout",
     "output_type": "stream",
     "text": [
      "0\n",
      "1\n"
     ]
    }
   ],
   "source": [
    "print(0%2) # eerste element uit list\n",
    "print(1%2) # = tweede element\n",
    "\n"
   ]
  },
  {
   "cell_type": "code",
   "execution_count": null,
   "id": "ff4d2be5-82c7-4c87-a92b-6d43c0b50451",
   "metadata": {},
   "outputs": [],
   "source": []
  }
 ],
 "metadata": {
  "kernelspec": {
   "display_name": "Python 3 (ipykernel)",
   "language": "python",
   "name": "python3"
  },
  "language_info": {
   "codemirror_mode": {
    "name": "ipython",
    "version": 3
   },
   "file_extension": ".py",
   "mimetype": "text/x-python",
   "name": "python",
   "nbconvert_exporter": "python",
   "pygments_lexer": "ipython3",
   "version": "3.10.9"
  }
 },
 "nbformat": 4,
 "nbformat_minor": 5
}
