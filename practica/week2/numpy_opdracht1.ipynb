{
 "cells": [
  {
   "cell_type": "markdown",
   "id": "b45dd50e-d75c-41d2-a549-110cc111e32b",
   "metadata": {},
   "source": [
    "<div>\n",
    "    <img src='../../pics/banner.PNG'/>\n",
    "</div>\n",
    "<div>\n",
    "    <img width=\"10%\" height=\"10%\" src='../../pics/python-programming.png'/>\n",
    "    <img src='../../pics/miw.PNG'/>\n",
    "</div>\n",
    "<div>\n",
    "    <em>Author: Jeroen Boogaard</em>\n",
    "</div>"
   ]
  },
  {
   "cell_type": "markdown",
   "id": "63f0720b-4a62-479d-873b-c5f6cad9a89d",
   "metadata": {},
   "source": [
    "<h1>Numpy</h1>"
   ]
  },
  {
   "cell_type": "markdown",
   "id": "3619d610-30b3-41a2-b5f0-ae37b9d5b105",
   "metadata": {},
   "source": [
    "**Imports**"
   ]
  },
  {
   "cell_type": "code",
   "execution_count": null,
   "id": "42257a05-c794-4121-a9cf-fe53fa3a1dc1",
   "metadata": {
    "tags": []
   },
   "outputs": [],
   "source": [
    "!pip install opencv-python \n",
    "import cv2\n",
    "import numpy as np\n",
    "import pandas as pd\n",
    "import matplotlib.pyplot as plt\n",
    "from PIL import Image\n",
    "from scipy import ndimage"
   ]
  },
  {
   "cell_type": "markdown",
   "id": "42a2379c-9f57-46c5-9ec0-22422a1a58c3",
   "metadata": {},
   "source": [
    "**Gebruik de numpy methode <i>flip</i> voor het spiegelen van een image**"
   ]
  },
  {
   "cell_type": "markdown",
   "id": "b336b20e-554a-4a10-81f4-10801b857170",
   "metadata": {},
   "source": [
    "<h2>Opdracht 1</h2>\n",
    "<ol>\n",
    "    <li>Spiegel pImg over de hortizontale as en ken de resulterende afbeelding toe aan variabele <u>bImg</u></li>\n",
    "    <li>Spiegel qImg over de hortizontale as en ken de resulterende afbeelding toe aan variabele <u>dImg</u></li>\n",
    "    <li>Geef bImg en dImg naast elkaar weer op de lege plaatsen in het raster</li>    \n",
    "</ol>"
   ]
  },
  {
   "cell_type": "code",
   "execution_count": null,
   "id": "4d0788b6-e28c-4737-b594-dc66819eb9ea",
   "metadata": {
    "tags": []
   },
   "outputs": [],
   "source": [
    "pImg = cv2.imread(\"../../pics/letter_p.png\")\n",
    "\n",
    "# Maak een raster voor 4 images\n",
    "fig, axs = plt.subplots(2, 2, sharey=True)\n",
    " \n",
    "# 1. plaatje linksboven = pImg\n",
    "axs[0][0].imshow(pImg)\n",
    "\n",
    "# 2. Spiegel over de verticale as = plaatje rechtsboven = qImg\n",
    "qImg = np.flip(pImg, axis=1)\n",
    "axs[0][1].imshow(qImg)\n",
    "\n",
    "# 3. plaatje linksonder = pImg gespiegeld over x-as = bImg\n",
    "bImg = np.flip(pImg, axis=0)\n",
    "axs[1][0].imshow(bImg)\n",
    "\n",
    "# 3. plaatje rechtsonder = qImg gespiegeld over x-as = dImg\n",
    "dImg = np.flip(qImg, axis=0)\n",
    "axs[1][1].imshow(dImg)"
   ]
  },
  {
   "cell_type": "markdown",
   "id": "8e48110a-ff83-4fba-aab9-7cb3678fe668",
   "metadata": {},
   "source": [
    "<h2>Opdracht 2</h2>"
   ]
  },
  {
   "cell_type": "markdown",
   "id": "47ac5b87-14b1-437e-91cb-93dadadef8f9",
   "metadata": {},
   "source": [
    "<h3>Gegeven</h3>"
   ]
  },
  {
   "cell_type": "markdown",
   "id": "8605ba6e-3f4e-4fe1-b76f-c784f2f44735",
   "metadata": {},
   "source": [
    "Planeet | Grootte to.v. de omvang van de Aarde\n",
    "---|---\n",
    "Jupiter | 1120%\n",
    "Saturnus | 945%\n",
    "Uranus | 400%\n",
    "Neptunus | 388%\n",
    "Aarde| 100%\n",
    "Venus | 95%\n",
    "Mars | 53%\n",
    "Mercury | 33%"
   ]
  },
  {
   "cell_type": "code",
   "execution_count": null,
   "id": "2b471d98-c5b0-4db0-a1c6-155094548c23",
   "metadata": {
    "tags": []
   },
   "outputs": [],
   "source": [
    "filename = \"../../csv/planets.csv\""
   ]
  },
  {
   "cell_type": "markdown",
   "id": "ad98fa30-0e0a-4ec4-9930-b63db74c11f2",
   "metadata": {},
   "source": [
    "<h3>Gevraagd</h3>\n",
    "<p>\n",
    "Schaal voor elke (erkende) planeet uit ons zonnestelsel de bijbehorende image t.o.v. van de aarde. Het geschaalde plaatje moet groter zijn dan het plaatje van de aarde als de bijbehorende planeet groter is dan de aarde. Is de planeet kleiner dan de aarde dan moet het nieuwe plaatje kleiner zijn. Gebruik voor de schaalfactor het percentage. \n",
    "<br>Tip: Indien nodig kun je de images normaliseren door eerst het plaatje van de aarde naar de gete schalen.\n",
    "</p>"
   ]
  },
  {
   "cell_type": "markdown",
   "id": "c0c854fb-54db-4baa-b149-2e7d0c1b6391",
   "metadata": {},
   "source": [
    "<h3>Oplossing</h3>\n",
    "<ol>\n",
    "    <li>\n",
    "        <strong>Open het bestand csv/planets.csv en voeg daar de kolom <i>image</i></strong>\n",
    "    </li>\n",
    "    <li>\n",
    "        <strong>Importeer het csv-bestand en sla de data op in een dictionary</strong>\n",
    "    </li>\n",
    "    <li>\n",
    "        <strong>Open een image uit van een item uit de dictionary</strong>\n",
    "    </li>\n",
    "    <li>\n",
    "        <strong>Schaal de image m.b.v. een <i>numpy array</i></strong>\n",
    "    </li>\n",
    "    <li>\n",
    "        <strong>Sla de geschaalde image op</strong>\n",
    "    </li>\n",
    "    <li>\n",
    "        <strong>Schrijf een functie voor het schalen van een image</strong>\n",
    "    </li>    \n",
    "    <li>\n",
    "        <strong>Maak een loop waarbij voor elke planeet een geschaalde image wordt gemaakt en opgelagen</strong>\n",
    "    </li>    \n",
    "</ol>    "
   ]
  },
  {
   "cell_type": "markdown",
   "id": "b2a7b7fb-56b3-43f7-a6b5-34adc057c3d1",
   "metadata": {},
   "source": [
    "**Stap 2: Importeer het csv-bestand en sla de data op in een dictionary**"
   ]
  },
  {
   "cell_type": "markdown",
   "id": "213cf4c9-63ff-4519-ad16-86049a683499",
   "metadata": {},
   "source": [
    "Onderstaande code importeert de data in een pandas dataframe???"
   ]
  },
  {
   "cell_type": "code",
   "execution_count": null,
   "id": "cbcb0e9b-46f8-490d-9a85-eb29037a93cb",
   "metadata": {
    "tags": []
   },
   "outputs": [],
   "source": [
    "planetDataFrame = pd.read_csv(filename, header = 0, sep = ',')\n",
    "type(planetDataFrame)\n"
   ]
  },
  {
   "cell_type": "code",
   "execution_count": null,
   "id": "25d64b4e-bb2e-4aba-b058-60b8220c9b1b",
   "metadata": {
    "tags": []
   },
   "outputs": [],
   "source": [
    "print(planetDataFrame)"
   ]
  },
  {
   "cell_type": "code",
   "execution_count": null,
   "id": "42b9e0d3-1a08-4222-ba7c-3170fb920e84",
   "metadata": {
    "tags": []
   },
   "outputs": [],
   "source": [
    "print(planetDataFrame.columns)"
   ]
  },
  {
   "cell_type": "markdown",
   "id": "9d9d8c73-c8fa-41b0-848c-04741aa06bbf",
   "metadata": {},
   "source": [
    "**Stap 3: Open een image uit van een item uit de dictionary**"
   ]
  },
  {
   "cell_type": "code",
   "execution_count": null,
   "id": "83d43bb9-694e-4390-a8a3-30f6535f6591",
   "metadata": {
    "tags": []
   },
   "outputs": [],
   "source": [
    "img = Image.open('../../pics/earth.jpg')\n",
    "type(img)\n",
    "img.show()"
   ]
  },
  {
   "cell_type": "markdown",
   "id": "645b438b-324d-427c-9efd-d621e37445f7",
   "metadata": {
    "tags": []
   },
   "source": [
    "**Stap 4: Schaal de image m.b.v. een numpy array**"
   ]
  },
  {
   "cell_type": "code",
   "execution_count": null,
   "id": "8894e6bd-6237-4cf6-8d95-222d6a3be56e",
   "metadata": {
    "tags": []
   },
   "outputs": [],
   "source": [
    "array = np.array(img)\n",
    "type(array)\n",
    "scaleFactor = 1\n",
    "scaleArray = ndimage.zoom(array, (scaleFactor, scaleFactor, 1))\n",
    "imgScaled = Image.fromarray(scaleArray)\n",
    "imgScaled.show()"
   ]
  },
  {
   "cell_type": "markdown",
   "id": "8611929d-d109-4f62-881f-b8a64db1e648",
   "metadata": {},
   "source": [
    "**Stap 5: Sla de geschaalde image op**"
   ]
  },
  {
   "cell_type": "code",
   "execution_count": null,
   "id": "2e34fa25-3cc3-4e5f-b29a-7793e505db61",
   "metadata": {
    "tags": []
   },
   "outputs": [],
   "source": [
    "imgScaled.save(img.filename.replace(\".jpg\",\"_scaled.jpg\"))"
   ]
  },
  {
   "cell_type": "markdown",
   "id": "f142ebe1-f561-447b-8e2e-e8855b20cd50",
   "metadata": {},
   "source": [
    "**Stap 6: Schrijf een functie voor het schalen van een image**"
   ]
  },
  {
   "cell_type": "code",
   "execution_count": null,
   "id": "f7997929-0b33-46f6-9746-85f2679d288d",
   "metadata": {},
   "outputs": [],
   "source": [
    "# Oplossing: \n",
    "# De grootte van de aarde (zie kolom 'Diameter') is het uitgangspunt (scaleFactor = 1)\n",
    "# Hoe kan ik de diameter van de aarde uit het df destilleren? \n",
    "\n",
    "#https://www.w3schools.com/python/pandas/pandas_dataframes.asp\n",
    "# a DataFrame is like a table with rows and columns\n",
    "#print alle info over Earth (= regel 2) - gebruik '.loc[indexnr vd regel]\n",
    "#print(planetDataFrame.loc[2])\n",
    "\n",
    "\n",
    "def scalePlanetImgs(img1, scaleFactor1):\n",
    "    array = np.array(img)\n",
    "    type(array)\n",
    "    scaleArray = ndimage.zoom(array, (scaleFactor1, scaleFactor1, 1))\n",
    "    imgScaled1 = Image.fromarray(scaleArray)\n",
    "    return imgScaled1\n"
   ]
  },
  {
   "cell_type": "code",
   "execution_count": null,
   "id": "2340afd9-0e4b-4d49-93ca-9dfa1f85aef4",
   "metadata": {
    "tags": []
   },
   "outputs": [],
   "source": [
    "# Maak in het df een kolom met de Scalefactor diameter Planeet / diameter Aarde\n",
    "# diamEarth =  planetDataFrame[' Diameter'][2]  # = 12756.3\n",
    "# planetDataFrame['Scalefact'] = planetDataFrame[' Diameter'] / diamEarth\n",
    "# print(planetDataFrame)"
   ]
  },
  {
   "cell_type": "markdown",
   "id": "5a550077-c83c-4af2-96fa-7a32158d5198",
   "metadata": {},
   "source": [
    "**Stap 7: Maak een loop waarbij voor elke planeet een geschaalde image wordt gemaakt en opgelagen**"
   ]
  },
  {
   "cell_type": "code",
   "execution_count": null,
   "id": "bcd17539-c85a-42a4-b84c-681764682f60",
   "metadata": {
    "tags": []
   },
   "outputs": [],
   "source": [
    "# Oplossing\n",
    "\n",
    "\n",
    "diam = planetDataFrame[' Diameter']\n",
    "name = planetDataFrame['Name']\n",
    "scale = 0\n",
    "\n",
    "for i in range(len(diam)):\n",
    "    scale = diam[i]/diam[2]\n",
    "    planet = name[i].lower() # de planeetnamen in de df beginnen met hoofdletters, terwijl in csv met kleine letters - daarom .lower() inzetten\n",
    "    # mbv fuctie plaatjes gaan omzetten\n",
    "    img = Image.open(f'../../pics/{planet}.jpg')\n",
    "    imgScaled = scalePlanetImgs(img, scale)\n",
    "    imgScaled.save(img.filename.replace(\".jpg\",\"_scaled.jpg\"))\n",
    "    planetDataFrame.loc[planetDataFrame['Name']==planet.title(), 'Image'] = img.filename.replace(\".jpg\",\"_scaled.jpg\")\n",
    "    i += 1\n"
   ]
  },
  {
   "cell_type": "code",
   "execution_count": null,
   "id": "17571c87-9cd7-4893-992c-06b847eb88f8",
   "metadata": {},
   "outputs": [],
   "source": [
    "print(planetDataFrame)"
   ]
  },
  {
   "cell_type": "markdown",
   "id": "03ac855f-3986-4b4a-823c-10c6d8b33024",
   "metadata": {},
   "source": [
    "</ol>"
   ]
  },
  {
   "cell_type": "markdown",
   "id": "0be19a7e-a00f-4773-a19a-50b07618f856",
   "metadata": {},
   "source": [
    "\n"
   ]
  }
 ],
 "metadata": {
  "kernelspec": {
   "display_name": "Python 3 (ipykernel)",
   "language": "python",
   "name": "python3"
  },
  "language_info": {
   "codemirror_mode": {
    "name": "ipython",
    "version": 3
   },
   "file_extension": ".py",
   "mimetype": "text/x-python",
   "name": "python",
   "nbconvert_exporter": "python",
   "pygments_lexer": "ipython3",
   "version": "3.10.9"
  }
 },
 "nbformat": 4,
 "nbformat_minor": 5
}
