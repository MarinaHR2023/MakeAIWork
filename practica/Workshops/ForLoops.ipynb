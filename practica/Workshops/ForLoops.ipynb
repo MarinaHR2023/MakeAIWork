{
 "cells": [
  {
   "cell_type": "markdown",
   "id": "ed512e84-c303-4c56-8246-b8d011a9d935",
   "metadata": {},
   "source": [
    "# Workshop FOR Loops"
   ]
  },
  {
   "cell_type": "code",
   "execution_count": 13,
   "id": "fde27ec7-6885-4aee-ba29-7bdac664f2c0",
   "metadata": {},
   "outputs": [],
   "source": [
    "import math\n",
    "import numpy as np\n",
    "import pandas as pd\n"
   ]
  },
  {
   "cell_type": "code",
   "execution_count": 7,
   "id": "be62815a-0005-4721-848f-f4e45b0b57dd",
   "metadata": {},
   "outputs": [],
   "source": [
    "# twee lijsten definieren\n",
    "X = [0, 1, 2, 3, 4] # Hoofdletter wijst op een lijst\n",
    "Y = [1, 2, 3, 4, 5]"
   ]
  },
  {
   "cell_type": "code",
   "execution_count": 8,
   "id": "c24a13c5-07d3-4d86-a50b-68e37e87ce38",
   "metadata": {},
   "outputs": [],
   "source": [
    "# Define function to compute average with for loop\n",
    "def average(N):\n",
    "    total = 0\n",
    "\n",
    "    for n in N:\n",
    "        total = total + n\n",
    "        \n",
    "    return total / len(N)"
   ]
  },
  {
   "cell_type": "code",
   "execution_count": 12,
   "id": "87402332-b674-4a40-8f12-87fe11ff9f86",
   "metadata": {},
   "outputs": [
    {
     "data": {
      "text/plain": [
       "2.0"
      ]
     },
     "metadata": {},
     "output_type": "display_data"
    },
    {
     "data": {
      "text/plain": [
       "3.0"
      ]
     },
     "metadata": {},
     "output_type": "display_data"
    }
   ],
   "source": [
    "# compute the averager of X(avgX)\n",
    "avgX = average(X)\n",
    "avgY = average(Y)\n",
    "\n",
    "display(avgX)\n",
    "display(avgY)"
   ]
  },
  {
   "cell_type": "code",
   "execution_count": 20,
   "id": "6098e6eb-966a-4870-9507-895c5cb1cad5",
   "metadata": {},
   "outputs": [],
   "source": [
    "# In de eerste functie neem je het gemiddelde van N over uit de functie waarin je het gemiddelde berekent\n",
    "def variation1(N, avgN):\n",
    "    total = 0\n",
    "\n",
    "    for n in N:\n",
    "        total += (n - avgN)**2\n",
    "    \n",
    "    \n",
    "    return math.sqrt(total /len(X))\n",
    "\n",
    "#In de onderstaande functie bereken je het gemiddelde van N binnen de functie - dat is geen probleem met een klein aantal datapunten, maar met miljoen datapunten wordt dat wel belastend.\n",
    "\n",
    "def variation2(N):\n",
    "    avgN = average(N)\n",
    "    total = 0\n",
    "\n",
    "    for n in N:\n",
    "        total += (n - avgN)**2\n",
    "    \n",
    "    \n",
    "    return math.sqrt(total /len(X))"
   ]
  },
  {
   "cell_type": "code",
   "execution_count": 21,
   "id": "ee0753ce-0fd0-43cd-b104-436d7ed99d2e",
   "metadata": {},
   "outputs": [
    {
     "data": {
      "text/plain": [
       "1.4142135623730951"
      ]
     },
     "metadata": {},
     "output_type": "display_data"
    }
   ],
   "source": [
    "# Compute the standard deviation \n",
    "#(waarde x - avgX)**2 voor elke x en telkens sommeren \n",
    "total = 0\n",
    "\n",
    "for x in X:\n",
    "    total += (x - avgX)**2\n",
    "    \n",
    "    \n",
    "sigma = math.sqrt(total /len(X))\n",
    "\n",
    "display(sigma)"
   ]
  },
  {
   "cell_type": "code",
   "execution_count": 24,
   "id": "d7323afa-b0c8-40cb-af81-ff6737429267",
   "metadata": {},
   "outputs": [
    {
     "data": {
      "text/plain": [
       "1.4142135623730951"
      ]
     },
     "metadata": {},
     "output_type": "display_data"
    },
    {
     "data": {
      "text/plain": [
       "1.4142135623730951"
      ]
     },
     "metadata": {},
     "output_type": "display_data"
    }
   ],
   "source": [
    "# bereken de standaarddeviaties\n",
    "stdX =  variation1(X, avgX)\n",
    "display(stdX)\n",
    "\n",
    "stdY =  variation2(Y)\n",
    "display(stdY)"
   ]
  },
  {
   "cell_type": "code",
   "execution_count": 32,
   "id": "1e600cf5-fe1f-4f2c-8838-4d6a420d986b",
   "metadata": {},
   "outputs": [
    {
     "data": {
      "text/plain": [
       "0.9999999999999998"
      ]
     },
     "metadata": {},
     "output_type": "display_data"
    }
   ],
   "source": [
    "total = 0\n",
    "\n",
    "for x,y in zip(X,Y):\n",
    "    total += (x - avgX) * (y - avgY)\n",
    "display(total/ (len(X) * stdX * stdY))\n"
   ]
  },
  {
   "cell_type": "markdown",
   "id": "5cc07858-8048-4dc4-8275-4662ca6eb519",
   "metadata": {},
   "source": [
    "- Als je ooit een bepaalde schrijfwijze in python wil proberen, doe dat dan en zet op de volgende regel (in de functie) alleen het woord 'pass' en run de cel \n",
    "- Hierboven laat je x en y in een keer door 2 lijsten (X en Y) lopen. Dat is mogelijk omdat je beide lijsten ' gezipt'  hebt"
   ]
  },
  {
   "cell_type": "code",
   "execution_count": 38,
   "id": "eb88f8c3-c0da-4de9-92e8-e0ae90363abc",
   "metadata": {},
   "outputs": [],
   "source": [
    "# Write pearsonCorrelation as af function\n",
    "def pearsonCorrelation(N,M):\n",
    "    avgN = average(N)\n",
    "    avgM = average(M)\n",
    "    stdN = variation1(N, avgN)\n",
    "    stdM = variation1(M, avgM)\n",
    "    total = 0\n",
    "    \n",
    "    for n,m in zip(N,M):\n",
    "        total += (n - avgN) * (m - avgM)\n",
    "    \n",
    "    return total/ (len(N) * stdN * stdM)\n",
    "    "
   ]
  },
  {
   "cell_type": "code",
   "execution_count": 39,
   "id": "f862366b-6203-418c-a67b-d05254ce49c4",
   "metadata": {},
   "outputs": [
    {
     "data": {
      "text/plain": [
       "0.9999999999999998"
      ]
     },
     "metadata": {},
     "output_type": "display_data"
    }
   ],
   "source": [
    "display(pearsonCorrelation(X,Y))"
   ]
  },
  {
   "cell_type": "code",
   "execution_count": 40,
   "id": "6c83301c-99f8-4d1a-a7bb-20877a3b8010",
   "metadata": {},
   "outputs": [],
   "source": [
    "# Let's use the dataset of project 1\n",
    "lsd = pd.read_csv('data-project-1-cleaned.csv')"
   ]
  },
  {
   "cell_type": "code",
   "execution_count": 41,
   "id": "1a796db2-bd57-474a-a504-cdf7fcc2bd8d",
   "metadata": {},
   "outputs": [
    {
     "data": {
      "text/html": [
       "<div>\n",
       "<style scoped>\n",
       "    .dataframe tbody tr th:only-of-type {\n",
       "        vertical-align: middle;\n",
       "    }\n",
       "\n",
       "    .dataframe tbody tr th {\n",
       "        vertical-align: top;\n",
       "    }\n",
       "\n",
       "    .dataframe thead th {\n",
       "        text-align: right;\n",
       "    }\n",
       "</style>\n",
       "<table border=\"1\" class=\"dataframe\">\n",
       "  <thead>\n",
       "    <tr style=\"text-align: right;\">\n",
       "      <th></th>\n",
       "      <th>genetic</th>\n",
       "      <th>length</th>\n",
       "      <th>mass</th>\n",
       "      <th>exercise</th>\n",
       "      <th>smoking</th>\n",
       "      <th>alcohol</th>\n",
       "      <th>sugar</th>\n",
       "      <th>lifespan</th>\n",
       "    </tr>\n",
       "  </thead>\n",
       "  <tbody>\n",
       "    <tr>\n",
       "      <th>genetic</th>\n",
       "      <td>1.000000</td>\n",
       "      <td>-0.029606</td>\n",
       "      <td>0.000513</td>\n",
       "      <td>-0.035005</td>\n",
       "      <td>-0.015490</td>\n",
       "      <td>-0.013170</td>\n",
       "      <td>0.018785</td>\n",
       "      <td>0.949799</td>\n",
       "    </tr>\n",
       "    <tr>\n",
       "      <th>length</th>\n",
       "      <td>-0.029606</td>\n",
       "      <td>1.000000</td>\n",
       "      <td>0.000106</td>\n",
       "      <td>0.011401</td>\n",
       "      <td>-0.020691</td>\n",
       "      <td>-0.007162</td>\n",
       "      <td>0.007860</td>\n",
       "      <td>0.013155</td>\n",
       "    </tr>\n",
       "    <tr>\n",
       "      <th>mass</th>\n",
       "      <td>0.000513</td>\n",
       "      <td>0.000106</td>\n",
       "      <td>1.000000</td>\n",
       "      <td>0.008204</td>\n",
       "      <td>-0.009541</td>\n",
       "      <td>0.000726</td>\n",
       "      <td>0.005601</td>\n",
       "      <td>-0.066040</td>\n",
       "    </tr>\n",
       "    <tr>\n",
       "      <th>exercise</th>\n",
       "      <td>-0.035005</td>\n",
       "      <td>0.011401</td>\n",
       "      <td>0.008204</td>\n",
       "      <td>1.000000</td>\n",
       "      <td>0.021512</td>\n",
       "      <td>-0.024521</td>\n",
       "      <td>-0.008328</td>\n",
       "      <td>0.082986</td>\n",
       "    </tr>\n",
       "    <tr>\n",
       "      <th>smoking</th>\n",
       "      <td>-0.015490</td>\n",
       "      <td>-0.020691</td>\n",
       "      <td>-0.009541</td>\n",
       "      <td>0.021512</td>\n",
       "      <td>1.000000</td>\n",
       "      <td>-0.012298</td>\n",
       "      <td>0.008925</td>\n",
       "      <td>-0.246140</td>\n",
       "    </tr>\n",
       "    <tr>\n",
       "      <th>alcohol</th>\n",
       "      <td>-0.013170</td>\n",
       "      <td>-0.007162</td>\n",
       "      <td>0.000726</td>\n",
       "      <td>-0.024521</td>\n",
       "      <td>-0.012298</td>\n",
       "      <td>1.000000</td>\n",
       "      <td>0.003860</td>\n",
       "      <td>-0.063539</td>\n",
       "    </tr>\n",
       "    <tr>\n",
       "      <th>sugar</th>\n",
       "      <td>0.018785</td>\n",
       "      <td>0.007860</td>\n",
       "      <td>0.005601</td>\n",
       "      <td>-0.008328</td>\n",
       "      <td>0.008925</td>\n",
       "      <td>0.003860</td>\n",
       "      <td>1.000000</td>\n",
       "      <td>-0.010887</td>\n",
       "    </tr>\n",
       "    <tr>\n",
       "      <th>lifespan</th>\n",
       "      <td>0.949799</td>\n",
       "      <td>0.013155</td>\n",
       "      <td>-0.066040</td>\n",
       "      <td>0.082986</td>\n",
       "      <td>-0.246140</td>\n",
       "      <td>-0.063539</td>\n",
       "      <td>-0.010887</td>\n",
       "      <td>1.000000</td>\n",
       "    </tr>\n",
       "  </tbody>\n",
       "</table>\n",
       "</div>"
      ],
      "text/plain": [
       "           genetic    length      mass  exercise   smoking   alcohol  \\\n",
       "genetic   1.000000 -0.029606  0.000513 -0.035005 -0.015490 -0.013170   \n",
       "length   -0.029606  1.000000  0.000106  0.011401 -0.020691 -0.007162   \n",
       "mass      0.000513  0.000106  1.000000  0.008204 -0.009541  0.000726   \n",
       "exercise -0.035005  0.011401  0.008204  1.000000  0.021512 -0.024521   \n",
       "smoking  -0.015490 -0.020691 -0.009541  0.021512  1.000000 -0.012298   \n",
       "alcohol  -0.013170 -0.007162  0.000726 -0.024521 -0.012298  1.000000   \n",
       "sugar     0.018785  0.007860  0.005601 -0.008328  0.008925  0.003860   \n",
       "lifespan  0.949799  0.013155 -0.066040  0.082986 -0.246140 -0.063539   \n",
       "\n",
       "             sugar  lifespan  \n",
       "genetic   0.018785  0.949799  \n",
       "length    0.007860  0.013155  \n",
       "mass      0.005601 -0.066040  \n",
       "exercise -0.008328  0.082986  \n",
       "smoking   0.008925 -0.246140  \n",
       "alcohol   0.003860 -0.063539  \n",
       "sugar     1.000000 -0.010887  \n",
       "lifespan -0.010887  1.000000  "
      ]
     },
     "execution_count": 41,
     "metadata": {},
     "output_type": "execute_result"
    }
   ],
   "source": [
    "lsd.corr()"
   ]
  },
  {
   "cell_type": "code",
   "execution_count": 43,
   "id": "520a71d8-4a32-4d9f-ad69-63b75818cac8",
   "metadata": {},
   "outputs": [
    {
     "data": {
      "text/plain": [
       "0.0011628292780951578"
      ]
     },
     "metadata": {},
     "output_type": "display_data"
    }
   ],
   "source": [
    "# Let's check\n",
    "display(pearsonCorrelation(lsd['genetic'], lsd['lifespan']))"
   ]
  },
  {
   "cell_type": "code",
   "execution_count": 44,
   "id": "c4aee1b6-02ac-40a9-accc-d64c12d00c13",
   "metadata": {},
   "outputs": [
    {
     "data": {
      "text/plain": [
       "array([[1.        , 0.94979895],\n",
       "       [0.94979895, 1.        ]])"
      ]
     },
     "metadata": {},
     "output_type": "display_data"
    }
   ],
   "source": [
    "# Let's double check\n",
    "display(np.corrcoef(lsd['genetic'],lsd['lifespan']))"
   ]
  },
  {
   "cell_type": "code",
   "execution_count": null,
   "id": "0071525e-1f47-4bc1-ac32-fad0c992ac3d",
   "metadata": {},
   "outputs": [],
   "source": []
  }
 ],
 "metadata": {
  "kernelspec": {
   "display_name": "Python 3 (ipykernel)",
   "language": "python",
   "name": "python3"
  },
  "language_info": {
   "codemirror_mode": {
    "name": "ipython",
    "version": 3
   },
   "file_extension": ".py",
   "mimetype": "text/x-python",
   "name": "python",
   "nbconvert_exporter": "python",
   "pygments_lexer": "ipython3",
   "version": "3.10.9"
  }
 },
 "nbformat": 4,
 "nbformat_minor": 5
}
