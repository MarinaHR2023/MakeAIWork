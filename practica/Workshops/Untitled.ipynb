{
 "cells": [
  {
   "cell_type": "markdown",
   "id": "ed512e84-c303-4c56-8246-b8d011a9d935",
   "metadata": {},
   "source": [
    "# Workshop FOR Loops"
   ]
  },
  {
   "cell_type": "code",
   "execution_count": 2,
   "id": "fde27ec7-6885-4aee-ba29-7bdac664f2c0",
   "metadata": {},
   "outputs": [],
   "source": [
    "import numpy as np\n",
    "import pandas as pd\n"
   ]
  },
  {
   "cell_type": "code",
   "execution_count": 7,
   "id": "be62815a-0005-4721-848f-f4e45b0b57dd",
   "metadata": {},
   "outputs": [],
   "source": [
    "# twee lijsten definieren\n",
    "X = [0, 1, 2, 3, 4] # Hoofdletter wijst op een lijst\n",
    "Y = [1, 2, 3, 4, 5]"
   ]
  },
  {
   "cell_type": "code",
   "execution_count": 8,
   "id": "c24a13c5-07d3-4d86-a50b-68e37e87ce38",
   "metadata": {},
   "outputs": [],
   "source": [
    "# Define function to compute average with for loop\n",
    "def average(N):\n",
    "    total = 0\n",
    "\n",
    "    for n in N:\n",
    "        total = total + n\n",
    "        \n",
    "    return total / len(N)"
   ]
  },
  {
   "cell_type": "code",
   "execution_count": 12,
   "id": "87402332-b674-4a40-8f12-87fe11ff9f86",
   "metadata": {},
   "outputs": [
    {
     "data": {
      "text/plain": [
       "2.0"
      ]
     },
     "metadata": {},
     "output_type": "display_data"
    },
    {
     "data": {
      "text/plain": [
       "3.0"
      ]
     },
     "metadata": {},
     "output_type": "display_data"
    }
   ],
   "source": [
    "# compute the averager of X(avgX)\n",
    "avgX = average(X)\n",
    "avgY = average(Y)\n",
    "\n",
    "display(avgX)\n",
    "display(avgY)"
   ]
  },
  {
   "cell_type": "code",
   "execution_count": null,
   "id": "ee0753ce-0fd0-43cd-b104-436d7ed99d2e",
   "metadata": {},
   "outputs": [],
   "source": [
    "# Compute the standard deviation \n",
    "#(waarde x - avgX)**2 voor elke x en telkens sommeren \n"
   ]
  }
 ],
 "metadata": {
  "kernelspec": {
   "display_name": "Python 3 (ipykernel)",
   "language": "python",
   "name": "python3"
  },
  "language_info": {
   "codemirror_mode": {
    "name": "ipython",
    "version": 3
   },
   "file_extension": ".py",
   "mimetype": "text/x-python",
   "name": "python",
   "nbconvert_exporter": "python",
   "pygments_lexer": "ipython3",
   "version": "3.10.9"
  }
 },
 "nbformat": 4,
 "nbformat_minor": 5
}
