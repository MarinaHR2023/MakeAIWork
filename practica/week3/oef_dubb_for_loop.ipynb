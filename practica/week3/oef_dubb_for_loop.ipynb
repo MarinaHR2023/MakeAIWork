{
 "cells": [
  {
   "cell_type": "markdown",
   "id": "1b9b26ed-1afd-4053-854e-22db5d3e0997",
   "metadata": {},
   "source": [
    "# Dubbele for - loop\n"
   ]
  },
  {
   "cell_type": "code",
   "execution_count": 2,
   "id": "bf9970e9-58b0-4158-b17a-78ae5fe6efed",
   "metadata": {
    "tags": []
   },
   "outputs": [
    {
     "name": "stdout",
     "output_type": "stream",
     "text": [
      "file-1-loop-21\n",
      "file-1-loop-22\n",
      "file-1-loop-23\n",
      "file-1-loop-24\n",
      "file-2-loop-21\n",
      "file-2-loop-22\n",
      "file-2-loop-23\n",
      "file-2-loop-24\n",
      "file-3-loop-21\n",
      "file-3-loop-22\n",
      "file-3-loop-23\n",
      "file-3-loop-24\n",
      "file-4-loop-21\n",
      "file-4-loop-22\n",
      "file-4-loop-23\n",
      "file-4-loop-24\n"
     ]
    }
   ],
   "source": [
    "# Try this:\n",
    "\n",
    "for md in range(1,5):\n",
    "   for pico in range(21,25):\n",
    "      print (\"file-{0}-loop-{1}\".format(md, pico))"
   ]
  },
  {
   "cell_type": "code",
   "execution_count": 4,
   "id": "6e10f442-dcf3-469d-9d9f-fdb28d548aa7",
   "metadata": {
    "tags": []
   },
   "outputs": [
    {
     "name": "stdout",
     "output_type": "stream",
     "text": [
      "Eerste loop-1, tweede loop-21\n",
      "Eerste loop-1, tweede loop-22\n",
      "Eerste loop-1, tweede loop-23\n",
      "Eerste loop-1, tweede loop-24\n",
      "Eerste loop-2, tweede loop-21\n",
      "Eerste loop-2, tweede loop-22\n",
      "Eerste loop-2, tweede loop-23\n",
      "Eerste loop-2, tweede loop-24\n",
      "Eerste loop-3, tweede loop-21\n",
      "Eerste loop-3, tweede loop-22\n",
      "Eerste loop-3, tweede loop-23\n",
      "Eerste loop-3, tweede loop-24\n",
      "Eerste loop-4, tweede loop-21\n",
      "Eerste loop-4, tweede loop-22\n",
      "Eerste loop-4, tweede loop-23\n",
      "Eerste loop-4, tweede loop-24\n"
     ]
    }
   ],
   "source": [
    "for md in range(1,5):\n",
    "   for pico in range(21,25):\n",
    "      print (\"Eerste loop-{0}, tweede loop-{1}\".format(md, pico))"
   ]
  },
  {
   "cell_type": "code",
   "execution_count": null,
   "id": "ad6a6532-b375-4ee0-acdf-55e7d19cee6d",
   "metadata": {},
   "outputs": [],
   "source": [
    "# Matrixvermenigvuldiging (zie opgaven vorige week) met een dubbele for-loop, volgens dit schema bouwen:\n",
    "\n",
    "# Check if sizes match mxn nxp\n",
    "   \n",
    "#     # Create empty list\n",
    "#     m2 = list()\n",
    "   \n",
    "#     # Multiply all elements from rows of m0 with all elements of cols of m1\n",
    "#       # for all rows in m0\n",
    "   \n",
    "#         # for all cols in m1\n",
    "       \n",
    "#             m2[i][j] = # cominatie element van m0 en element van m1\n",
    "   \n",
    "#     return m2"
   ]
  },
  {
   "cell_type": "code",
   "execution_count": 5,
   "id": "5882a35b-4351-48b9-ba32-31ca1e018317",
   "metadata": {
    "tags": []
   },
   "outputs": [
    {
     "name": "stdout",
     "output_type": "stream",
     "text": [
      "We kunnen beide matrices met elkaar vermenigvuldigen. Het aantal rijen in mat1: 2, komt overeen met het aantal kolommen in mat2: 2\n",
      "sumOfProd = 30\n",
      "total_list = [30]\n",
      "sumOfProd = 24\n",
      "total_list = [30, 24]\n",
      "sumOfProd = 84\n",
      "total_list = [30, 24, 84]\n",
      "sumOfProd = 69\n",
      "total_list = [30, 24, 84, 69]\n",
      "De nieuwe matrix ziet er zo uit: {'rows': 2, 'cols': 2, 'data': [30, 24, 84, 69]}\n"
     ]
    }
   ],
   "source": [
    "# Oorspronkelijke oplossing\n",
    "\n",
    "# Implement both matrices:\n",
    "\n",
    "mat1 = {\"rows\": 2, \"cols\": 3, \"data\": [1,2,3,4,5,6]}\n",
    "mat2 = {\"rows\": 3, \"cols\": 2, \"data\": [9,8,6,5,3,2]}\n",
    "\n",
    "# Can we multiply them? Check if dimensions satisfy the (M by N) * (N by K) = (M by K) rule:\n",
    "\n",
    "if mat1[\"rows\"] == mat2[\"cols\"]:\n",
    "    print(f\"We kunnen beide matrices met elkaar vermenigvuldigen. Het aantal rijen in mat1: {mat1['rows']}, komt overeen met het aantal kolommen in mat2: {mat2['cols']}\")\n",
    "else:\n",
    "    print('Het kan niet.')\n",
    "\n",
    "# How do you multiply these matrices by hand?\n",
    "\n",
    "# Bovenste rij (= eerste helft elementen) mat 1 * eerste kolom (= even elementen) van mat 2\n",
    "# Bovenste rij (= eerste helft elementen) mat 1 * tweede kolom (= oneven elementen) van mat 2\n",
    "\n",
    "# Onderste rij (= tweede helft elementen) mat 1 * eerste kolom (= even elementen) van mat 2\n",
    "# Onderste rij (= tweede helft elementen) mat 1 * tweede kolom (= oneven elementen) van mat 2\n",
    "\n",
    "# Now multiply the matrices in code:\n",
    "\n",
    "\n",
    "nrOfElementsM1 = int(len(mat1[\"data\"])) # range om alle elementen te kunnen aflopen\n",
    "nrOfElementsM2 = int(len(mat2[\"data\"])) # range om alle elementen te kunnen aflopen\n",
    "#print(nrOfElements,int(nrOfElements/2) ,type(nrOfElements))\n",
    "\n",
    "el1 = 0 # het eerste element van mat1\n",
    "el2 = 0 # het eerste element van mat2, moet met 2 opgehoogd worden en aan het begin van de volgende loop op 1 (en dan weer met 2 opgehoogd)\n",
    "mat1R = 0 # matrix1 - regelelement, kan in range 0 tot 2 (= regel 1, 2)\n",
    "mat2R = 0 # idem matrix2, kan in range 0 tot 3 (= regel 1, 2,3)\n",
    "mat1Col = 0 # matrix1 - kolom-element, kan in range 0 tot 3 (= kolom 1, 2, 3)\n",
    "mat2Col = 0# matrix2 - kolom-element, kan in range 0 tot 2 (= kolom 1, 2)\n",
    "\n",
    "## ==//==\n",
    "\n",
    "firstHalfMatr1 = int(nrOfElementsM1/2)\n",
    "startSecHalfMatr1 = int(nrOfElementsM1 - firstHalfMatr1)\n",
    "\n",
    "\n",
    "# 1. Bovenste rij (= eerste helft elementen) mat 1 * eerste kolom (= even elementen) van mat 2\n",
    "# Dus elementen : (0 * 0) + (1 * 2) + (2 * 4)\n",
    "el1, el2, prodOfEls, sumOfProd = 0, 0, 0, 0\n",
    "total_list = []\n",
    "for element in range(0,firstHalfMatr1):\n",
    "    prodOfEls = mat1[\"data\"][el1] * mat2[\"data\"][el2]\n",
    "    # print(f'el2 = {el2}')\n",
    "    # print(f'prodOfEls = {prodOfEls}')\n",
    "    sumOfProd = sumOfProd + prodOfEls\n",
    "    # print(f'sumOfProd = {sumOfProd}')\n",
    "    el1 +=1\n",
    "    el2 += 2\n",
    "    # print(f'el1 = {el1}')\n",
    "    # print(f'el2 = {el2}')\n",
    "total_list.append(sumOfProd)\n",
    "print(f'sumOfProd = {sumOfProd}')\n",
    "print(f'total_list = {total_list}')\n",
    "\n",
    "# mat1 = {\"rows\": 2, \"cols\": 3, \"data\": [1,2,3,4,5,6]}\n",
    "# mat2 = {\"rows\": 3, \"cols\": 2, \"data\": [9,8,6,5,3,2]}\n",
    "\n",
    "# 2.Tweede deel Bovenste rij (= eerste helft elementen) mat 1 * tweede kolom (= oneven elementen) van mat 2\n",
    "# Dus: mat1 row 1 * mat2 row 1,2,3 col 1\n",
    "sumOfProd, prodOfEls = 0,0\n",
    "el1, el2 = 0, 1\n",
    "\n",
    "for element in range(0,firstHalfMatr1):\n",
    " \n",
    "    prodOfEls = mat1[\"data\"][el1] * mat2[\"data\"][el2]\n",
    "    # print(f'el2 = {el2}')\n",
    "    # print(f'prodOfEls = {prodOfEls}')\n",
    "    sumOfProd = sumOfProd+prodOfEls\n",
    "    el1 +=1\n",
    "    el2 += 2\n",
    "    # print(f'el1 = {el1}')\n",
    "    # print(f'el2 = {el2}')\n",
    "total_list.append(sumOfProd)\n",
    "print(f'sumOfProd = {sumOfProd}')\n",
    "print(f'total_list = {total_list}')\n",
    "\n",
    "# 3. Onderste rij (= tweede helft elementen) mat 1 * eerste kolom (= even elementen) van mat 2\n",
    "sumOfProd, prodOfEls = 0,0\n",
    "el1, el2 = 3, 0\n",
    "\n",
    "for element in range(startSecHalfMatr1, nrOfElementsM1):\n",
    " \n",
    "    prodOfEls = mat1[\"data\"][el1] * mat2[\"data\"][el2]\n",
    "    # print(f'el2 = {el2}')\n",
    "    # print(f'prodOfEls = {prodOfEls}')\n",
    "    sumOfProd = sumOfProd+prodOfEls\n",
    "    el1 +=1\n",
    "    el2 += 2\n",
    "    # print(f'el1 = {el1}')\n",
    "    # print(f'el2 = {el2}')\n",
    "total_list.append(sumOfProd)\n",
    "print(f'sumOfProd = {sumOfProd}')\n",
    "print(f'total_list = {total_list}')\n",
    "\n",
    "\n",
    "# 4. # Onderste rij (= tweede helft elementen) mat 1 * tweede kolom (= oneven elementen) van mat 2\n",
    "sumOfProd, prodOfEls = 0,0\n",
    "el1, el2 = 3, 1\n",
    "\n",
    "for element in range(startSecHalfMatr1, nrOfElementsM1):\n",
    " \n",
    "    prodOfEls = mat1[\"data\"][el1] * mat2[\"data\"][el2]\n",
    "    # print(f'el2 = {el2}')\n",
    "    # print(f'prodOfEls = {prodOfEls}')\n",
    "    sumOfProd = sumOfProd+prodOfEls\n",
    "    el1 +=1\n",
    "    el2 += 2\n",
    "    # print(f'el1 = {el1}')\n",
    "    # print(f'el2 = {el2}')\n",
    "total_list.append(sumOfProd)\n",
    "print(f'sumOfProd = {sumOfProd}')\n",
    "print(f'total_list = {total_list}')\n",
    "mat3 = {\"rows\": 2, \"cols\": 2, \"data\": total_list}\n",
    "print(f'De nieuwe matrix ziet er zo uit: {mat3}')\n",
    "# De total_list moet zijn [30, 24, 84, 69]\n",
    "# In case you didn't: can you generalize this algorithm?"
   ]
  },
  {
   "cell_type": "code",
   "execution_count": null,
   "id": "9c07148c-4b8c-4235-822e-a84ec24e67a0",
   "metadata": {},
   "outputs": [],
   "source": []
  }
 ],
 "metadata": {
  "kernelspec": {
   "display_name": "Python 3 (ipykernel)",
   "language": "python",
   "name": "python3"
  },
  "language_info": {
   "codemirror_mode": {
    "name": "ipython",
    "version": 3
   },
   "file_extension": ".py",
   "mimetype": "text/x-python",
   "name": "python",
   "nbconvert_exporter": "python",
   "pygments_lexer": "ipython3",
   "version": "3.10.9"
  }
 },
 "nbformat": 4,
 "nbformat_minor": 5
}
