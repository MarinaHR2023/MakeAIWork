{
 "cells": [
  {
   "cell_type": "markdown",
   "id": "6e93d43b",
   "metadata": {},
   "source": [
    "# Beslissen en herhalen"
   ]
  },
  {
   "cell_type": "markdown",
   "id": "a4f6c97b",
   "metadata": {},
   "source": [
    "Om effectief te kunnen programmeren moet je:\n",
    "\n",
    "#### 1. Weten welke basisinstructies je tot je beschikking hebt\n",
    "Een mooi startpunt is [W3Schools over Python](https://www.w3schools.com/python/default.asp).\n",
    "\n",
    "\n",
    "#### 2. Weten hoe je de juiste instructies kunt vinden\n",
    "De zoektermen volgen uit je literate programming beschrijving en je pseudo code.\n",
    "\n",
    "### Let op!\n",
    "Het kan verleidelijk zijn om de OPLOSSING te googlen, zeker in het begin.\n",
    "\n",
    "##### Als je merkt dat je dit aan het doen bent, dan heb je de literate programming steps niet precies genoeg uitgewerkt.\n",
    "De opdracht is dan te groot en te complex."
   ]
  },
  {
   "cell_type": "markdown",
   "id": "92ed6127",
   "metadata": {},
   "source": [
    "## Basics: beslissen"
   ]
  },
  {
   "cell_type": "markdown",
   "id": "e0b00e53",
   "metadata": {},
   "source": [
    "Bestudeer [if else statements](https://www.w3schools.com/python/python_conditions.asp)\n",
    "\n",
    "(de voorbeelden zijn interactief)"
   ]
  },
  {
   "cell_type": "markdown",
   "id": "eb320abd",
   "metadata": {},
   "source": [
    "### 1. Vergelijken**"
   ]
  },
  {
   "cell_type": "markdown",
   "id": "f522b9d8",
   "metadata": {},
   "source": [
    "- Laat de gebruiker twee woorden invoeren\n",
    "- Geef aan welk woord het langs is\n",
    "- Neem ook het geval dat ze gelijk zijn mee\n",
    "- Print het resultaat\n",
    "\n",
    "Hint: je mag in dit geval [de functie len()](https://www.w3schools.com/python/python_strings.asp) gebruiken"
   ]
  },
  {
   "cell_type": "code",
   "execution_count": null,
   "id": "0e2aedfa",
   "metadata": {
    "tags": []
   },
   "outputs": [],
   "source": [
    "# 1. Formulate a solution\n",
    "# word1 = input word1 and take len\n",
    "# word2 = input word2 and take len\n",
    "# compare word1 with word 2\n",
    "#     if len word1 = len word2:\n",
    "#         print both equally long\n",
    "#     elif: \n",
    "#         len word1 > len word2:\n",
    "#         print word 1 is longer\n",
    "#     else:\n",
    "#         print word2 is longer\n",
    "\n",
    "# 2. Implement the solution\n",
    "print('Laten we 2 woorden vergelijken. Welk van de beide woorden is langer?')\n",
    "word1 = input('Type het eerste woord in: ')\n",
    "word2 = input('Type het tweede woord in: ')\n",
    "lenWord1 = len(word1)\n",
    "lenWord2 = len(word2)\n",
    "\n",
    "if lenWord1 == lenWord2:\n",
    "         print(f'Beide woorden zijn even lang: {lenWord1} letters')\n",
    "elif lenWord1 > lenWord2:\n",
    "               print(f'Het eerste woord is langer dan het tweede woord: {lenWord1} letters tegenover {lenWord2} letters')\n",
    "else:\n",
    "    print( f'Het tweede woord is langer dan het eerste woord: {lenWord2} letters tegenover {lenWord1} letters')"
   ]
  },
  {
   "cell_type": "markdown",
   "id": "0b5a8819",
   "metadata": {},
   "source": [
    "### 2. Categoriseren**"
   ]
  },
  {
   "cell_type": "markdown",
   "id": "49270585",
   "metadata": {},
   "source": [
    "- Vraag de gebruiker om een getal\n",
    "- Bepaal of dit getal even is\n",
    "- Print het resultaat\n",
    "\n",
    "Hint: je mag in dit geval de [operatoren '/' en '%'](https://www.w3schools.com/python/python_operators.asp) gebruiken"
   ]
  },
  {
   "cell_type": "code",
   "execution_count": null,
   "id": "98a288c9",
   "metadata": {
    "tags": []
   },
   "outputs": [],
   "source": [
    "# 1. Formulate a solution\n",
    "# define number, input and turn into integer\n",
    "# If number modulo 2 equals 0:\n",
    "#     print this number is even\n",
    "# else:\n",
    "#     print this numberis odd\n",
    "\n",
    "# 2. Implement the solution\n",
    "number = int(input('Give a whole number: '))\n",
    "if number%2 == 0:\n",
    "    print(f'{number} is even.')\n",
    "else:\n",
    "    print(f'{number} is odd.')"
   ]
  },
  {
   "cell_type": "markdown",
   "id": "2be34655",
   "metadata": {},
   "source": [
    "## Basics: herhalen"
   ]
  },
  {
   "cell_type": "markdown",
   "id": "8491ff0e",
   "metadata": {},
   "source": [
    "Bestudeer [for loops](https://www.w3schools.com/python/python_for_loops.asp)\n",
    "\n",
    "Bestudeer [while loops](https://www.w3schools.com/python/python_while_loops.asp)\n",
    "\n",
    "(de voorbeelden zijn interactief)"
   ]
  },
  {
   "cell_type": "markdown",
   "id": "af980848",
   "metadata": {},
   "source": [
    "### 1. Printen*"
   ]
  },
  {
   "cell_type": "markdown",
   "id": "120a2dd8",
   "metadata": {},
   "source": [
    "- Print je naam 23 keer uit\n",
    "\n",
    "Extra: kun je het er ook een nummer voor zetten?\n",
    "\n",
    "    1. Ruud\n",
    "    2. Ruud\n",
    "    3. Ruud\n",
    "\n",
    "    ...\n",
    "\n",
    "Hint: kijk nog eens naar de les van Jeroen over strings"
   ]
  },
  {
   "cell_type": "code",
   "execution_count": null,
   "id": "4d8cb9fb",
   "metadata": {
    "tags": []
   },
   "outputs": [],
   "source": [
    "# 1. Formulate a solution\n",
    "# define name\n",
    "# define range \n",
    "# loop through the range:\n",
    "#     print loop_nr + name\n",
    "    \n",
    "\n",
    "# 2. Implement the solution\n",
    "name = 'Marina'\n",
    "for nr in range(1, 24):\n",
    "    print(f'{nr}. {name}')"
   ]
  },
  {
   "cell_type": "markdown",
   "id": "379ec167",
   "metadata": {},
   "source": [
    "### 2. Optellen*"
   ]
  },
  {
   "cell_type": "markdown",
   "id": "d21d8212",
   "metadata": {},
   "source": [
    "- Tel de getallen 0, 1, 2, ... t/m 100 op\n",
    "- Print het resultaat"
   ]
  },
  {
   "cell_type": "code",
   "execution_count": null,
   "id": "92ac6462",
   "metadata": {
    "tags": []
   },
   "outputs": [],
   "source": [
    "# 1. Formulate a solution\n",
    "# define range\n",
    "# define counter = 0\n",
    "# iterate through loop\n",
    "#     add each iteration to counter\n",
    "# print counter\n",
    "\n",
    "# 2. Implement the solution\n",
    "counter = 0\n",
    "for nr in range(0,101):\n",
    "    counter += nr\n",
    "print(f'De som is: {counter}')"
   ]
  },
  {
   "cell_type": "markdown",
   "id": "9d394ec4",
   "metadata": {},
   "source": [
    "### 3. Print een specifieke som**"
   ]
  },
  {
   "cell_type": "markdown",
   "id": "894c9c7e",
   "metadata": {},
   "source": [
    "- Print de som van een getal en het vorige getal\n",
    "- Doe dit van nul tot aan een getal dat de gebruiker invoert"
   ]
  },
  {
   "cell_type": "code",
   "execution_count": null,
   "id": "d6274b0a",
   "metadata": {
    "tags": []
   },
   "outputs": [],
   "source": [
    "# 1. Formulate a solution\n",
    "# ask for a whole number (input)\n",
    "# define counter as 0\n",
    "# define range from 0 to given number\n",
    "\n",
    "# as long as counter is smaller than given number\n",
    "#     print (counter +1) + counter = sum\n",
    "#     counter + 1\n",
    "\n",
    "# 2. Implement the solution\n",
    "number = int(input('Geef een heel getal onder de 10: '))\n",
    "counter = 0\n",
    "while counter < number:\n",
    "    print(f'{counter +1} + {counter} = {counter + counter +1}')\n",
    "    counter += 1 "
   ]
  },
  {
   "cell_type": "markdown",
   "id": "9e30cf7d",
   "metadata": {},
   "source": [
    "## Gecombineerd"
   ]
  },
  {
   "cell_type": "markdown",
   "id": "d728ef64",
   "metadata": {},
   "source": [
    "### 1. Print alle medeklinkers van een woord of zin***"
   ]
  },
  {
   "cell_type": "markdown",
   "id": "0cfcd436",
   "metadata": {},
   "source": [
    "- Vraag de gebruiker om een woord of zin in te voeren\n",
    "- Print vervolgens alle medeklinkers\n",
    "- Als de invoer een zin is, print dan ook alle spaties en leestekens"
   ]
  },
  {
   "cell_type": "code",
   "execution_count": null,
   "id": "0112311d",
   "metadata": {
    "tags": []
   },
   "outputs": [],
   "source": [
    "# 1. Start simple: take the word \"simpel\"\n",
    "\n",
    "# 2. Explain your solution in words only \n",
    "\n",
    "# define an empty string variable\n",
    "# define a list with vowels\n",
    "# iterate throuh the word:\n",
    "#     if a character is not in the list:\n",
    "#         add character to string-variable\n",
    "#     print string-variabele\n",
    "\n",
    "# 3. Write down your solution in pseudo code\n",
    "\n",
    "# 4. Implement your pseudo code in Python\n",
    "word = 'simpel'\n",
    "alternString = \"\"\n",
    "vowels = ['a', 'e', 'i', 'o', 'u,']\n",
    "for char in word:\n",
    "    if char not in vowels:\n",
    "        alternString += char\n",
    "print(alternString)\n",
    "\n",
    "# 5. Extend your solution to the general case\n",
    "word = input('Give me a word or sentence: ')\n",
    "alternString = \"\"\n",
    "vowels = ['a', 'e', 'i', 'o', 'u', 'y']\n",
    "for char in word:\n",
    "    if char not in vowels:\n",
    "        alternString += char\n",
    "print(alternString)"
   ]
  },
  {
   "cell_type": "markdown",
   "id": "ed2dd7e2",
   "metadata": {},
   "source": [
    "### 2. Print een diamant vorm***"
   ]
  },
  {
   "cell_type": "markdown",
   "id": "d8438e85",
   "metadata": {},
   "source": [
    "- Vraag de gebruiker om een hoogte\n",
    "- Print vervolgens een diamant van die hoogte\n",
    "\n",
    "Hint: zijn er hoogtes waarvoor dit niet lukt? Zo ja, laat de gebruiker dit dan weten."
   ]
  },
  {
   "cell_type": "code",
   "execution_count": null,
   "id": "8c5501e3",
   "metadata": {
    "tags": []
   },
   "outputs": [],
   "source": [
    "# An example with height 7\n",
    "\n",
    "#    *\n",
    "#   ***\n",
    "#  *****\n",
    "# *******\n",
    "#  *****\n",
    "#   ***\n",
    "#    *\n",
    "\n",
    "# 1. Start simple: take the example above\n",
    "\n",
    "# 2. Explain your solution in words only\n",
    "# It seems that only an odd amount will work for this figure\n",
    "# first take the (number - 1) and divide de remainder by 2. The outcome = N \n",
    "# then print N-times white spaces, followed by 1 star, followed bij N-spaces\n",
    "# then deduct 3 from number and divide de remainder by 2. The outcome = N \n",
    "# then print N-times white spaces, followed by 1+the amount of lesser spaces, followed bij N-spaces\n",
    "# keep doing this until the amount deducted from number equals number\n",
    "# then repeat the whole procedure in reverse order\n",
    "\n",
    "# 3. Write down your solution in pseudo code\n",
    "\n",
    "# 4. Implement your pseudo code in Python\n",
    "\n",
    "ast = '*'\n",
    "nrOfAst = 1\n",
    "whiteSpace = \" \" \n",
    "number = 7\n",
    "nrOfWhiteSpaces = number//2 \n",
    "\n",
    "for i in range(nrOfWhiteSpaces):\n",
    "    print((whiteSpace *nrOfWhiteSpaces), (nrOfAst)*ast , (whiteSpace *nrOfWhiteSpaces))\n",
    "    nrOfAst +=2\n",
    "    nrOfWhiteSpaces-= 1\n",
    "for i in range(nrOfAst):\n",
    "    print((whiteSpace *nrOfWhiteSpaces), (nrOfAst)*ast , (whiteSpace *nrOfWhiteSpaces))\n",
    "    nrOfAst -=2\n",
    "    nrOfWhiteSpaces+= 1\n",
    "\n",
    "\n",
    "# 5. Extend your solution to the general case\n",
    "number = int(input('Geef een oneven heel nummer op beneden de 20: '))\n",
    "ast = '*'\n",
    "nrOfAst = 1\n",
    "whiteSpace = \" \" \n",
    "nrOfWhiteSpaces = number//2 \n",
    "\n",
    "if number%2 == 0: \n",
    "    print('Dit getal is niet oneven. Ik trek 1 van het opgegeven getal af en ga daarmee aan de slag.')\n",
    "    number -= 1 #Dit werkt dus niet. Bij een even getal gaat het programma verder alsof 1 wordt opgeteld bij het opgegeven getal?!\n",
    "\n",
    "for i in range(nrOfWhiteSpaces):\n",
    "    print((whiteSpace *nrOfWhiteSpaces), (nrOfAst)*ast , (whiteSpace *nrOfWhiteSpaces))\n",
    "    nrOfAst +=2\n",
    "    nrOfWhiteSpaces-= 1\n",
    "for i in range(nrOfAst):\n",
    "    print((whiteSpace *nrOfWhiteSpaces), (nrOfAst)*ast , (whiteSpace *nrOfWhiteSpaces))\n",
    "    nrOfAst -=2\n",
    "    nrOfWhiteSpaces+= 1\n"
   ]
  },
  {
   "cell_type": "code",
   "execution_count": null,
   "id": "c473f0c8-0d63-4beb-b61e-316c0245d98f",
   "metadata": {},
   "outputs": [],
   "source": [
    "#Alternatief dat wel werkt, al snap ik het niet (laffe oplossing). \n",
    "number = int(input('Geef een oneven heel nummer op beneden de 20: '))\n",
    "ast = '*'\n",
    "nrOfAst = 1\n",
    "whiteSpace = \" \" \n",
    "nrOfWhiteSpaces = number//2 \n",
    "\n",
    "if number%2 == 0: \n",
    "    print('Dit getal is niet oneven. Ik tel er 1 bij op en ga daarmee aan de slag.')    \n",
    "for i in range(nrOfWhiteSpaces):\n",
    "    print((whiteSpace *nrOfWhiteSpaces), (nrOfAst)*ast , (whiteSpace *nrOfWhiteSpaces))\n",
    "    nrOfAst +=2\n",
    "    nrOfWhiteSpaces-= 1\n",
    "for i in range(nrOfAst):\n",
    "    print((whiteSpace *nrOfWhiteSpaces), (nrOfAst)*ast , (whiteSpace *nrOfWhiteSpaces))\n",
    "    nrOfAst -=2\n",
    "    nrOfWhiteSpaces+= 1\n"
   ]
  },
  {
   "cell_type": "code",
   "execution_count": null,
   "id": "837e5155-5fb2-497c-8e13-7bb5c52123de",
   "metadata": {},
   "outputs": [],
   "source": []
  }
 ],
 "metadata": {
  "kernelspec": {
   "display_name": "Python 3",
   "language": "python",
   "name": "python3"
  },
  "language_info": {
   "codemirror_mode": {
    "name": "ipython",
    "version": 3
   },
   "file_extension": ".py",
   "mimetype": "text/x-python",
   "name": "python",
   "nbconvert_exporter": "python",
   "pygments_lexer": "ipython3",
   "version": "3.10.9"
  },
  "vscode": {
   "interpreter": {
    "hash": "1a72756d73af74f46cde2e129da109c2597037c1dfb46907eb9b18e9f8a767ab"
   }
  }
 },
 "nbformat": 4,
 "nbformat_minor": 5
}
