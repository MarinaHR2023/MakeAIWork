{
 "cells": [
  {
   "cell_type": "markdown",
   "id": "5a5999c2-eb9d-4bf9-8373-b9964e2c152d",
   "metadata": {},
   "source": [
    "<a href=\"https://it-omscholing.nl/locaties/hogeschool-rotterdam/\">\n",
    "<div>\n",
    "<a><img src='../pics/banner.PNG'/></a>\n",
    "</div>\n",
    "<div>\n",
    "<a href=''><img src='../pics/miw.PNG'/></a>\n",
    "<em>Author: Jeroen Boogaard</em>\n",
    "</div>\n",
    "</a>"
   ]
  },
  {
   "cell_type": "markdown",
   "id": "88e57004-2f85-4311-84c0-c4e148f421a7",
   "metadata": {},
   "source": [
    "<h1>Samengestelde variabelen - lists</h1>"
   ]
  },
  {
   "cell_type": "markdown",
   "id": "6837aea3-45db-4940-8b9d-a406fdc01db1",
   "metadata": {},
   "source": [
    "<h3>List variabelen aanmaken en afdrukken</h3>"
   ]
  },
  {
   "cell_type": "markdown",
   "id": "99e472c0-ba9b-4e25-ae03-75fd62f31e8f",
   "metadata": {},
   "source": [
    "**Gebruik teksthaken [] voor het aanmaken van een list variabele**"
   ]
  },
  {
   "cell_type": "code",
   "execution_count": 1,
   "id": "eac2c3b2-52a0-4847-bffc-ad8d2eff0507",
   "metadata": {
    "tags": []
   },
   "outputs": [
    {
     "data": {
      "text/plain": [
       "7"
      ]
     },
     "execution_count": 1,
     "metadata": {},
     "output_type": "execute_result"
    }
   ],
   "source": [
    "neptuneInnerMoons = [\"Naiad\", \"Thalassa\", \"Despina\", \"Galatea\", \"Proteus\", \"Hippocamp\", \"Larissa\"]\n",
    "neptuneOutermoons = [\"Triton\", \"Halimede\", \"Sao\", \"Psamathe\", \"Laomedeia\", \"Neso\", \"Nereid\"]\n",
    "len(neptuneOutermoons)"
   ]
  },
  {
   "cell_type": "markdown",
   "id": "d1354bbe-99d3-4653-a787-dde02513ac0a",
   "metadata": {},
   "source": [
    "<h3>Exercise 9</h3>\n",
    "<p>Schrijf een statement om te bewijzen dat Neptunus evenveel binnen- als buitenmanen heeft</p>"
   ]
  },
  {
   "cell_type": "code",
   "execution_count": 2,
   "id": "b4aec7a1-ca64-4cdd-b498-5d88ea756b2d",
   "metadata": {
    "tags": []
   },
   "outputs": [
    {
     "data": {
      "text/plain": [
       "True"
      ]
     },
     "execution_count": 2,
     "metadata": {},
     "output_type": "execute_result"
    }
   ],
   "source": [
    "# Oplossing\n",
    "len(neptuneInnerMoons) == len(neptuneOutermoons)"
   ]
  },
  {
   "cell_type": "markdown",
   "id": "7c74a678-a81b-4b7a-8bd6-57c4e1d41a04",
   "metadata": {},
   "source": [
    "**Gebruik index 0 voor het verkrijgen van het eerste element**"
   ]
  },
  {
   "cell_type": "code",
   "execution_count": 3,
   "id": "aeadd5cd-2193-4581-8d52-9d085211630a",
   "metadata": {},
   "outputs": [
    {
     "name": "stdout",
     "output_type": "stream",
     "text": [
      "Triton is the largest moon of Neptune.\n"
     ]
    }
   ],
   "source": [
    "print(\"%s is the largest moon of Neptune.\" %(neptuneOutermoons[0]))"
   ]
  },
  {
   "cell_type": "markdown",
   "id": "cf9045c4-8007-4292-ab0f-7c54bc0df848",
   "metadata": {},
   "source": [
    "**Met <i>sort()</i> wordt de volgorde van de elementen in een list <u>blijvend veranderd</u>.**"
   ]
  },
  {
   "cell_type": "code",
   "execution_count": 4,
   "id": "27578e90-465b-4105-ac45-3e91bf2166f8",
   "metadata": {},
   "outputs": [
    {
     "name": "stdout",
     "output_type": "stream",
     "text": [
      "Halimede is the largest moon of Neptune.\n"
     ]
    }
   ],
   "source": [
    "neptuneOutermoons.sort()\n",
    "print(\"%s is the largest moon of Neptune.\" %(neptuneOutermoons[0]))"
   ]
  },
  {
   "cell_type": "markdown",
   "id": "340d4087-83ca-4686-afd3-6a8cb168843a",
   "metadata": {},
   "source": [
    "**Gebruik de functie len() voor het verkrijgen van het aantal elementen in een list**"
   ]
  },
  {
   "cell_type": "code",
   "execution_count": 5,
   "id": "45ccf585-96e6-4174-8ed6-06b3f4778310",
   "metadata": {},
   "outputs": [
    {
     "name": "stdout",
     "output_type": "stream",
     "text": [
      "Neptune is the farthest planet of our solar system and it has 14 known moons.\n"
     ]
    }
   ],
   "source": [
    "print(f\"Neptune is the farthest planet of our solar system and it has { len(neptuneInnerMoons) + len(neptuneOutermoons) } known moons.\")"
   ]
  },
  {
   "cell_type": "markdown",
   "id": "174da62c-9843-4c8d-8945-815360e2faed",
   "metadata": {},
   "source": [
    "<h3>Elementen toevoegen</h3>"
   ]
  },
  {
   "cell_type": "code",
   "execution_count": 6,
   "id": "9249ccbd-fc21-469d-a8b9-769f1fbb9551",
   "metadata": {},
   "outputs": [
    {
     "name": "stdout",
     "output_type": "stream",
     "text": [
      "['Despina', 'Galatea', 'Halimede', 'Hippocamp', 'Laomedeia', 'Larissa', 'Naiad', 'Nereid', 'Neso', 'Proteus', 'Psamathe', 'Sao', 'Thalassa', 'Triton']\n"
     ]
    }
   ],
   "source": [
    "neptuneMoons = []\n",
    "\n",
    "for neptuneOuterMoon in neptuneOutermoons:\n",
    "    neptuneMoons.append(neptuneOuterMoon)\n",
    "    \n",
    "for neptuneInnerMoon in neptuneInnerMoons:\n",
    "    neptuneMoons.append(neptuneInnerMoon)\n",
    "\n",
    "neptuneMoons.sort()    \n",
    "    \n",
    "print(neptuneMoons)    "
   ]
  },
  {
   "cell_type": "code",
   "execution_count": 8,
   "id": "bd4026d4-bd54-481c-b13c-205ab81ed0ef",
   "metadata": {
    "tags": []
   },
   "outputs": [
    {
     "name": "stdout",
     "output_type": "stream",
     "text": [
      "14\n"
     ]
    }
   ],
   "source": [
    "print(len(neptuneMoons))\n",
    "      "
   ]
  },
  {
   "cell_type": "markdown",
   "id": "08e1807f-de63-441e-80ff-cd2cccd3d947",
   "metadata": {},
   "source": [
    "<h3>Elementen verwijderen</h3>"
   ]
  },
  {
   "cell_type": "code",
   "execution_count": 9,
   "id": "17f8296a-fa18-45d1-9948-707f87b1b694",
   "metadata": {},
   "outputs": [
    {
     "name": "stdout",
     "output_type": "stream",
     "text": [
      "['Despina', 'Galatea', 'Halimede', 'Hippocamp', 'Laomedeia', 'Larissa', 'Nereid', 'Neso', 'Proteus', 'Psamathe', 'Sao', 'Thalassa', 'Triton']\n"
     ]
    }
   ],
   "source": [
    "neptuneMoons.remove('Naiad')\n",
    "print(neptuneMoons)"
   ]
  },
  {
   "cell_type": "code",
   "execution_count": 10,
   "id": "6f90a9c6-0ca5-40a4-8033-9aa7957820d2",
   "metadata": {
    "tags": []
   },
   "outputs": [
    {
     "name": "stdout",
     "output_type": "stream",
     "text": [
      "13\n"
     ]
    }
   ],
   "source": [
    "print(len(neptuneMoons))"
   ]
  },
  {
   "cell_type": "markdown",
   "id": "329486ba-5092-4eb1-ba2b-693bebeb036c",
   "metadata": {},
   "source": [
    "**Gebruik <i>pop()</i> om het laaste element <u>uit</u> de lijst te halen**"
   ]
  },
  {
   "cell_type": "code",
   "execution_count": 23,
   "id": "a7aaf648-0286-434c-b927-e1364d381d5c",
   "metadata": {},
   "outputs": [
    {
     "name": "stdout",
     "output_type": "stream",
     "text": [
      "Popped Thalassa from neptuneMoons\n",
      "['Despina', 'Galatea', 'Halimede', 'Hippocamp', 'Laomedeia', 'Larissa', 'Nereid', 'Neso', 'Proteus', 'Psamathe', 'Sao']\n"
     ]
    }
   ],
   "source": [
    "firstNeptuneMoon = neptuneMoons.pop()\n",
    "print(f\"Popped {firstNeptuneMoon} from neptuneMoons\")\n",
    "print(f\"{neptuneMoons}\")"
   ]
  },
  {
   "cell_type": "markdown",
   "id": "3bb73b2b-463b-44cd-a17e-d8c63a52005e",
   "metadata": {},
   "source": [
    "<h3>Excercise 10</h3>\n",
    "<p>Maak een nieuwe lijst <i>lowerMoons</i> met alle <u>neptuneMoons</u> in <u>lowercase</u>.    "
   ]
  },
  {
   "cell_type": "code",
   "execution_count": 16,
   "id": "83efd965-3b87-4f86-b7f4-0e0947092632",
   "metadata": {
    "tags": []
   },
   "outputs": [
    {
     "name": "stdout",
     "output_type": "stream",
     "text": [
      "['despina', 'galatea', 'halimede', 'hippocamp', 'laomedeia', 'larissa', 'nereid', 'neso', 'proteus', 'psamathe', 'sao', 'thalassa']\n"
     ]
    }
   ],
   "source": [
    "lowerMoons = []\n",
    "for moon in neptuneMoons:\n",
    "    moon = moon.lower()\n",
    "    lowerMoons.append(moon)\n",
    "print(lowerMoons)"
   ]
  },
  {
   "cell_type": "markdown",
   "id": "f0dc9127-ed86-4dfc-aef4-91bdd18669e2",
   "metadata": {},
   "source": [
    "<h3>Map en join</h3>"
   ]
  },
  {
   "cell_type": "code",
   "execution_count": 19,
   "id": "330c963e-e9d1-4bfe-bcfe-2feac875a5de",
   "metadata": {},
   "outputs": [
    {
     "name": "stdout",
     "output_type": "stream",
     "text": [
      "['NAIAD', 'THALASSA', 'DESPINA', 'GALATEA', 'PROTEUS', 'HIPPOCAMP', 'LARISSA']\n"
     ]
    }
   ],
   "source": [
    "# MAP:\n",
    "# https://www.w3schools.com/python/ref_func_map.asp\n",
    "# The map() function executes a specified function for each item in an iterable. The item is sent to the function as a parameter.\n",
    "# syntax: map(function, iterables) \n",
    "\n",
    "# LAMBDA:\n",
    "# https://www.w3schools.com/python/python_lambda.asp\n",
    "# A lambda function is a small anonymous function.\n",
    "# A lambda function can take any number of arguments, but can only have one expression.\n",
    "# Syntax =   lambda arguments : expression\n",
    "\n",
    "\n",
    "iterator = map(lambda moon: moon.upper(), neptuneInnerMoons)\n",
    "print(list(iterator))"
   ]
  },
  {
   "cell_type": "code",
   "execution_count": 18,
   "id": "f7e1bd63-eae4-4755-9300-4d58673e4a6f",
   "metadata": {},
   "outputs": [
    {
     "name": "stdout",
     "output_type": "stream",
     "text": [
      "In order of increasing distance, the list of 7 regular Neptune moons is Despina, Galatea, Hippocamp, Larissa, Naiad, Proteus, Thalassa.\n"
     ]
    }
   ],
   "source": [
    "# JOIN:\n",
    "# String join() Method\n",
    "# https://www.w3schools.com/python/ref_string_join.asp\n",
    "# The join() method takes all items in an iterable and joins them into one string.\n",
    "# Syntax: string.join(iterable) \n",
    "\n",
    "neptuneInnerMoonsStr = \", \".join(map(str,sorted(neptuneInnerMoons))) \n",
    "print( f\"In order of increasing distance, the list of { len(neptuneInnerMoons) } regular Neptune moons is {neptuneInnerMoonsStr}.\" )"
   ]
  },
  {
   "cell_type": "code",
   "execution_count": 22,
   "id": "e5e580ba-f1e8-44f7-9150-c49f1d40c630",
   "metadata": {
    "tags": []
   },
   "outputs": [
    {
     "name": "stdout",
     "output_type": "stream",
     "text": [
      "Despina, Galatea, Hippocamp, Larissa, Naiad, Proteus, Thalassa\n"
     ]
    }
   ],
   "source": [
    "print(neptuneInnerMoonsStr)"
   ]
  },
  {
   "cell_type": "code",
   "execution_count": null,
   "id": "67babfc7-5591-4056-b30d-b3cf566ebede",
   "metadata": {},
   "outputs": [],
   "source": []
  }
 ],
 "metadata": {
  "kernelspec": {
   "display_name": "Python 3 (ipykernel)",
   "language": "python",
   "name": "python3"
  },
  "language_info": {
   "codemirror_mode": {
    "name": "ipython",
    "version": 3
   },
   "file_extension": ".py",
   "mimetype": "text/x-python",
   "name": "python",
   "nbconvert_exporter": "python",
   "pygments_lexer": "ipython3",
   "version": "3.10.9"
  }
 },
 "nbformat": 4,
 "nbformat_minor": 5
}
