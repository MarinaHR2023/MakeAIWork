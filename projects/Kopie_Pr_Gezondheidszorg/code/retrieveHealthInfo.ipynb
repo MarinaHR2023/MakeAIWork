{
 "cells": [
  {
   "cell_type": "code",
   "execution_count": null,
   "id": "1dc33a92-a67e-4f9d-8e33-b009a767ffce",
   "metadata": {},
   "outputs": [],
   "source": [
    "import requests\n",
    "import json\n",
    "from IPython.display import display, HTML #Geen idee wat dit doet, nog checken\n",
    "import time\n",
    "import pandas as pd\n",
    "import seaborn as sns\n",
    "#import matplotlib.pyplot as plt\n",
    "#%matplotlib inline     \n",
    "#sns.set(color_codes=True)"
   ]
  },
  {
   "cell_type": "markdown",
   "id": "3648a6af-0f33-4d37-9121-d424b597c1d6",
   "metadata": {},
   "source": [
    "## Steps\n",
    "\n",
    "1. Make request to an URL \n",
    "2. Check Status code\n",
    "3. Check content type\n",
    "4. Print content type\n",
    "5. Parse content type to python representation\n",
    "6. Use the data in your application"
   ]
  },
  {
   "cell_type": "code",
   "execution_count": null,
   "id": "4f163722-1450-4376-9cd5-d32941d457b4",
   "metadata": {},
   "outputs": [],
   "source": [
    "# \n",
    "# Make request to an URL: http://localhost:8080/medish_centrum_randstad/api/netlify?page=1\n",
    "healthInfo = requests.get('http://localhost:8080/medish_centrum_randstad/api/netlify?page=1')\n"
   ]
  },
  {
   "cell_type": "code",
   "execution_count": null,
   "id": "4c1cca5d-b541-4f3b-ab8f-5e9745ac9897",
   "metadata": {},
   "outputs": [],
   "source": [
    "# Check Status code\n",
    "healthInfo.status_code"
   ]
  },
  {
   "cell_type": "code",
   "execution_count": null,
   "id": "78170a5a-7745-4335-9636-ab7a1b836d9c",
   "metadata": {},
   "outputs": [],
   "source": [
    "# Check content type\n",
    "healthInfo.headers['content-type']"
   ]
  },
  {
   "cell_type": "code",
   "execution_count": null,
   "id": "63453241-3f24-4e92-b1ee-deb46f101455",
   "metadata": {},
   "outputs": [],
   "source": [
    "# Print content type as string\n",
    "# healthInfo.text\n",
    "# Dit levert erg veel tekst, daarom tijdelijk uitgeschakeld"
   ]
  },
  {
   "cell_type": "code",
   "execution_count": null,
   "id": "5b1fc721-4521-4e2b-9dc7-0e0b4117c301",
   "metadata": {},
   "outputs": [],
   "source": [
    "# Parse content type to python data type (dictionary)\n",
    "#healthInfo = json.loads(healthInfo.text)"
   ]
  },
  {
   "cell_type": "code",
   "execution_count": null,
   "id": "6d0612a8-ad32-4909-94e9-74e818f54fbd",
   "metadata": {},
   "outputs": [],
   "source": [
    "df = pd.read_json(healthInfo.text)"
   ]
  },
  {
   "cell_type": "code",
   "execution_count": null,
   "id": "f097079e-6d81-4a69-be64-c91cd2d700b0",
   "metadata": {},
   "outputs": [],
   "source": [
    "df"
   ]
  },
  {
   "cell_type": "code",
   "execution_count": null,
   "id": "f98553b0-0680-41a3-b921-239d2312b728",
   "metadata": {},
   "outputs": [],
   "source": [
    "df_1 = df['data']\n",
    "display(df_1.head())"
   ]
  },
  {
   "cell_type": "code",
   "execution_count": null,
   "id": "823e3dce-3193-44fc-8916-ad918f5acfda",
   "metadata": {},
   "outputs": [],
   "source": [
    "# geselecteerde data uit df omzetten naar dictionary: https://pandas.pydata.org/pandas-docs/stable/reference/api/pandas.DataFrame.to_dict.html\n",
    "# DataFrame.to_dict(orient='dict', into=<class 'dict'>)\n",
    "data_dict = df_1.to_dict()\n",
    "print(data_dict[10])"
   ]
  },
  {
   "cell_type": "code",
   "execution_count": null,
   "id": "897b4321-15e5-494b-b5ef-0d9588b234d1",
   "metadata": {},
   "outputs": [],
   "source": [
    "# data_dict weer (terug) omzetten naar een df.\n",
    "# https://pandas.pydata.org/pandas-docs/stable/reference/api/pandas.DataFrame.from_dict.html#pandas.DataFrame.from_dict\n",
    "# pd.DataFrame.from_dict(data, orient='index')\n",
    "healthData = pd.DataFrame.from_dict(data_dict, orient='index')\n",
    "print(healthData.head(10))"
   ]
  },
  {
   "cell_type": "code",
   "execution_count": null,
   "id": "a4f39664-e5fb-44f6-90dd-eec18760f7c6",
   "metadata": {},
   "outputs": [],
   "source": [
    "# Dit df omzetten naar een csv:  https://pandas.pydata.org/docs/reference/api/pandas.DataFrame.to_csv.html?highlight=csv#pandas.DataFrame.to_csv\n",
    "# pd.healthData.to_csv(healthDataCsv)\n",
    "healthData.to_csv('healthData.csv',index=False)\n",
    "healthData.to_csv('healthDataOrig.csv',index=False)"
   ]
  }
 ],
 "metadata": {
  "kernelspec": {
   "display_name": "Python 3 (ipykernel)",
   "language": "python",
   "name": "python3"
  },
  "language_info": {
   "codemirror_mode": {
    "name": "ipython",
    "version": 3
   },
   "file_extension": ".py",
   "mimetype": "text/x-python",
   "name": "python",
   "nbconvert_exporter": "python",
   "pygments_lexer": "ipython3",
   "version": "3.10.9"
  },
  "vscode": {
   "interpreter": {
    "hash": "7bcdc6b3b86716660d7eadbb40941a954fc54027f36a2a2e4af8cf25c6bb0831"
   }
  }
 },
 "nbformat": 4,
 "nbformat_minor": 5
}
