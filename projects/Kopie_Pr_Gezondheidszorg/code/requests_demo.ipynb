{
 "cells": [
  {
   "cell_type": "code",
   "execution_count": 53,
   "id": "1dc33a92-a67e-4f9d-8e33-b009a767ffce",
   "metadata": {},
   "outputs": [
    {
     "name": "stderr",
     "output_type": "stream",
     "text": [
      "/tmp/ipykernel_860/3575498024.py:3: DeprecationWarning: Importing display from IPython.core.display is deprecated since IPython 7.14, please import from IPython display\n",
      "  from IPython.core.display import display, HTML\n"
     ]
    }
   ],
   "source": [
    "import requests\n",
    "import json\n",
    "from IPython.core.display import display, HTML\n",
    "import time"
   ]
  },
  {
   "cell_type": "markdown",
   "id": "3648a6af-0f33-4d37-9121-d424b597c1d6",
   "metadata": {},
   "source": [
    "## Steps\n",
    "\n",
    "1. Make request to an URL \n",
    "2. Check Status code\n",
    "3. Check content type\n",
    "4. Print content type\n",
    "5. Parse content type to python representation\n",
    "6. Use the data in your application"
   ]
  },
  {
   "cell_type": "code",
   "execution_count": 59,
   "id": "4f163722-1450-4376-9cd5-d32941d457b4",
   "metadata": {},
   "outputs": [],
   "source": [
    "# Make request to an URL\n",
    "emojis = requests.get('https://emojihub.yurace.pro/api/random')\n"
   ]
  },
  {
   "cell_type": "code",
   "execution_count": 41,
   "id": "4c1cca5d-b541-4f3b-ab8f-5e9745ac9897",
   "metadata": {},
   "outputs": [
    {
     "data": {
      "text/plain": [
       "200"
      ]
     },
     "execution_count": 41,
     "metadata": {},
     "output_type": "execute_result"
    }
   ],
   "source": [
    "# Check Status code\n",
    "emojis.status_code"
   ]
  },
  {
   "cell_type": "code",
   "execution_count": 66,
   "id": "78170a5a-7745-4335-9636-ab7a1b836d9c",
   "metadata": {},
   "outputs": [
    {
     "data": {
      "text/plain": [
       "'application/json'"
      ]
     },
     "execution_count": 66,
     "metadata": {},
     "output_type": "execute_result"
    }
   ],
   "source": [
    "# Check content type\n",
    "emojis.headers['content-type']"
   ]
  },
  {
   "cell_type": "code",
   "execution_count": 43,
   "id": "63453241-3f24-4e92-b1ee-deb46f101455",
   "metadata": {},
   "outputs": [
    {
     "data": {
      "text/plain": [
       "'{\"name\":\"rugby football\",\"category\":\"activities\",\"group\":\"activities\",\"htmlCode\":[\"\\\\u0026#127945;\"],\"unicode\":[\"U+1F3C9\"]}'"
      ]
     },
     "execution_count": 65,
     "metadata": {},
     "output_type": "execute_result"
    }
   ],
   "source": [
    "# Print content type as string\n",
    "emojis.text"
   ]
  },
  {
   "cell_type": "code",
   "execution_count": 58,
   "id": "5b1fc721-4521-4e2b-9dc7-0e0b4117c301",
   "metadata": {},
   "outputs": [],
   "source": [
    "# Parse content type to python data type (dictionary)\n",
    "emoji_dict = json.loads(emojis.text)"
   ]
  },
  {
   "cell_type": "code",
   "execution_count": 48,
   "id": "c1184d05-b28c-4f66-b909-0559ab8cbac9",
   "metadata": {},
   "outputs": [
    {
     "data": {
      "text/html": [
       "<p>folded hands, type-4 (smileys and people) --> &#128591;</p>"
      ],
      "text/plain": [
       "<IPython.core.display.HTML object>"
      ]
     },
     "metadata": {},
     "output_type": "display_data"
    },
    {
     "data": {
      "text/html": [
       "<p>folded hands, type-4 (smileys and people) --> &#127997;</p>"
      ],
      "text/plain": [
       "<IPython.core.display.HTML object>"
      ]
     },
     "metadata": {},
     "output_type": "display_data"
    }
   ],
   "source": [
    "# use the data in the application\n",
    "for emoji in emoji_dict['htmlCode']:\n",
    "    display(HTML(f'<p>{emoji_dict[\"name\"]} ({emoji_dict[\"category\"]}) --> {emoji}</p>'))"
   ]
  },
  {
   "cell_type": "code",
   "execution_count": null,
   "id": "e6c3deee-a667-44f2-bf3c-43b8e8a2de4b",
   "metadata": {},
   "outputs": [],
   "source": []
  },
  {
   "cell_type": "code",
   "execution_count": 63,
   "id": "92281b1d-6fd5-46db-8295-19b5c359bb06",
   "metadata": {},
   "outputs": [
    {
     "data": {
      "text/html": [
       "<p style=\"font-size:25px\">sparkling heart (smileys and people) --> <span style=\"font-size:50px\">&#128150;</span></p>"
      ],
      "text/plain": [
       "<IPython.core.display.HTML object>"
      ]
     },
     "metadata": {},
     "output_type": "display_data"
    },
    {
     "data": {
      "text/html": [
       "<p style=\"font-size:25px\">chipmunk (animals and nature) --> <span style=\"font-size:50px\">&#128063;</span></p>"
      ],
      "text/plain": [
       "<IPython.core.display.HTML object>"
      ]
     },
     "metadata": {},
     "output_type": "display_data"
    },
    {
     "data": {
      "text/html": [
       "<p style=\"font-size:25px\">cyclone (travel and places) --> <span style=\"font-size:50px\">&#127744;</span></p>"
      ],
      "text/plain": [
       "<IPython.core.display.HTML object>"
      ]
     },
     "metadata": {},
     "output_type": "display_data"
    },
    {
     "data": {
      "text/html": [
       "<p style=\"font-size:25px\">prince, type-3 (smileys and people) --> <span style=\"font-size:50px\">&#129332;</span></p>"
      ],
      "text/plain": [
       "<IPython.core.display.HTML object>"
      ]
     },
     "metadata": {},
     "output_type": "display_data"
    },
    {
     "data": {
      "text/html": [
       "<p style=\"font-size:25px\">small airplane (travel and places) --> <span style=\"font-size:50px\">&#128745;</span></p>"
      ],
      "text/plain": [
       "<IPython.core.display.HTML object>"
      ]
     },
     "metadata": {},
     "output_type": "display_data"
    },
    {
     "data": {
      "text/html": [
       "<p style=\"font-size:25px\">person rowing boat, type-1-2 (activities) --> <span style=\"font-size:50px\">&#128675;</span></p>"
      ],
      "text/plain": [
       "<IPython.core.display.HTML object>"
      ]
     },
     "metadata": {},
     "output_type": "display_data"
    },
    {
     "data": {
      "text/html": [
       "<p style=\"font-size:25px\">writing hand (smileys and people) --> <span style=\"font-size:50px\">&#9997;</span></p>"
      ],
      "text/plain": [
       "<IPython.core.display.HTML object>"
      ]
     },
     "metadata": {},
     "output_type": "display_data"
    },
    {
     "data": {
      "text/html": [
       "<p style=\"font-size:25px\">cooked rice (food and drink) --> <span style=\"font-size:50px\">&#127834;</span></p>"
      ],
      "text/plain": [
       "<IPython.core.display.HTML object>"
      ]
     },
     "metadata": {},
     "output_type": "display_data"
    },
    {
     "data": {
      "text/html": [
       "<p style=\"font-size:25px\">person running, type-4 (smileys and people) --> <span style=\"font-size:50px\">&#127939;</span></p>"
      ],
      "text/plain": [
       "<IPython.core.display.HTML object>"
      ]
     },
     "metadata": {},
     "output_type": "display_data"
    },
    {
     "data": {
      "text/html": [
       "<p style=\"font-size:25px\">chart with upwards trend and yen sign ≊ chart increasing with yen (objects) --> <span style=\"font-size:50px\">&#128185;</span></p>"
      ],
      "text/plain": [
       "<IPython.core.display.HTML object>"
      ]
     },
     "metadata": {},
     "output_type": "display_data"
    },
    {
     "data": {
      "text/html": [
       "<p style=\"font-size:25px\">orange book (objects) --> <span style=\"font-size:50px\">&#128217;</span></p>"
      ],
      "text/plain": [
       "<IPython.core.display.HTML object>"
      ]
     },
     "metadata": {},
     "output_type": "display_data"
    },
    {
     "data": {
      "text/html": [
       "<p style=\"font-size:25px\">admission tickets (activities) --> <span style=\"font-size:50px\">&#127903;</span></p>"
      ],
      "text/plain": [
       "<IPython.core.display.HTML object>"
      ]
     },
     "metadata": {},
     "output_type": "display_data"
    },
    {
     "data": {
      "text/html": [
       "<p style=\"font-size:25px\">woman, type-3 (smileys and people) --> <span style=\"font-size:50px\">&#128105;</span></p>"
      ],
      "text/plain": [
       "<IPython.core.display.HTML object>"
      ]
     },
     "metadata": {},
     "output_type": "display_data"
    },
    {
     "data": {
      "text/html": [
       "<p style=\"font-size:25px\">raised hand, type-1-2 (smileys and people) --> <span style=\"font-size:50px\">&#9995;</span></p>"
      ],
      "text/plain": [
       "<IPython.core.display.HTML object>"
      ]
     },
     "metadata": {},
     "output_type": "display_data"
    },
    {
     "data": {
      "text/html": [
       "<p style=\"font-size:25px\">horse (animals and nature) --> <span style=\"font-size:50px\">&#128014;</span></p>"
      ],
      "text/plain": [
       "<IPython.core.display.HTML object>"
      ]
     },
     "metadata": {},
     "output_type": "display_data"
    },
    {
     "data": {
      "text/html": [
       "<p style=\"font-size:25px\">face savouring delicious food (smileys and people) --> <span style=\"font-size:50px\">&#128523;</span></p>"
      ],
      "text/plain": [
       "<IPython.core.display.HTML object>"
      ]
     },
     "metadata": {},
     "output_type": "display_data"
    },
    {
     "data": {
      "text/html": [
       "<p style=\"font-size:25px\">white sun behind cloud ≊ sun behind large cloud (travel and places) --> <span style=\"font-size:50px\">&#127781;</span></p>"
      ],
      "text/plain": [
       "<IPython.core.display.HTML object>"
      ]
     },
     "metadata": {},
     "output_type": "display_data"
    }
   ],
   "source": [
    "for i in range (0,20):\n",
    "    emoji = requests.get('https://emojihub.yurace.pro/api/random')\n",
    "    emoji_dict = json.loads(emoji.text)\n",
    "    if emoji_dict[\"category\"] != \"flags\":\n",
    "        display(HTML(f'<p style=\"font-size:25px\">{emoji_dict[\"name\"]} ({emoji_dict[\"category\"]}) --> <span style=\"font-size:50px\">{emoji_dict[\"htmlCode\"][0]}</span></p>'))\n",
    "    time.sleep(.1)"
   ]
  },
  {
   "cell_type": "code",
   "execution_count": 72,
   "id": "16d57d2c-4dfa-4633-aab7-754ff4aeca4c",
   "metadata": {},
   "outputs": [],
   "source": [
    "api_key = \"8f371c9a6e4a4858943122545231502\""
   ]
  },
  {
   "cell_type": "code",
   "execution_count": 73,
   "id": "e637319c-45fb-4e2e-a276-88aa3176a3ec",
   "metadata": {},
   "outputs": [],
   "source": [
    "r = requests.get(f'http://api.weatherapi.com/v1/current.json?q=Rotterdam&key={api_key}')"
   ]
  },
  {
   "cell_type": "code",
   "execution_count": 74,
   "id": "9186b31a-4e65-46b5-a732-914157c81ff7",
   "metadata": {},
   "outputs": [
    {
     "data": {
      "text/plain": [
       "{'location': {'name': 'Rotterdam',\n",
       "  'region': 'South Holland',\n",
       "  'country': 'Netherlands',\n",
       "  'lat': 51.92,\n",
       "  'lon': 4.48,\n",
       "  'tz_id': 'Europe/Amsterdam',\n",
       "  'localtime_epoch': 1676464516,\n",
       "  'localtime': '2023-02-15 13:35'},\n",
       " 'current': {'last_updated_epoch': 1676464200,\n",
       "  'last_updated': '2023-02-15 13:30',\n",
       "  'temp_c': 10.0,\n",
       "  'temp_f': 50.0,\n",
       "  'is_day': 1,\n",
       "  'condition': {'text': 'Sunny',\n",
       "   'icon': '//cdn.weatherapi.com/weather/64x64/day/113.png',\n",
       "   'code': 1000},\n",
       "  'wind_mph': 8.1,\n",
       "  'wind_kph': 13.0,\n",
       "  'wind_degree': 200,\n",
       "  'wind_dir': 'SSW',\n",
       "  'pressure_mb': 1024.0,\n",
       "  'pressure_in': 30.24,\n",
       "  'precip_mm': 0.0,\n",
       "  'precip_in': 0.0,\n",
       "  'humidity': 76,\n",
       "  'cloud': 0,\n",
       "  'feelslike_c': 7.9,\n",
       "  'feelslike_f': 46.2,\n",
       "  'vis_km': 9.0,\n",
       "  'vis_miles': 5.0,\n",
       "  'uv': 4.0,\n",
       "  'gust_mph': 11.9,\n",
       "  'gust_kph': 19.1}}"
      ]
     },
     "execution_count": 74,
     "metadata": {},
     "output_type": "execute_result"
    }
   ],
   "source": [
    "current_weather = json.loads(r.text)\n",
    "current_weather"
   ]
  },
  {
   "cell_type": "code",
   "execution_count": null,
   "id": "6d0612a8-ad32-4909-94e9-74e818f54fbd",
   "metadata": {},
   "outputs": [],
   "source": []
  },
  {
   "cell_type": "code",
   "execution_count": null,
   "id": "f097079e-6d81-4a69-be64-c91cd2d700b0",
   "metadata": {},
   "outputs": [],
   "source": []
  }
 ],
 "metadata": {
  "kernelspec": {
   "display_name": "Python 3 (ipykernel)",
   "language": "python",
   "name": "python3"
  },
  "language_info": {
   "codemirror_mode": {
    "name": "ipython",
    "version": 3
   },
   "file_extension": ".py",
   "mimetype": "text/x-python",
   "name": "python",
   "nbconvert_exporter": "python",
   "pygments_lexer": "ipython3",
   "version": "3.10.9"
  },
  "vscode": {
   "interpreter": {
    "hash": "7bcdc6b3b86716660d7eadbb40941a954fc54027f36a2a2e4af8cf25c6bb0831"
   }
  }
 },
 "nbformat": 4,
 "nbformat_minor": 5
}
