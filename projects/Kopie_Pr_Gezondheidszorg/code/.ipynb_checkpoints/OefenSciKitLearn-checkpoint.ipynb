{
 "cells": [
  {
   "cell_type": "code",
   "execution_count": 48,
   "id": "c8ec80dc-da98-4a1f-8c0b-c08e359a8528",
   "metadata": {},
   "outputs": [],
   "source": [
    "import numpy as np\n",
    "\n",
    "import pandas as pd\n",
    "import seaborn as sns\n",
    "import matplotlib.pyplot as plt\n",
    "import math\n",
    "from sklearn import linear_model\n",
    "from sklearn.metrics import mean_squared_error\n",
    "from sklearn.model_selection import train_test_split\n",
    "\n",
    "# sklearn.linear_model.LinearRegression¶\n",
    "# https://www.youtube.com/watch?v=J_LnPL3Qg70"
   ]
  },
  {
   "cell_type": "code",
   "execution_count": 49,
   "id": "c3e2a2a0-cc4d-4022-80d8-ff19dc27fb9d",
   "metadata": {},
   "outputs": [
    {
     "name": "stdout",
     "output_type": "stream",
     "text": [
      "   genetic  length   mass  exercise  smoking  alcohol  sugar  lifespan\n",
      "0     73.9   185.0   99.7       0.9      0.0      2.4    6.9      73.1\n",
      "1     86.0   172.0  105.4       1.8      8.1      0.4    4.2      85.0\n",
      "2     83.3   176.0  111.4       1.1      0.8      4.6    7.5      81.6\n",
      "3     82.8   164.0  111.4       4.7     11.8      1.0    2.9      81.0\n",
      "4     78.7   178.0   71.6       1.5      8.3      4.9    5.5      75.0\n"
     ]
    }
   ],
   "source": [
    "lsd = pd.read_csv('lsdata230309.csv')\n",
    "print(lsd.head())"
   ]
  },
  {
   "cell_type": "code",
   "execution_count": 50,
   "id": "5698126b-d723-4e4a-b770-f3bf968a8a79",
   "metadata": {},
   "outputs": [],
   "source": [
    "y = lsd.lifespan.values#.reshape(-1, 1)  # als ik hier 'reshape gebruik, krijg ik bij reg.fit() geen foutmelding. \n",
    "#Gebruik ik reshape twee blokken verderop, dan blijf ik de foutmelding houden ?!\n",
    "# # https://www.alpharithms.com/reshaping-data-for-linear-regression-with-pandas-numpy-and-scikit-learn-033714/\n",
    "X = lsd[['genetic','length','mass','exercise','smoking','alcohol','sugar']].values\n",
    "X_train, X_test, y_train, y_test = train_test_split(X, y, test_size=0.2, random_state=42)\n"
   ]
  },
  {
   "cell_type": "code",
   "execution_count": 51,
   "id": "81571330-d07a-4335-8e72-9a3f6602f344",
   "metadata": {},
   "outputs": [],
   "source": [
    "# print(\"Dimensions of X before reshaping: {}\".format(X.shape))\n",
    "# print(\"Dimensions of y before reshaping: {}\".format(y.shape))\n"
   ]
  },
  {
   "cell_type": "code",
   "execution_count": 53,
   "id": "29682d2d-a72f-4550-a746-cd379eae8d36",
   "metadata": {},
   "outputs": [
    {
     "name": "stdout",
     "output_type": "stream",
     "text": [
      "Dimensions of X after reshaping: (4086, 7)\n",
      "Dimensions of y after reshaping: (4086,)\n"
     ]
    }
   ],
   "source": [
    "print(\"Dimensions of X after reshaping: {}\".format(X.shape))\n",
    "print(\"Dimensions of y after reshaping: {}\".format(y.shape))\n"
   ]
  },
  {
   "cell_type": "code",
   "execution_count": 54,
   "id": "bdfcacf1-1a22-4599-a0b5-89ca928e1357",
   "metadata": {},
   "outputs": [
    {
     "data": {
      "text/html": [
       "<style>#sk-container-id-4 {color: black;background-color: white;}#sk-container-id-4 pre{padding: 0;}#sk-container-id-4 div.sk-toggleable {background-color: white;}#sk-container-id-4 label.sk-toggleable__label {cursor: pointer;display: block;width: 100%;margin-bottom: 0;padding: 0.3em;box-sizing: border-box;text-align: center;}#sk-container-id-4 label.sk-toggleable__label-arrow:before {content: \"▸\";float: left;margin-right: 0.25em;color: #696969;}#sk-container-id-4 label.sk-toggleable__label-arrow:hover:before {color: black;}#sk-container-id-4 div.sk-estimator:hover label.sk-toggleable__label-arrow:before {color: black;}#sk-container-id-4 div.sk-toggleable__content {max-height: 0;max-width: 0;overflow: hidden;text-align: left;background-color: #f0f8ff;}#sk-container-id-4 div.sk-toggleable__content pre {margin: 0.2em;color: black;border-radius: 0.25em;background-color: #f0f8ff;}#sk-container-id-4 input.sk-toggleable__control:checked~div.sk-toggleable__content {max-height: 200px;max-width: 100%;overflow: auto;}#sk-container-id-4 input.sk-toggleable__control:checked~label.sk-toggleable__label-arrow:before {content: \"▾\";}#sk-container-id-4 div.sk-estimator input.sk-toggleable__control:checked~label.sk-toggleable__label {background-color: #d4ebff;}#sk-container-id-4 div.sk-label input.sk-toggleable__control:checked~label.sk-toggleable__label {background-color: #d4ebff;}#sk-container-id-4 input.sk-hidden--visually {border: 0;clip: rect(1px 1px 1px 1px);clip: rect(1px, 1px, 1px, 1px);height: 1px;margin: -1px;overflow: hidden;padding: 0;position: absolute;width: 1px;}#sk-container-id-4 div.sk-estimator {font-family: monospace;background-color: #f0f8ff;border: 1px dotted black;border-radius: 0.25em;box-sizing: border-box;margin-bottom: 0.5em;}#sk-container-id-4 div.sk-estimator:hover {background-color: #d4ebff;}#sk-container-id-4 div.sk-parallel-item::after {content: \"\";width: 100%;border-bottom: 1px solid gray;flex-grow: 1;}#sk-container-id-4 div.sk-label:hover label.sk-toggleable__label {background-color: #d4ebff;}#sk-container-id-4 div.sk-serial::before {content: \"\";position: absolute;border-left: 1px solid gray;box-sizing: border-box;top: 0;bottom: 0;left: 50%;z-index: 0;}#sk-container-id-4 div.sk-serial {display: flex;flex-direction: column;align-items: center;background-color: white;padding-right: 0.2em;padding-left: 0.2em;position: relative;}#sk-container-id-4 div.sk-item {position: relative;z-index: 1;}#sk-container-id-4 div.sk-parallel {display: flex;align-items: stretch;justify-content: center;background-color: white;position: relative;}#sk-container-id-4 div.sk-item::before, #sk-container-id-4 div.sk-parallel-item::before {content: \"\";position: absolute;border-left: 1px solid gray;box-sizing: border-box;top: 0;bottom: 0;left: 50%;z-index: -1;}#sk-container-id-4 div.sk-parallel-item {display: flex;flex-direction: column;z-index: 1;position: relative;background-color: white;}#sk-container-id-4 div.sk-parallel-item:first-child::after {align-self: flex-end;width: 50%;}#sk-container-id-4 div.sk-parallel-item:last-child::after {align-self: flex-start;width: 50%;}#sk-container-id-4 div.sk-parallel-item:only-child::after {width: 0;}#sk-container-id-4 div.sk-dashed-wrapped {border: 1px dashed gray;margin: 0 0.4em 0.5em 0.4em;box-sizing: border-box;padding-bottom: 0.4em;background-color: white;}#sk-container-id-4 div.sk-label label {font-family: monospace;font-weight: bold;display: inline-block;line-height: 1.2em;}#sk-container-id-4 div.sk-label-container {text-align: center;}#sk-container-id-4 div.sk-container {/* jupyter's `normalize.less` sets `[hidden] { display: none; }` but bootstrap.min.css set `[hidden] { display: none !important; }` so we also need the `!important` here to be able to override the default hidden behavior on the sphinx rendered scikit-learn.org. See: https://github.com/scikit-learn/scikit-learn/issues/21755 */display: inline-block !important;position: relative;}#sk-container-id-4 div.sk-text-repr-fallback {display: none;}</style><div id=\"sk-container-id-4\" class=\"sk-top-container\"><div class=\"sk-text-repr-fallback\"><pre>LinearRegression()</pre><b>In a Jupyter environment, please rerun this cell to show the HTML representation or trust the notebook. <br />On GitHub, the HTML representation is unable to render, please try loading this page with nbviewer.org.</b></div><div class=\"sk-container\" hidden><div class=\"sk-item\"><div class=\"sk-estimator sk-toggleable\"><input class=\"sk-toggleable__control sk-hidden--visually\" id=\"sk-estimator-id-4\" type=\"checkbox\" checked><label for=\"sk-estimator-id-4\" class=\"sk-toggleable__label sk-toggleable__label-arrow\">LinearRegression</label><div class=\"sk-toggleable__content\"><pre>LinearRegression()</pre></div></div></div></div></div>"
      ],
      "text/plain": [
       "LinearRegression()"
      ]
     },
     "execution_count": 54,
     "metadata": {},
     "output_type": "execute_result"
    }
   ],
   "source": [
    "reg = linear_model.LinearRegression() # create a linear regression class object\n",
    "#reg.fit(lsd[['genetic', 'length', 'mass', 'exercise', 'smoking', 'alcohol','sugar']], lsd.lifespan) # fit-method, 'lifespan' = target_variabele\n",
    "reg.fit(X_train, y_train)\n",
    "\n",
    "# Blijft foutmeldingen geven over reshaping.\n",
    "# https://www.alpharithms.com/reshaping-data-for-linear-regression-with-pandas-numpy-and-scikit-learn-033714/"
   ]
  },
  {
   "cell_type": "code",
   "execution_count": 55,
   "id": "559b6cdd-3e58-4447-b238-e0e4267ab02b",
   "metadata": {},
   "outputs": [
    {
     "data": {
      "text/plain": [
       "array([ 1.00107787,  0.01951121, -0.02098709,  0.78121191, -0.26930836,\n",
       "       -0.20203216, -0.05311479])"
      ]
     },
     "execution_count": 55,
     "metadata": {},
     "output_type": "execute_result"
    }
   ],
   "source": [
    "reg.coef_ # geeft de coeff van elk van de 7 features"
   ]
  },
  {
   "cell_type": "code",
   "execution_count": 56,
   "id": "4fe2199c-4246-4b13-b92d-04f002874e25",
   "metadata": {},
   "outputs": [
    {
     "data": {
      "text/plain": [
       "-2.2986241278888286"
      ]
     },
     "execution_count": 56,
     "metadata": {},
     "output_type": "execute_result"
    }
   ],
   "source": [
    "reg.intercept_ # punt waar de intercept de y-as kruist\n"
   ]
  },
  {
   "cell_type": "code",
   "execution_count": 57,
   "id": "583af767-1255-4f87-b6dc-377550e5b1d2",
   "metadata": {},
   "outputs": [
    {
     "data": {
      "text/plain": [
       "array([70.94456064])"
      ]
     },
     "metadata": {},
     "output_type": "display_data"
    },
    {
     "data": {
      "text/plain": [
       "array([80.15150272])"
      ]
     },
     "metadata": {},
     "output_type": "display_data"
    }
   ],
   "source": [
    "# voorspelde lifespan bij gen_leeftijd 75, lengte 176, gewicht 113, 2 uur ex, 0 sig, 1 alc, 4 suiker\n",
    "# Dit geeft een enorme foutmelding, en geen array:\n",
    "# reg.predict([[lsd.genetic==86.0, lsd.length ==176.0,  lsd.mass ==113.4, lsd.exercise ==2.0, lsd.smoking==0.0, lsd.alcohol==1.0, lsd.sugar==4.0]]) \n",
    "\n",
    "# Dit geeft een kleine foutmelding, met een array:\n",
    "#reg.predict([['genetic'==80.0, 'length' ==176.0,  'mass' ==113.4, 'exercise' ==2.0, 'smoking'==15.0, 'alcohol'==1.0, 'sugar'==4.0]]) \n",
    "\n",
    "display(reg.predict([[75.0, 176.0, 113.4, 2.0, 15.0, 1.0, 4.0]])) # willekeurige waarden\n",
    "display(reg.predict([[82.28, 183.88, 92.27, 2.4, 9.81, 2.27, 6.48]])) # alle gemiddelde waarden genomen."
   ]
  },
  {
   "cell_type": "markdown",
   "id": "0597cded-8beb-416e-a553-461108fb97e8",
   "metadata": {},
   "source": [
    "## Testen hoe goed mijn model werkt\n",
    "- theorie zoeken over mse en rmse"
   ]
  },
  {
   "cell_type": "code",
   "execution_count": 58,
   "id": "528ebcbc-906a-4d93-8f17-946d7afafafc",
   "metadata": {},
   "outputs": [
    {
     "data": {
      "text/plain": [
       "0.8681071982839249"
      ]
     },
     "metadata": {},
     "output_type": "display_data"
    }
   ],
   "source": [
    "score = reg.score(X_test,y_test)\n",
    "display(score)"
   ]
  },
  {
   "cell_type": "code",
   "execution_count": 59,
   "id": "b9ea2906-5c5c-454d-8a20-3eb1b348b38b",
   "metadata": {},
   "outputs": [],
   "source": [
    "predict_test = reg.predict(X_test)"
   ]
  },
  {
   "cell_type": "code",
   "execution_count": 60,
   "id": "7791939f-a9c4-43ef-af13-7d48750784fd",
   "metadata": {},
   "outputs": [
    {
     "name": "stdout",
     "output_type": "stream",
     "text": [
      "3.094028847441008\n"
     ]
    }
   ],
   "source": [
    "mse = mean_squared_error(y_test, predict_test)\n",
    "rmse = (math.sqrt(mse))\n",
    "print(rmse)"
   ]
  },
  {
   "cell_type": "code",
   "execution_count": 61,
   "id": "74c23bd2-229c-4a79-a9e3-ceda34bfc69e",
   "metadata": {},
   "outputs": [
    {
     "data": {
      "text/html": [
       "<div>\n",
       "<style scoped>\n",
       "    .dataframe tbody tr th:only-of-type {\n",
       "        vertical-align: middle;\n",
       "    }\n",
       "\n",
       "    .dataframe tbody tr th {\n",
       "        vertical-align: top;\n",
       "    }\n",
       "\n",
       "    .dataframe thead th {\n",
       "        text-align: right;\n",
       "    }\n",
       "</style>\n",
       "<table border=\"1\" class=\"dataframe\">\n",
       "  <thead>\n",
       "    <tr style=\"text-align: right;\">\n",
       "      <th></th>\n",
       "      <th>genetic</th>\n",
       "      <th>length</th>\n",
       "      <th>mass</th>\n",
       "      <th>exercise</th>\n",
       "      <th>smoking</th>\n",
       "      <th>alcohol</th>\n",
       "      <th>sugar</th>\n",
       "      <th>lifespan</th>\n",
       "    </tr>\n",
       "  </thead>\n",
       "  <tbody>\n",
       "    <tr>\n",
       "      <th>count</th>\n",
       "      <td>4086.000000</td>\n",
       "      <td>4086.000000</td>\n",
       "      <td>4086.000000</td>\n",
       "      <td>4086.000000</td>\n",
       "      <td>4086.000000</td>\n",
       "      <td>4086.000000</td>\n",
       "      <td>4086.000000</td>\n",
       "      <td>4086.000000</td>\n",
       "    </tr>\n",
       "    <tr>\n",
       "      <th>mean</th>\n",
       "      <td>82.280127</td>\n",
       "      <td>183.879344</td>\n",
       "      <td>92.273837</td>\n",
       "      <td>2.403353</td>\n",
       "      <td>9.812677</td>\n",
       "      <td>2.266006</td>\n",
       "      <td>6.484973</td>\n",
       "      <td>80.137959</td>\n",
       "    </tr>\n",
       "    <tr>\n",
       "      <th>std</th>\n",
       "      <td>7.440070</td>\n",
       "      <td>12.627470</td>\n",
       "      <td>25.800771</td>\n",
       "      <td>1.170593</td>\n",
       "      <td>6.919057</td>\n",
       "      <td>1.801020</td>\n",
       "      <td>2.709868</td>\n",
       "      <td>8.041656</td>\n",
       "    </tr>\n",
       "    <tr>\n",
       "      <th>min</th>\n",
       "      <td>63.900000</td>\n",
       "      <td>154.000000</td>\n",
       "      <td>50.000000</td>\n",
       "      <td>0.100000</td>\n",
       "      <td>0.000000</td>\n",
       "      <td>0.000000</td>\n",
       "      <td>0.700000</td>\n",
       "      <td>-1.000000</td>\n",
       "    </tr>\n",
       "    <tr>\n",
       "      <th>25%</th>\n",
       "      <td>77.600000</td>\n",
       "      <td>175.000000</td>\n",
       "      <td>71.425000</td>\n",
       "      <td>1.500000</td>\n",
       "      <td>3.400000</td>\n",
       "      <td>0.600000</td>\n",
       "      <td>4.400000</td>\n",
       "      <td>75.000000</td>\n",
       "    </tr>\n",
       "    <tr>\n",
       "      <th>50%</th>\n",
       "      <td>81.800000</td>\n",
       "      <td>184.000000</td>\n",
       "      <td>89.500000</td>\n",
       "      <td>2.200000</td>\n",
       "      <td>9.500000</td>\n",
       "      <td>1.700000</td>\n",
       "      <td>6.300000</td>\n",
       "      <td>79.700000</td>\n",
       "    </tr>\n",
       "    <tr>\n",
       "      <th>75%</th>\n",
       "      <td>86.700000</td>\n",
       "      <td>193.000000</td>\n",
       "      <td>110.875000</td>\n",
       "      <td>3.200000</td>\n",
       "      <td>15.900000</td>\n",
       "      <td>4.000000</td>\n",
       "      <td>8.400000</td>\n",
       "      <td>85.200000</td>\n",
       "    </tr>\n",
       "    <tr>\n",
       "      <th>max</th>\n",
       "      <td>102.200000</td>\n",
       "      <td>214.000000</td>\n",
       "      <td>163.600000</td>\n",
       "      <td>5.500000</td>\n",
       "      <td>22.200000</td>\n",
       "      <td>6.000000</td>\n",
       "      <td>13.800000</td>\n",
       "      <td>105.100000</td>\n",
       "    </tr>\n",
       "  </tbody>\n",
       "</table>\n",
       "</div>"
      ],
      "text/plain": [
       "           genetic       length         mass     exercise      smoking  \\\n",
       "count  4086.000000  4086.000000  4086.000000  4086.000000  4086.000000   \n",
       "mean     82.280127   183.879344    92.273837     2.403353     9.812677   \n",
       "std       7.440070    12.627470    25.800771     1.170593     6.919057   \n",
       "min      63.900000   154.000000    50.000000     0.100000     0.000000   \n",
       "25%      77.600000   175.000000    71.425000     1.500000     3.400000   \n",
       "50%      81.800000   184.000000    89.500000     2.200000     9.500000   \n",
       "75%      86.700000   193.000000   110.875000     3.200000    15.900000   \n",
       "max     102.200000   214.000000   163.600000     5.500000    22.200000   \n",
       "\n",
       "           alcohol        sugar     lifespan  \n",
       "count  4086.000000  4086.000000  4086.000000  \n",
       "mean      2.266006     6.484973    80.137959  \n",
       "std       1.801020     2.709868     8.041656  \n",
       "min       0.000000     0.700000    -1.000000  \n",
       "25%       0.600000     4.400000    75.000000  \n",
       "50%       1.700000     6.300000    79.700000  \n",
       "75%       4.000000     8.400000    85.200000  \n",
       "max       6.000000    13.800000   105.100000  "
      ]
     },
     "execution_count": 61,
     "metadata": {},
     "output_type": "execute_result"
    }
   ],
   "source": [
    "lsd.describe()"
   ]
  },
  {
   "cell_type": "code",
   "execution_count": null,
   "id": "a2e714e2-d9a1-42ee-875a-7837f3815a52",
   "metadata": {},
   "outputs": [],
   "source": []
  },
  {
   "cell_type": "code",
   "execution_count": null,
   "id": "8b3e34b4-0789-4fa4-9aad-474ec75eea27",
   "metadata": {},
   "outputs": [],
   "source": []
  }
 ],
 "metadata": {
  "kernelspec": {
   "display_name": "Python 3 (ipykernel)",
   "language": "python",
   "name": "python3"
  },
  "language_info": {
   "codemirror_mode": {
    "name": "ipython",
    "version": 3
   },
   "file_extension": ".py",
   "mimetype": "text/x-python",
   "name": "python",
   "nbconvert_exporter": "python",
   "pygments_lexer": "ipython3",
   "version": "3.10.9"
  }
 },
 "nbformat": 4,
 "nbformat_minor": 5
}
