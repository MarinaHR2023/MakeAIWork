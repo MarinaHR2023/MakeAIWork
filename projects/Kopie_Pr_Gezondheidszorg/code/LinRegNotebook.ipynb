{
 "cells": [
  {
   "cell_type": "markdown",
   "id": "38ba9a02-d256-4456-adbd-c7a6457d383b",
   "metadata": {},
   "source": [
    "# Notebook Lineare Regressie\n",
    "\n",
    "Modules binnenhalen"
   ]
  },
  {
   "cell_type": "code",
   "execution_count": 112,
   "id": "c8ec80dc-da98-4a1f-8c0b-c08e359a8528",
   "metadata": {},
   "outputs": [],
   "source": [
    "import numpy as np\n",
    "\n",
    "import pandas as pd\n",
    "import seaborn as sns\n",
    "import matplotlib.pyplot as plt\n",
    "import math\n",
    "from sklearn import linear_model\n",
    "from sklearn.metrics import mean_squared_error\n",
    "from sklearn.model_selection import train_test_split"
   ]
  },
  {
   "cell_type": "markdown",
   "id": "2384c05f-b70b-415a-990a-dba058087394",
   "metadata": {},
   "source": [
    "## Eerste dataset binnenhalen (Compleet, met outliers, zonder bmi)"
   ]
  },
  {
   "cell_type": "code",
   "execution_count": 113,
   "id": "1e891279-31ec-4dec-8ee7-6bcf29b1f037",
   "metadata": {},
   "outputs": [
    {
     "data": {
      "text/html": [
       "<div>\n",
       "<style scoped>\n",
       "    .dataframe tbody tr th:only-of-type {\n",
       "        vertical-align: middle;\n",
       "    }\n",
       "\n",
       "    .dataframe tbody tr th {\n",
       "        vertical-align: top;\n",
       "    }\n",
       "\n",
       "    .dataframe thead th {\n",
       "        text-align: right;\n",
       "    }\n",
       "</style>\n",
       "<table border=\"1\" class=\"dataframe\">\n",
       "  <thead>\n",
       "    <tr style=\"text-align: right;\">\n",
       "      <th></th>\n",
       "      <th>genetic</th>\n",
       "      <th>length</th>\n",
       "      <th>mass</th>\n",
       "      <th>exercise</th>\n",
       "      <th>smoking</th>\n",
       "      <th>alcohol</th>\n",
       "      <th>sugar</th>\n",
       "      <th>lifespan</th>\n",
       "    </tr>\n",
       "  </thead>\n",
       "  <tbody>\n",
       "    <tr>\n",
       "      <th>0</th>\n",
       "      <td>73.9</td>\n",
       "      <td>185.0</td>\n",
       "      <td>99.7</td>\n",
       "      <td>0.9</td>\n",
       "      <td>0.0</td>\n",
       "      <td>2.4</td>\n",
       "      <td>6.9</td>\n",
       "      <td>73.1</td>\n",
       "    </tr>\n",
       "    <tr>\n",
       "      <th>1</th>\n",
       "      <td>86.0</td>\n",
       "      <td>172.0</td>\n",
       "      <td>105.4</td>\n",
       "      <td>1.8</td>\n",
       "      <td>8.1</td>\n",
       "      <td>0.4</td>\n",
       "      <td>4.2</td>\n",
       "      <td>85.0</td>\n",
       "    </tr>\n",
       "    <tr>\n",
       "      <th>2</th>\n",
       "      <td>83.3</td>\n",
       "      <td>176.0</td>\n",
       "      <td>111.4</td>\n",
       "      <td>1.1</td>\n",
       "      <td>0.8</td>\n",
       "      <td>4.6</td>\n",
       "      <td>7.5</td>\n",
       "      <td>81.6</td>\n",
       "    </tr>\n",
       "    <tr>\n",
       "      <th>3</th>\n",
       "      <td>82.8</td>\n",
       "      <td>164.0</td>\n",
       "      <td>111.4</td>\n",
       "      <td>4.7</td>\n",
       "      <td>11.8</td>\n",
       "      <td>1.0</td>\n",
       "      <td>2.9</td>\n",
       "      <td>81.0</td>\n",
       "    </tr>\n",
       "    <tr>\n",
       "      <th>4</th>\n",
       "      <td>78.7</td>\n",
       "      <td>178.0</td>\n",
       "      <td>71.6</td>\n",
       "      <td>1.5</td>\n",
       "      <td>8.3</td>\n",
       "      <td>4.9</td>\n",
       "      <td>5.5</td>\n",
       "      <td>75.0</td>\n",
       "    </tr>\n",
       "  </tbody>\n",
       "</table>\n",
       "</div>"
      ],
      "text/plain": [
       "   genetic  length   mass  exercise  smoking  alcohol  sugar  lifespan\n",
       "0     73.9   185.0   99.7       0.9      0.0      2.4    6.9      73.1\n",
       "1     86.0   172.0  105.4       1.8      8.1      0.4    4.2      85.0\n",
       "2     83.3   176.0  111.4       1.1      0.8      4.6    7.5      81.6\n",
       "3     82.8   164.0  111.4       4.7     11.8      1.0    2.9      81.0\n",
       "4     78.7   178.0   71.6       1.5      8.3      4.9    5.5      75.0"
      ]
     },
     "metadata": {},
     "output_type": "display_data"
    }
   ],
   "source": [
    "lsd = pd.read_csv('lsdata230309.csv')\n",
    "display(lsd.head())"
   ]
  },
  {
   "cell_type": "markdown",
   "id": "7465389b-d03a-481d-b076-aca13fd553a1",
   "metadata": {},
   "source": [
    "X en y definieren en dataset verdelen in trainingsgedeelte en testgedeelte:\n"
   ]
  },
  {
   "cell_type": "code",
   "execution_count": 114,
   "id": "5698126b-d723-4e4a-b770-f3bf968a8a79",
   "metadata": {},
   "outputs": [],
   "source": [
    "y = lsd.lifespan.values\n",
    "X = lsd[['genetic','length','mass','exercise','smoking','alcohol','sugar']].values\n",
    "X_train, X_test, y_train, y_test = train_test_split(X, y, test_size=0.2, random_state=42)"
   ]
  },
  {
   "cell_type": "code",
   "execution_count": 115,
   "id": "bdfcacf1-1a22-4599-a0b5-89ca928e1357",
   "metadata": {},
   "outputs": [
    {
     "data": {
      "text/html": [
       "<style>#sk-container-id-13 {color: black;background-color: white;}#sk-container-id-13 pre{padding: 0;}#sk-container-id-13 div.sk-toggleable {background-color: white;}#sk-container-id-13 label.sk-toggleable__label {cursor: pointer;display: block;width: 100%;margin-bottom: 0;padding: 0.3em;box-sizing: border-box;text-align: center;}#sk-container-id-13 label.sk-toggleable__label-arrow:before {content: \"▸\";float: left;margin-right: 0.25em;color: #696969;}#sk-container-id-13 label.sk-toggleable__label-arrow:hover:before {color: black;}#sk-container-id-13 div.sk-estimator:hover label.sk-toggleable__label-arrow:before {color: black;}#sk-container-id-13 div.sk-toggleable__content {max-height: 0;max-width: 0;overflow: hidden;text-align: left;background-color: #f0f8ff;}#sk-container-id-13 div.sk-toggleable__content pre {margin: 0.2em;color: black;border-radius: 0.25em;background-color: #f0f8ff;}#sk-container-id-13 input.sk-toggleable__control:checked~div.sk-toggleable__content {max-height: 200px;max-width: 100%;overflow: auto;}#sk-container-id-13 input.sk-toggleable__control:checked~label.sk-toggleable__label-arrow:before {content: \"▾\";}#sk-container-id-13 div.sk-estimator input.sk-toggleable__control:checked~label.sk-toggleable__label {background-color: #d4ebff;}#sk-container-id-13 div.sk-label input.sk-toggleable__control:checked~label.sk-toggleable__label {background-color: #d4ebff;}#sk-container-id-13 input.sk-hidden--visually {border: 0;clip: rect(1px 1px 1px 1px);clip: rect(1px, 1px, 1px, 1px);height: 1px;margin: -1px;overflow: hidden;padding: 0;position: absolute;width: 1px;}#sk-container-id-13 div.sk-estimator {font-family: monospace;background-color: #f0f8ff;border: 1px dotted black;border-radius: 0.25em;box-sizing: border-box;margin-bottom: 0.5em;}#sk-container-id-13 div.sk-estimator:hover {background-color: #d4ebff;}#sk-container-id-13 div.sk-parallel-item::after {content: \"\";width: 100%;border-bottom: 1px solid gray;flex-grow: 1;}#sk-container-id-13 div.sk-label:hover label.sk-toggleable__label {background-color: #d4ebff;}#sk-container-id-13 div.sk-serial::before {content: \"\";position: absolute;border-left: 1px solid gray;box-sizing: border-box;top: 0;bottom: 0;left: 50%;z-index: 0;}#sk-container-id-13 div.sk-serial {display: flex;flex-direction: column;align-items: center;background-color: white;padding-right: 0.2em;padding-left: 0.2em;position: relative;}#sk-container-id-13 div.sk-item {position: relative;z-index: 1;}#sk-container-id-13 div.sk-parallel {display: flex;align-items: stretch;justify-content: center;background-color: white;position: relative;}#sk-container-id-13 div.sk-item::before, #sk-container-id-13 div.sk-parallel-item::before {content: \"\";position: absolute;border-left: 1px solid gray;box-sizing: border-box;top: 0;bottom: 0;left: 50%;z-index: -1;}#sk-container-id-13 div.sk-parallel-item {display: flex;flex-direction: column;z-index: 1;position: relative;background-color: white;}#sk-container-id-13 div.sk-parallel-item:first-child::after {align-self: flex-end;width: 50%;}#sk-container-id-13 div.sk-parallel-item:last-child::after {align-self: flex-start;width: 50%;}#sk-container-id-13 div.sk-parallel-item:only-child::after {width: 0;}#sk-container-id-13 div.sk-dashed-wrapped {border: 1px dashed gray;margin: 0 0.4em 0.5em 0.4em;box-sizing: border-box;padding-bottom: 0.4em;background-color: white;}#sk-container-id-13 div.sk-label label {font-family: monospace;font-weight: bold;display: inline-block;line-height: 1.2em;}#sk-container-id-13 div.sk-label-container {text-align: center;}#sk-container-id-13 div.sk-container {/* jupyter's `normalize.less` sets `[hidden] { display: none; }` but bootstrap.min.css set `[hidden] { display: none !important; }` so we also need the `!important` here to be able to override the default hidden behavior on the sphinx rendered scikit-learn.org. See: https://github.com/scikit-learn/scikit-learn/issues/21755 */display: inline-block !important;position: relative;}#sk-container-id-13 div.sk-text-repr-fallback {display: none;}</style><div id=\"sk-container-id-13\" class=\"sk-top-container\"><div class=\"sk-text-repr-fallback\"><pre>LinearRegression()</pre><b>In a Jupyter environment, please rerun this cell to show the HTML representation or trust the notebook. <br />On GitHub, the HTML representation is unable to render, please try loading this page with nbviewer.org.</b></div><div class=\"sk-container\" hidden><div class=\"sk-item\"><div class=\"sk-estimator sk-toggleable\"><input class=\"sk-toggleable__control sk-hidden--visually\" id=\"sk-estimator-id-13\" type=\"checkbox\" checked><label for=\"sk-estimator-id-13\" class=\"sk-toggleable__label sk-toggleable__label-arrow\">LinearRegression</label><div class=\"sk-toggleable__content\"><pre>LinearRegression()</pre></div></div></div></div></div>"
      ],
      "text/plain": [
       "LinearRegression()"
      ]
     },
     "execution_count": 115,
     "metadata": {},
     "output_type": "execute_result"
    }
   ],
   "source": [
    "reg = linear_model.LinearRegression() \n",
    "reg.fit(X_train, y_train)"
   ]
  },
  {
   "cell_type": "code",
   "execution_count": 116,
   "id": "559b6cdd-3e58-4447-b238-e0e4267ab02b",
   "metadata": {},
   "outputs": [
    {
     "data": {
      "text/plain": [
       "array([ 1.00107787,  0.01951121, -0.02098709,  0.78121191, -0.26930836,\n",
       "       -0.20203216, -0.05311479])"
      ]
     },
     "execution_count": 116,
     "metadata": {},
     "output_type": "execute_result"
    }
   ],
   "source": [
    "reg.coef_ # geeft de coeff van elk van de 7 features"
   ]
  },
  {
   "cell_type": "code",
   "execution_count": 117,
   "id": "4fe2199c-4246-4b13-b92d-04f002874e25",
   "metadata": {},
   "outputs": [
    {
     "data": {
      "text/plain": [
       "-2.2986241278888286"
      ]
     },
     "execution_count": 117,
     "metadata": {},
     "output_type": "execute_result"
    }
   ],
   "source": [
    "reg.intercept_ # punt waar de intercept de y-as kruist"
   ]
  },
  {
   "cell_type": "code",
   "execution_count": 118,
   "id": "583af767-1255-4f87-b6dc-377550e5b1d2",
   "metadata": {},
   "outputs": [
    {
     "data": {
      "text/plain": [
       "array([70.94456064])"
      ]
     },
     "metadata": {},
     "output_type": "display_data"
    },
    {
     "data": {
      "text/plain": [
       "array([80.15150272])"
      ]
     },
     "metadata": {},
     "output_type": "display_data"
    }
   ],
   "source": [
    "display(reg.predict([[75.0, 176.0, 113.4, 2.0, 15.0, 1.0, 4.0]])) # willekeurige waarden\n",
    "display(reg.predict([[82.28, 183.88, 92.27, 2.4, 9.81, 2.27, 6.48]])) # alle gemiddelde waarden genomen."
   ]
  },
  {
   "cell_type": "markdown",
   "id": "0597cded-8beb-416e-a553-461108fb97e8",
   "metadata": {},
   "source": [
    "## Testen hoe goed mijn model werkt\n",
    "- score() geeft de determinatiecoëfficiënt (R2). R2 is een getal tussen de 0 en 1 dat de mate aanduidt waarin een statistisch model in staat is een bepaalde uitkomst te voorspellen."
   ]
  },
  {
   "cell_type": "code",
   "execution_count": 119,
   "id": "528ebcbc-906a-4d93-8f17-946d7afafafc",
   "metadata": {},
   "outputs": [
    {
     "data": {
      "text/plain": [
       "0.8681071982839249"
      ]
     },
     "metadata": {},
     "output_type": "display_data"
    }
   ],
   "source": [
    "score = reg.score(X_test,y_test)\n",
    "display(score)"
   ]
  },
  {
   "cell_type": "code",
   "execution_count": 120,
   "id": "b9ea2906-5c5c-454d-8a20-3eb1b348b38b",
   "metadata": {},
   "outputs": [],
   "source": [
    "predict_test = reg.predict(X_test)"
   ]
  },
  {
   "cell_type": "markdown",
   "id": "37c48462-3c60-4a09-b37e-0c4dfa58126b",
   "metadata": {},
   "source": [
    "- MSE is de standaardafwijking van de residuen (voorspellingsfouten). Residuen zijn een maat voor hoe ver de datapunten van de regressielijn verwijderd zijn. Hoe lager de MSE, des te beter het model een dataset 'fits'; \n",
    "- RMSE is een maat voor de spreiding van deze residuen. Met andere woorden, RMSE vertelt je hoe geconcentreerd de gegevens zijn rond de best passende lijn. Hoe lager de RMSE, hoe beter een bepaald model in staat is een dataset te \"passen\"."
   ]
  },
  {
   "cell_type": "code",
   "execution_count": 121,
   "id": "7791939f-a9c4-43ef-af13-7d48750784fd",
   "metadata": {},
   "outputs": [
    {
     "data": {
      "text/plain": [
       "9.573014508797131"
      ]
     },
     "metadata": {},
     "output_type": "display_data"
    },
    {
     "data": {
      "text/plain": [
       "3.094028847441008"
      ]
     },
     "metadata": {},
     "output_type": "display_data"
    }
   ],
   "source": [
    "mse = mean_squared_error(y_test, predict_test)\n",
    "rmse = (math.sqrt(mse))\n",
    "display(mse)\n",
    "display(rmse)"
   ]
  },
  {
   "cell_type": "markdown",
   "id": "371e95ec-6832-4754-90ae-dddb9275905a",
   "metadata": {},
   "source": [
    "## Tweede dataset binnenhalen (met outliers, zonder 'length' en 'mass', met bmi)"
   ]
  },
  {
   "cell_type": "code",
   "execution_count": 123,
   "id": "8b3e34b4-0789-4fa4-9aad-474ec75eea27",
   "metadata": {},
   "outputs": [
    {
     "data": {
      "text/html": [
       "<div>\n",
       "<style scoped>\n",
       "    .dataframe tbody tr th:only-of-type {\n",
       "        vertical-align: middle;\n",
       "    }\n",
       "\n",
       "    .dataframe tbody tr th {\n",
       "        vertical-align: top;\n",
       "    }\n",
       "\n",
       "    .dataframe thead th {\n",
       "        text-align: right;\n",
       "    }\n",
       "</style>\n",
       "<table border=\"1\" class=\"dataframe\">\n",
       "  <thead>\n",
       "    <tr style=\"text-align: right;\">\n",
       "      <th></th>\n",
       "      <th>genetic</th>\n",
       "      <th>exercise</th>\n",
       "      <th>smoking</th>\n",
       "      <th>alcohol</th>\n",
       "      <th>sugar</th>\n",
       "      <th>lifespan</th>\n",
       "      <th>bmi</th>\n",
       "    </tr>\n",
       "  </thead>\n",
       "  <tbody>\n",
       "    <tr>\n",
       "      <th>count</th>\n",
       "      <td>4084.000000</td>\n",
       "      <td>4084.000000</td>\n",
       "      <td>4084.000000</td>\n",
       "      <td>4084.000000</td>\n",
       "      <td>4084.000000</td>\n",
       "      <td>4084.000000</td>\n",
       "      <td>4084.000000</td>\n",
       "    </tr>\n",
       "    <tr>\n",
       "      <th>mean</th>\n",
       "      <td>82.278624</td>\n",
       "      <td>2.403477</td>\n",
       "      <td>9.809035</td>\n",
       "      <td>2.266846</td>\n",
       "      <td>6.487169</td>\n",
       "      <td>80.177693</td>\n",
       "      <td>27.681685</td>\n",
       "    </tr>\n",
       "    <tr>\n",
       "      <th>std</th>\n",
       "      <td>7.441333</td>\n",
       "      <td>1.170426</td>\n",
       "      <td>6.918614</td>\n",
       "      <td>1.801044</td>\n",
       "      <td>2.708622</td>\n",
       "      <td>7.840508</td>\n",
       "      <td>8.710015</td>\n",
       "    </tr>\n",
       "    <tr>\n",
       "      <th>min</th>\n",
       "      <td>63.900000</td>\n",
       "      <td>0.100000</td>\n",
       "      <td>0.000000</td>\n",
       "      <td>0.000000</td>\n",
       "      <td>0.700000</td>\n",
       "      <td>57.000000</td>\n",
       "      <td>11.000000</td>\n",
       "    </tr>\n",
       "    <tr>\n",
       "      <th>25%</th>\n",
       "      <td>77.600000</td>\n",
       "      <td>1.500000</td>\n",
       "      <td>3.375000</td>\n",
       "      <td>0.600000</td>\n",
       "      <td>4.400000</td>\n",
       "      <td>75.000000</td>\n",
       "      <td>21.000000</td>\n",
       "    </tr>\n",
       "    <tr>\n",
       "      <th>50%</th>\n",
       "      <td>81.800000</td>\n",
       "      <td>2.200000</td>\n",
       "      <td>9.500000</td>\n",
       "      <td>1.700000</td>\n",
       "      <td>6.300000</td>\n",
       "      <td>79.700000</td>\n",
       "      <td>26.000000</td>\n",
       "    </tr>\n",
       "    <tr>\n",
       "      <th>75%</th>\n",
       "      <td>86.700000</td>\n",
       "      <td>3.200000</td>\n",
       "      <td>15.900000</td>\n",
       "      <td>4.000000</td>\n",
       "      <td>8.400000</td>\n",
       "      <td>85.200000</td>\n",
       "      <td>33.000000</td>\n",
       "    </tr>\n",
       "    <tr>\n",
       "      <th>max</th>\n",
       "      <td>102.200000</td>\n",
       "      <td>5.500000</td>\n",
       "      <td>22.200000</td>\n",
       "      <td>6.000000</td>\n",
       "      <td>13.800000</td>\n",
       "      <td>105.100000</td>\n",
       "      <td>66.000000</td>\n",
       "    </tr>\n",
       "  </tbody>\n",
       "</table>\n",
       "</div>"
      ],
      "text/plain": [
       "           genetic     exercise      smoking      alcohol        sugar  \\\n",
       "count  4084.000000  4084.000000  4084.000000  4084.000000  4084.000000   \n",
       "mean     82.278624     2.403477     9.809035     2.266846     6.487169   \n",
       "std       7.441333     1.170426     6.918614     1.801044     2.708622   \n",
       "min      63.900000     0.100000     0.000000     0.000000     0.700000   \n",
       "25%      77.600000     1.500000     3.375000     0.600000     4.400000   \n",
       "50%      81.800000     2.200000     9.500000     1.700000     6.300000   \n",
       "75%      86.700000     3.200000    15.900000     4.000000     8.400000   \n",
       "max     102.200000     5.500000    22.200000     6.000000    13.800000   \n",
       "\n",
       "          lifespan          bmi  \n",
       "count  4084.000000  4084.000000  \n",
       "mean     80.177693    27.681685  \n",
       "std       7.840508     8.710015  \n",
       "min      57.000000    11.000000  \n",
       "25%      75.000000    21.000000  \n",
       "50%      79.700000    26.000000  \n",
       "75%      85.200000    33.000000  \n",
       "max     105.100000    66.000000  "
      ]
     },
     "metadata": {},
     "output_type": "display_data"
    },
    {
     "data": {
      "text/plain": [
       "(4084, 7)"
      ]
     },
     "metadata": {},
     "output_type": "display_data"
    }
   ],
   "source": [
    "lsd = pd.read_csv('lsdLight230310.csv')\n",
    "display(lsd.describe())\n",
    "display(lsd.shape)"
   ]
  },
  {
   "cell_type": "markdown",
   "id": "c7d9a6be-2dd9-41bd-9f13-7ca6ce99bc98",
   "metadata": {},
   "source": [
    "X en y definieren en dataset verdelen in trainingsgedeelte en testgedeelte:"
   ]
  },
  {
   "cell_type": "code",
   "execution_count": 124,
   "id": "00f72d2b-22dd-457f-b42d-8c0fe9c86611",
   "metadata": {},
   "outputs": [],
   "source": [
    "y = lsd.lifespan.values\n",
    "X = lsd[['genetic','exercise','smoking','alcohol','sugar','bmi']].values\n",
    "X_train, X_test, y_train, y_test = train_test_split(X, y, test_size=0.2, random_state=42)"
   ]
  },
  {
   "cell_type": "code",
   "execution_count": 125,
   "id": "71fdb0fc-c42f-4092-b033-8dc982d50e0c",
   "metadata": {},
   "outputs": [
    {
     "data": {
      "text/html": [
       "<style>#sk-container-id-14 {color: black;background-color: white;}#sk-container-id-14 pre{padding: 0;}#sk-container-id-14 div.sk-toggleable {background-color: white;}#sk-container-id-14 label.sk-toggleable__label {cursor: pointer;display: block;width: 100%;margin-bottom: 0;padding: 0.3em;box-sizing: border-box;text-align: center;}#sk-container-id-14 label.sk-toggleable__label-arrow:before {content: \"▸\";float: left;margin-right: 0.25em;color: #696969;}#sk-container-id-14 label.sk-toggleable__label-arrow:hover:before {color: black;}#sk-container-id-14 div.sk-estimator:hover label.sk-toggleable__label-arrow:before {color: black;}#sk-container-id-14 div.sk-toggleable__content {max-height: 0;max-width: 0;overflow: hidden;text-align: left;background-color: #f0f8ff;}#sk-container-id-14 div.sk-toggleable__content pre {margin: 0.2em;color: black;border-radius: 0.25em;background-color: #f0f8ff;}#sk-container-id-14 input.sk-toggleable__control:checked~div.sk-toggleable__content {max-height: 200px;max-width: 100%;overflow: auto;}#sk-container-id-14 input.sk-toggleable__control:checked~label.sk-toggleable__label-arrow:before {content: \"▾\";}#sk-container-id-14 div.sk-estimator input.sk-toggleable__control:checked~label.sk-toggleable__label {background-color: #d4ebff;}#sk-container-id-14 div.sk-label input.sk-toggleable__control:checked~label.sk-toggleable__label {background-color: #d4ebff;}#sk-container-id-14 input.sk-hidden--visually {border: 0;clip: rect(1px 1px 1px 1px);clip: rect(1px, 1px, 1px, 1px);height: 1px;margin: -1px;overflow: hidden;padding: 0;position: absolute;width: 1px;}#sk-container-id-14 div.sk-estimator {font-family: monospace;background-color: #f0f8ff;border: 1px dotted black;border-radius: 0.25em;box-sizing: border-box;margin-bottom: 0.5em;}#sk-container-id-14 div.sk-estimator:hover {background-color: #d4ebff;}#sk-container-id-14 div.sk-parallel-item::after {content: \"\";width: 100%;border-bottom: 1px solid gray;flex-grow: 1;}#sk-container-id-14 div.sk-label:hover label.sk-toggleable__label {background-color: #d4ebff;}#sk-container-id-14 div.sk-serial::before {content: \"\";position: absolute;border-left: 1px solid gray;box-sizing: border-box;top: 0;bottom: 0;left: 50%;z-index: 0;}#sk-container-id-14 div.sk-serial {display: flex;flex-direction: column;align-items: center;background-color: white;padding-right: 0.2em;padding-left: 0.2em;position: relative;}#sk-container-id-14 div.sk-item {position: relative;z-index: 1;}#sk-container-id-14 div.sk-parallel {display: flex;align-items: stretch;justify-content: center;background-color: white;position: relative;}#sk-container-id-14 div.sk-item::before, #sk-container-id-14 div.sk-parallel-item::before {content: \"\";position: absolute;border-left: 1px solid gray;box-sizing: border-box;top: 0;bottom: 0;left: 50%;z-index: -1;}#sk-container-id-14 div.sk-parallel-item {display: flex;flex-direction: column;z-index: 1;position: relative;background-color: white;}#sk-container-id-14 div.sk-parallel-item:first-child::after {align-self: flex-end;width: 50%;}#sk-container-id-14 div.sk-parallel-item:last-child::after {align-self: flex-start;width: 50%;}#sk-container-id-14 div.sk-parallel-item:only-child::after {width: 0;}#sk-container-id-14 div.sk-dashed-wrapped {border: 1px dashed gray;margin: 0 0.4em 0.5em 0.4em;box-sizing: border-box;padding-bottom: 0.4em;background-color: white;}#sk-container-id-14 div.sk-label label {font-family: monospace;font-weight: bold;display: inline-block;line-height: 1.2em;}#sk-container-id-14 div.sk-label-container {text-align: center;}#sk-container-id-14 div.sk-container {/* jupyter's `normalize.less` sets `[hidden] { display: none; }` but bootstrap.min.css set `[hidden] { display: none !important; }` so we also need the `!important` here to be able to override the default hidden behavior on the sphinx rendered scikit-learn.org. See: https://github.com/scikit-learn/scikit-learn/issues/21755 */display: inline-block !important;position: relative;}#sk-container-id-14 div.sk-text-repr-fallback {display: none;}</style><div id=\"sk-container-id-14\" class=\"sk-top-container\"><div class=\"sk-text-repr-fallback\"><pre>LinearRegression()</pre><b>In a Jupyter environment, please rerun this cell to show the HTML representation or trust the notebook. <br />On GitHub, the HTML representation is unable to render, please try loading this page with nbviewer.org.</b></div><div class=\"sk-container\" hidden><div class=\"sk-item\"><div class=\"sk-estimator sk-toggleable\"><input class=\"sk-toggleable__control sk-hidden--visually\" id=\"sk-estimator-id-14\" type=\"checkbox\" checked><label for=\"sk-estimator-id-14\" class=\"sk-toggleable__label sk-toggleable__label-arrow\">LinearRegression</label><div class=\"sk-toggleable__content\"><pre>LinearRegression()</pre></div></div></div></div></div>"
      ],
      "text/plain": [
       "LinearRegression()"
      ]
     },
     "execution_count": 125,
     "metadata": {},
     "output_type": "execute_result"
    }
   ],
   "source": [
    "reg = linear_model.LinearRegression() \n",
    "reg.fit(X_train, y_train)"
   ]
  },
  {
   "cell_type": "code",
   "execution_count": 126,
   "id": "8ddbff5b-aeb7-4b4e-866d-805c82504753",
   "metadata": {},
   "outputs": [
    {
     "data": {
      "text/plain": [
       "array([ 1.00081708,  0.80891882, -0.26521302, -0.2316613 , -0.06927231,\n",
       "       -0.07203376])"
      ]
     },
     "execution_count": 126,
     "metadata": {},
     "output_type": "execute_result"
    }
   ],
   "source": [
    "reg.coef_ # geeft de coeff van elk van de 7 features"
   ]
  },
  {
   "cell_type": "code",
   "execution_count": 127,
   "id": "d44d8271-19e7-4ccc-bb6c-b63f489d0e64",
   "metadata": {},
   "outputs": [
    {
     "data": {
      "text/plain": [
       "1.457310345219355"
      ]
     },
     "execution_count": 127,
     "metadata": {},
     "output_type": "execute_result"
    }
   ],
   "source": [
    "reg.intercept_ # punt waar de intercept de y-as kruist"
   ]
  },
  {
   "cell_type": "code",
   "execution_count": 128,
   "id": "2ea20ac6-571a-4950-be9b-e7c1e23accbb",
   "metadata": {},
   "outputs": [
    {
     "data": {
      "text/plain": [
       "array([80.17555481])"
      ]
     },
     "metadata": {},
     "output_type": "display_data"
    }
   ],
   "source": [
    "display(reg.predict([[82.28, 2.4, 9.81, 2.27, 6.48, 27.68]])) # alle gemiddelde waarden genomen."
   ]
  },
  {
   "cell_type": "markdown",
   "id": "561d8b45-a5a5-4226-b6a1-7613e6a7b2a4",
   "metadata": {},
   "source": [
    "## Testen hoe goed mijn model op de tweede dataset werkt"
   ]
  },
  {
   "cell_type": "code",
   "execution_count": 129,
   "id": "988546fe-15d3-42ee-aa3b-6538adcb19c1",
   "metadata": {},
   "outputs": [
    {
     "data": {
      "text/plain": [
       "0.9806693050642554"
      ]
     },
     "metadata": {},
     "output_type": "display_data"
    }
   ],
   "source": [
    "score = reg.score(X_test,y_test)\n",
    "display(score)"
   ]
  },
  {
   "cell_type": "code",
   "execution_count": 130,
   "id": "d05069f3-8686-4516-a87f-7bc54ae9b279",
   "metadata": {},
   "outputs": [],
   "source": [
    "predict_test = reg.predict(X_test)"
   ]
  },
  {
   "cell_type": "code",
   "execution_count": 131,
   "id": "85d3cdce-714f-4f89-9f54-e6a0f0362933",
   "metadata": {},
   "outputs": [
    {
     "data": {
      "text/plain": [
       "1.1970815617658932"
      ]
     },
     "metadata": {},
     "output_type": "display_data"
    },
    {
     "data": {
      "text/plain": [
       "1.0941122253982418"
      ]
     },
     "metadata": {},
     "output_type": "display_data"
    }
   ],
   "source": [
    "mse = mean_squared_error(y_test, predict_test)\n",
    "rmse = (math.sqrt(mse))\n",
    "display(mse)\n",
    "display(rmse)"
   ]
  },
  {
   "cell_type": "markdown",
   "id": "6c01d838-5df7-49e3-b838-68c44fe7077e",
   "metadata": {},
   "source": [
    "## Derde dataset (zonder outliers, met 'length' en 'mass', met bmi)\n",
    "- wonderlijk: het was de bedoeling om deze dataset zonder bmi te maken"
   ]
  },
  {
   "cell_type": "code",
   "execution_count": 132,
   "id": "a6b2bf64-4eca-46f2-b3e3-123849b5c358",
   "metadata": {},
   "outputs": [
    {
     "data": {
      "text/html": [
       "<div>\n",
       "<style scoped>\n",
       "    .dataframe tbody tr th:only-of-type {\n",
       "        vertical-align: middle;\n",
       "    }\n",
       "\n",
       "    .dataframe tbody tr th {\n",
       "        vertical-align: top;\n",
       "    }\n",
       "\n",
       "    .dataframe thead th {\n",
       "        text-align: right;\n",
       "    }\n",
       "</style>\n",
       "<table border=\"1\" class=\"dataframe\">\n",
       "  <thead>\n",
       "    <tr style=\"text-align: right;\">\n",
       "      <th></th>\n",
       "      <th>genetic</th>\n",
       "      <th>length</th>\n",
       "      <th>mass</th>\n",
       "      <th>exercise</th>\n",
       "      <th>smoking</th>\n",
       "      <th>alcohol</th>\n",
       "      <th>sugar</th>\n",
       "      <th>lifespan</th>\n",
       "      <th>bmi</th>\n",
       "    </tr>\n",
       "  </thead>\n",
       "  <tbody>\n",
       "    <tr>\n",
       "      <th>count</th>\n",
       "      <td>3975.000000</td>\n",
       "      <td>3975.000000</td>\n",
       "      <td>3975.000000</td>\n",
       "      <td>3975.000000</td>\n",
       "      <td>3975.000000</td>\n",
       "      <td>3975.000000</td>\n",
       "      <td>3975.000000</td>\n",
       "      <td>3975.000000</td>\n",
       "      <td>3975.000000</td>\n",
       "    </tr>\n",
       "    <tr>\n",
       "      <th>mean</th>\n",
       "      <td>82.036403</td>\n",
       "      <td>184.054088</td>\n",
       "      <td>91.682566</td>\n",
       "      <td>2.404277</td>\n",
       "      <td>9.781031</td>\n",
       "      <td>2.270340</td>\n",
       "      <td>6.484528</td>\n",
       "      <td>79.987044</td>\n",
       "      <td>27.407044</td>\n",
       "    </tr>\n",
       "    <tr>\n",
       "      <th>std</th>\n",
       "      <td>7.086730</td>\n",
       "      <td>12.511810</td>\n",
       "      <td>25.225387</td>\n",
       "      <td>1.170234</td>\n",
       "      <td>6.912136</td>\n",
       "      <td>1.803633</td>\n",
       "      <td>2.708536</td>\n",
       "      <td>7.454091</td>\n",
       "      <td>8.290604</td>\n",
       "    </tr>\n",
       "    <tr>\n",
       "      <th>min</th>\n",
       "      <td>64.000000</td>\n",
       "      <td>154.000000</td>\n",
       "      <td>50.000000</td>\n",
       "      <td>0.100000</td>\n",
       "      <td>0.000000</td>\n",
       "      <td>0.000000</td>\n",
       "      <td>0.700000</td>\n",
       "      <td>59.700000</td>\n",
       "      <td>11.000000</td>\n",
       "    </tr>\n",
       "    <tr>\n",
       "      <th>25%</th>\n",
       "      <td>77.600000</td>\n",
       "      <td>175.000000</td>\n",
       "      <td>71.300000</td>\n",
       "      <td>1.500000</td>\n",
       "      <td>3.300000</td>\n",
       "      <td>0.600000</td>\n",
       "      <td>4.400000</td>\n",
       "      <td>75.000000</td>\n",
       "      <td>21.000000</td>\n",
       "    </tr>\n",
       "    <tr>\n",
       "      <th>50%</th>\n",
       "      <td>81.700000</td>\n",
       "      <td>184.000000</td>\n",
       "      <td>89.000000</td>\n",
       "      <td>2.200000</td>\n",
       "      <td>9.500000</td>\n",
       "      <td>1.700000</td>\n",
       "      <td>6.300000</td>\n",
       "      <td>79.600000</td>\n",
       "      <td>26.000000</td>\n",
       "    </tr>\n",
       "    <tr>\n",
       "      <th>75%</th>\n",
       "      <td>86.450000</td>\n",
       "      <td>193.000000</td>\n",
       "      <td>110.000000</td>\n",
       "      <td>3.200000</td>\n",
       "      <td>15.850000</td>\n",
       "      <td>4.000000</td>\n",
       "      <td>8.400000</td>\n",
       "      <td>84.900000</td>\n",
       "      <td>33.000000</td>\n",
       "    </tr>\n",
       "    <tr>\n",
       "      <th>max</th>\n",
       "      <td>100.300000</td>\n",
       "      <td>214.000000</td>\n",
       "      <td>163.600000</td>\n",
       "      <td>5.500000</td>\n",
       "      <td>22.200000</td>\n",
       "      <td>6.000000</td>\n",
       "      <td>13.800000</td>\n",
       "      <td>100.400000</td>\n",
       "      <td>51.000000</td>\n",
       "    </tr>\n",
       "  </tbody>\n",
       "</table>\n",
       "</div>"
      ],
      "text/plain": [
       "           genetic       length         mass     exercise      smoking  \\\n",
       "count  3975.000000  3975.000000  3975.000000  3975.000000  3975.000000   \n",
       "mean     82.036403   184.054088    91.682566     2.404277     9.781031   \n",
       "std       7.086730    12.511810    25.225387     1.170234     6.912136   \n",
       "min      64.000000   154.000000    50.000000     0.100000     0.000000   \n",
       "25%      77.600000   175.000000    71.300000     1.500000     3.300000   \n",
       "50%      81.700000   184.000000    89.000000     2.200000     9.500000   \n",
       "75%      86.450000   193.000000   110.000000     3.200000    15.850000   \n",
       "max     100.300000   214.000000   163.600000     5.500000    22.200000   \n",
       "\n",
       "           alcohol        sugar     lifespan          bmi  \n",
       "count  3975.000000  3975.000000  3975.000000  3975.000000  \n",
       "mean      2.270340     6.484528    79.987044    27.407044  \n",
       "std       1.803633     2.708536     7.454091     8.290604  \n",
       "min       0.000000     0.700000    59.700000    11.000000  \n",
       "25%       0.600000     4.400000    75.000000    21.000000  \n",
       "50%       1.700000     6.300000    79.600000    26.000000  \n",
       "75%       4.000000     8.400000    84.900000    33.000000  \n",
       "max       6.000000    13.800000   100.400000    51.000000  "
      ]
     },
     "metadata": {},
     "output_type": "display_data"
    }
   ],
   "source": [
    "lsd = pd.read_csv('lsdNoOutl230310.csv')\n",
    "display(lsd.describe())"
   ]
  },
  {
   "cell_type": "markdown",
   "id": "f7df726b-0330-404e-8312-1b2c19981091",
   "metadata": {},
   "source": [
    "X en y definieren en dataset verdelen in trainingsgedeelte en testgedeelte:\n"
   ]
  },
  {
   "cell_type": "code",
   "execution_count": 133,
   "id": "75c590e0-fe9d-476d-9ac1-1a62601cecc9",
   "metadata": {},
   "outputs": [],
   "source": [
    "y = lsd.lifespan.values\n",
    "X = lsd[['genetic','length','mass','exercise','smoking','alcohol','sugar','bmi']].values\n",
    "\n",
    "X_train, X_test, y_train, y_test = train_test_split(X, y, test_size=0.2, random_state=42)"
   ]
  },
  {
   "cell_type": "code",
   "execution_count": 134,
   "id": "b0cedfd6-a1f1-4d04-a4d1-995a4b44d773",
   "metadata": {},
   "outputs": [
    {
     "data": {
      "text/html": [
       "<style>#sk-container-id-15 {color: black;background-color: white;}#sk-container-id-15 pre{padding: 0;}#sk-container-id-15 div.sk-toggleable {background-color: white;}#sk-container-id-15 label.sk-toggleable__label {cursor: pointer;display: block;width: 100%;margin-bottom: 0;padding: 0.3em;box-sizing: border-box;text-align: center;}#sk-container-id-15 label.sk-toggleable__label-arrow:before {content: \"▸\";float: left;margin-right: 0.25em;color: #696969;}#sk-container-id-15 label.sk-toggleable__label-arrow:hover:before {color: black;}#sk-container-id-15 div.sk-estimator:hover label.sk-toggleable__label-arrow:before {color: black;}#sk-container-id-15 div.sk-toggleable__content {max-height: 0;max-width: 0;overflow: hidden;text-align: left;background-color: #f0f8ff;}#sk-container-id-15 div.sk-toggleable__content pre {margin: 0.2em;color: black;border-radius: 0.25em;background-color: #f0f8ff;}#sk-container-id-15 input.sk-toggleable__control:checked~div.sk-toggleable__content {max-height: 200px;max-width: 100%;overflow: auto;}#sk-container-id-15 input.sk-toggleable__control:checked~label.sk-toggleable__label-arrow:before {content: \"▾\";}#sk-container-id-15 div.sk-estimator input.sk-toggleable__control:checked~label.sk-toggleable__label {background-color: #d4ebff;}#sk-container-id-15 div.sk-label input.sk-toggleable__control:checked~label.sk-toggleable__label {background-color: #d4ebff;}#sk-container-id-15 input.sk-hidden--visually {border: 0;clip: rect(1px 1px 1px 1px);clip: rect(1px, 1px, 1px, 1px);height: 1px;margin: -1px;overflow: hidden;padding: 0;position: absolute;width: 1px;}#sk-container-id-15 div.sk-estimator {font-family: monospace;background-color: #f0f8ff;border: 1px dotted black;border-radius: 0.25em;box-sizing: border-box;margin-bottom: 0.5em;}#sk-container-id-15 div.sk-estimator:hover {background-color: #d4ebff;}#sk-container-id-15 div.sk-parallel-item::after {content: \"\";width: 100%;border-bottom: 1px solid gray;flex-grow: 1;}#sk-container-id-15 div.sk-label:hover label.sk-toggleable__label {background-color: #d4ebff;}#sk-container-id-15 div.sk-serial::before {content: \"\";position: absolute;border-left: 1px solid gray;box-sizing: border-box;top: 0;bottom: 0;left: 50%;z-index: 0;}#sk-container-id-15 div.sk-serial {display: flex;flex-direction: column;align-items: center;background-color: white;padding-right: 0.2em;padding-left: 0.2em;position: relative;}#sk-container-id-15 div.sk-item {position: relative;z-index: 1;}#sk-container-id-15 div.sk-parallel {display: flex;align-items: stretch;justify-content: center;background-color: white;position: relative;}#sk-container-id-15 div.sk-item::before, #sk-container-id-15 div.sk-parallel-item::before {content: \"\";position: absolute;border-left: 1px solid gray;box-sizing: border-box;top: 0;bottom: 0;left: 50%;z-index: -1;}#sk-container-id-15 div.sk-parallel-item {display: flex;flex-direction: column;z-index: 1;position: relative;background-color: white;}#sk-container-id-15 div.sk-parallel-item:first-child::after {align-self: flex-end;width: 50%;}#sk-container-id-15 div.sk-parallel-item:last-child::after {align-self: flex-start;width: 50%;}#sk-container-id-15 div.sk-parallel-item:only-child::after {width: 0;}#sk-container-id-15 div.sk-dashed-wrapped {border: 1px dashed gray;margin: 0 0.4em 0.5em 0.4em;box-sizing: border-box;padding-bottom: 0.4em;background-color: white;}#sk-container-id-15 div.sk-label label {font-family: monospace;font-weight: bold;display: inline-block;line-height: 1.2em;}#sk-container-id-15 div.sk-label-container {text-align: center;}#sk-container-id-15 div.sk-container {/* jupyter's `normalize.less` sets `[hidden] { display: none; }` but bootstrap.min.css set `[hidden] { display: none !important; }` so we also need the `!important` here to be able to override the default hidden behavior on the sphinx rendered scikit-learn.org. See: https://github.com/scikit-learn/scikit-learn/issues/21755 */display: inline-block !important;position: relative;}#sk-container-id-15 div.sk-text-repr-fallback {display: none;}</style><div id=\"sk-container-id-15\" class=\"sk-top-container\"><div class=\"sk-text-repr-fallback\"><pre>LinearRegression()</pre><b>In a Jupyter environment, please rerun this cell to show the HTML representation or trust the notebook. <br />On GitHub, the HTML representation is unable to render, please try loading this page with nbviewer.org.</b></div><div class=\"sk-container\" hidden><div class=\"sk-item\"><div class=\"sk-estimator sk-toggleable\"><input class=\"sk-toggleable__control sk-hidden--visually\" id=\"sk-estimator-id-15\" type=\"checkbox\" checked><label for=\"sk-estimator-id-15\" class=\"sk-toggleable__label sk-toggleable__label-arrow\">LinearRegression</label><div class=\"sk-toggleable__content\"><pre>LinearRegression()</pre></div></div></div></div></div>"
      ],
      "text/plain": [
       "LinearRegression()"
      ]
     },
     "execution_count": 134,
     "metadata": {},
     "output_type": "execute_result"
    }
   ],
   "source": [
    "reg = linear_model.LinearRegression() \n",
    "reg.fit(X_train, y_train) # standaard\n"
   ]
  },
  {
   "cell_type": "code",
   "execution_count": 135,
   "id": "0f931a71-f276-4cd3-a506-a2cda2ae8107",
   "metadata": {},
   "outputs": [
    {
     "data": {
      "text/plain": [
       "array([ 1.00062834, -0.03306715,  0.03313062,  0.81277307, -0.26385016,\n",
       "       -0.22173559, -0.07086702, -0.17442886])"
      ]
     },
     "execution_count": 135,
     "metadata": {},
     "output_type": "execute_result"
    }
   ],
   "source": [
    "reg.coef_ # geeft de coeff van elk van de 7 features"
   ]
  },
  {
   "cell_type": "code",
   "execution_count": 136,
   "id": "b8b0a586-a0ee-4ebc-a343-bd9b0d4dced9",
   "metadata": {},
   "outputs": [
    {
     "data": {
      "text/plain": [
       "7.321621514271996"
      ]
     },
     "execution_count": 136,
     "metadata": {},
     "output_type": "execute_result"
    }
   ],
   "source": [
    "reg.intercept_ # punt waar de intercept de y-as kruist"
   ]
  },
  {
   "cell_type": "code",
   "execution_count": 137,
   "id": "f273ec89-5bb8-4d6d-89e6-8a24e9eda4c3",
   "metadata": {},
   "outputs": [
    {
     "data": {
      "text/plain": [
       "array([79.99112433])"
      ]
     },
     "metadata": {},
     "output_type": "display_data"
    }
   ],
   "source": [
    "display(reg.predict([[82.04, 184.05, 91.68, 2.4, 9.78, 2.27, 6.48, 27.41]])) # alle gemiddelde waarden genomen."
   ]
  },
  {
   "cell_type": "markdown",
   "id": "ff59efd6-f9ea-40a2-a25b-8cacc3768b37",
   "metadata": {},
   "source": [
    "## Test: hoe goed werkt het model op de derde dataset"
   ]
  },
  {
   "cell_type": "code",
   "execution_count": 138,
   "id": "8e13fc2d-272f-46ac-900d-2c4ab5ddb015",
   "metadata": {},
   "outputs": [
    {
     "data": {
      "text/plain": [
       "0.9803044592571766"
      ]
     },
     "metadata": {},
     "output_type": "display_data"
    }
   ],
   "source": [
    "score = reg.score(X_test,y_test)\n",
    "display(score)"
   ]
  },
  {
   "cell_type": "code",
   "execution_count": 139,
   "id": "211cf1e8-1e6a-4ec5-b7da-0df5e6e08131",
   "metadata": {},
   "outputs": [],
   "source": [
    "predict_test = reg.predict(X_test)"
   ]
  },
  {
   "cell_type": "code",
   "execution_count": 140,
   "id": "c8220d93-8ac4-4fb1-86ef-d625d52fca6b",
   "metadata": {},
   "outputs": [
    {
     "data": {
      "text/plain": [
       "1.0639184631048166"
      ]
     },
     "metadata": {},
     "output_type": "display_data"
    },
    {
     "data": {
      "text/plain": [
       "1.0314642325862864"
      ]
     },
     "metadata": {},
     "output_type": "display_data"
    }
   ],
   "source": [
    "mse = mean_squared_error(y_test, predict_test)\n",
    "rmse = (math.sqrt(mse))\n",
    "display(mse)\n",
    "display(rmse)"
   ]
  },
  {
   "cell_type": "markdown",
   "id": "29126408-82da-4d14-be6c-eb771a984f69",
   "metadata": {},
   "source": [
    "## Test: zijn er nog verschillen als ik de bmi-kolom niet meeneem? Hoe goed werkt het model dan op de aangepaste derde dataset? \n"
   ]
  },
  {
   "cell_type": "code",
   "execution_count": 141,
   "id": "db26abac-e006-4dca-80b5-8905826d4a01",
   "metadata": {},
   "outputs": [],
   "source": [
    "lsd = pd.read_csv('lsdNoOutl230310.csv')\n",
    "y = lsd.lifespan.values\n",
    "Xe = lsd[['genetic','length','mass','exercise','smoking','alcohol','sugar']].values # zonder bmi; Xe = X_extra\n",
    "Xe_train, Xe_test, y_train, y_test = train_test_split(Xe, y, test_size=0.2, random_state=42)"
   ]
  },
  {
   "cell_type": "code",
   "execution_count": 142,
   "id": "559de9f2-253e-4443-a774-158b4e45045d",
   "metadata": {},
   "outputs": [
    {
     "data": {
      "text/html": [
       "<style>#sk-container-id-16 {color: black;background-color: white;}#sk-container-id-16 pre{padding: 0;}#sk-container-id-16 div.sk-toggleable {background-color: white;}#sk-container-id-16 label.sk-toggleable__label {cursor: pointer;display: block;width: 100%;margin-bottom: 0;padding: 0.3em;box-sizing: border-box;text-align: center;}#sk-container-id-16 label.sk-toggleable__label-arrow:before {content: \"▸\";float: left;margin-right: 0.25em;color: #696969;}#sk-container-id-16 label.sk-toggleable__label-arrow:hover:before {color: black;}#sk-container-id-16 div.sk-estimator:hover label.sk-toggleable__label-arrow:before {color: black;}#sk-container-id-16 div.sk-toggleable__content {max-height: 0;max-width: 0;overflow: hidden;text-align: left;background-color: #f0f8ff;}#sk-container-id-16 div.sk-toggleable__content pre {margin: 0.2em;color: black;border-radius: 0.25em;background-color: #f0f8ff;}#sk-container-id-16 input.sk-toggleable__control:checked~div.sk-toggleable__content {max-height: 200px;max-width: 100%;overflow: auto;}#sk-container-id-16 input.sk-toggleable__control:checked~label.sk-toggleable__label-arrow:before {content: \"▾\";}#sk-container-id-16 div.sk-estimator input.sk-toggleable__control:checked~label.sk-toggleable__label {background-color: #d4ebff;}#sk-container-id-16 div.sk-label input.sk-toggleable__control:checked~label.sk-toggleable__label {background-color: #d4ebff;}#sk-container-id-16 input.sk-hidden--visually {border: 0;clip: rect(1px 1px 1px 1px);clip: rect(1px, 1px, 1px, 1px);height: 1px;margin: -1px;overflow: hidden;padding: 0;position: absolute;width: 1px;}#sk-container-id-16 div.sk-estimator {font-family: monospace;background-color: #f0f8ff;border: 1px dotted black;border-radius: 0.25em;box-sizing: border-box;margin-bottom: 0.5em;}#sk-container-id-16 div.sk-estimator:hover {background-color: #d4ebff;}#sk-container-id-16 div.sk-parallel-item::after {content: \"\";width: 100%;border-bottom: 1px solid gray;flex-grow: 1;}#sk-container-id-16 div.sk-label:hover label.sk-toggleable__label {background-color: #d4ebff;}#sk-container-id-16 div.sk-serial::before {content: \"\";position: absolute;border-left: 1px solid gray;box-sizing: border-box;top: 0;bottom: 0;left: 50%;z-index: 0;}#sk-container-id-16 div.sk-serial {display: flex;flex-direction: column;align-items: center;background-color: white;padding-right: 0.2em;padding-left: 0.2em;position: relative;}#sk-container-id-16 div.sk-item {position: relative;z-index: 1;}#sk-container-id-16 div.sk-parallel {display: flex;align-items: stretch;justify-content: center;background-color: white;position: relative;}#sk-container-id-16 div.sk-item::before, #sk-container-id-16 div.sk-parallel-item::before {content: \"\";position: absolute;border-left: 1px solid gray;box-sizing: border-box;top: 0;bottom: 0;left: 50%;z-index: -1;}#sk-container-id-16 div.sk-parallel-item {display: flex;flex-direction: column;z-index: 1;position: relative;background-color: white;}#sk-container-id-16 div.sk-parallel-item:first-child::after {align-self: flex-end;width: 50%;}#sk-container-id-16 div.sk-parallel-item:last-child::after {align-self: flex-start;width: 50%;}#sk-container-id-16 div.sk-parallel-item:only-child::after {width: 0;}#sk-container-id-16 div.sk-dashed-wrapped {border: 1px dashed gray;margin: 0 0.4em 0.5em 0.4em;box-sizing: border-box;padding-bottom: 0.4em;background-color: white;}#sk-container-id-16 div.sk-label label {font-family: monospace;font-weight: bold;display: inline-block;line-height: 1.2em;}#sk-container-id-16 div.sk-label-container {text-align: center;}#sk-container-id-16 div.sk-container {/* jupyter's `normalize.less` sets `[hidden] { display: none; }` but bootstrap.min.css set `[hidden] { display: none !important; }` so we also need the `!important` here to be able to override the default hidden behavior on the sphinx rendered scikit-learn.org. See: https://github.com/scikit-learn/scikit-learn/issues/21755 */display: inline-block !important;position: relative;}#sk-container-id-16 div.sk-text-repr-fallback {display: none;}</style><div id=\"sk-container-id-16\" class=\"sk-top-container\"><div class=\"sk-text-repr-fallback\"><pre>LinearRegression()</pre><b>In a Jupyter environment, please rerun this cell to show the HTML representation or trust the notebook. <br />On GitHub, the HTML representation is unable to render, please try loading this page with nbviewer.org.</b></div><div class=\"sk-container\" hidden><div class=\"sk-item\"><div class=\"sk-estimator sk-toggleable\"><input class=\"sk-toggleable__control sk-hidden--visually\" id=\"sk-estimator-id-16\" type=\"checkbox\" checked><label for=\"sk-estimator-id-16\" class=\"sk-toggleable__label sk-toggleable__label-arrow\">LinearRegression</label><div class=\"sk-toggleable__content\"><pre>LinearRegression()</pre></div></div></div></div></div>"
      ],
      "text/plain": [
       "LinearRegression()"
      ]
     },
     "execution_count": 142,
     "metadata": {},
     "output_type": "execute_result"
    }
   ],
   "source": [
    "reg = linear_model.LinearRegression() \n",
    "reg.fit(Xe_train, y_train) "
   ]
  },
  {
   "cell_type": "code",
   "execution_count": 143,
   "id": "3a9ad7e5-520c-4741-a5f4-9226128fcfb9",
   "metadata": {},
   "outputs": [
    {
     "data": {
      "text/plain": [
       "0.979444632196091"
      ]
     },
     "metadata": {},
     "output_type": "display_data"
    }
   ],
   "source": [
    "score = reg.score(Xe_test,y_test)\n",
    "display(score)"
   ]
  },
  {
   "cell_type": "code",
   "execution_count": 144,
   "id": "98b19525-e55b-41c4-9dec-b6b4f8172267",
   "metadata": {},
   "outputs": [],
   "source": [
    "predict_test = reg.predict(Xe_test)"
   ]
  },
  {
   "cell_type": "code",
   "execution_count": 145,
   "id": "025fc5f0-afa4-4068-80fa-61e608fe22d5",
   "metadata": {},
   "outputs": [
    {
     "data": {
      "text/plain": [
       "1.1103648083618949"
      ]
     },
     "metadata": {},
     "output_type": "display_data"
    },
    {
     "data": {
      "text/plain": [
       "1.0537384914493229"
      ]
     },
     "metadata": {},
     "output_type": "display_data"
    }
   ],
   "source": [
    "mse = mean_squared_error(y_test, predict_test)\n",
    "rmse = (math.sqrt(mse))\n",
    "display(mse)\n",
    "display(rmse)"
   ]
  },
  {
   "cell_type": "markdown",
   "id": "06b6d2db-1faa-49b4-bdb6-fa188d657c6d",
   "metadata": {},
   "source": [
    "## Vierde dataset (zonder outliers, zonder 'length' en 'mass', met bmi)"
   ]
  },
  {
   "cell_type": "code",
   "execution_count": 146,
   "id": "477136bb-b4ce-4466-b932-9c2a359bfe1e",
   "metadata": {},
   "outputs": [
    {
     "data": {
      "text/html": [
       "<div>\n",
       "<style scoped>\n",
       "    .dataframe tbody tr th:only-of-type {\n",
       "        vertical-align: middle;\n",
       "    }\n",
       "\n",
       "    .dataframe tbody tr th {\n",
       "        vertical-align: top;\n",
       "    }\n",
       "\n",
       "    .dataframe thead th {\n",
       "        text-align: right;\n",
       "    }\n",
       "</style>\n",
       "<table border=\"1\" class=\"dataframe\">\n",
       "  <thead>\n",
       "    <tr style=\"text-align: right;\">\n",
       "      <th></th>\n",
       "      <th>genetic</th>\n",
       "      <th>exercise</th>\n",
       "      <th>smoking</th>\n",
       "      <th>alcohol</th>\n",
       "      <th>sugar</th>\n",
       "      <th>lifespan</th>\n",
       "      <th>bmi</th>\n",
       "    </tr>\n",
       "  </thead>\n",
       "  <tbody>\n",
       "    <tr>\n",
       "      <th>count</th>\n",
       "      <td>3975.000000</td>\n",
       "      <td>3975.000000</td>\n",
       "      <td>3975.000000</td>\n",
       "      <td>3975.000000</td>\n",
       "      <td>3975.000000</td>\n",
       "      <td>3975.000000</td>\n",
       "      <td>3975.000000</td>\n",
       "    </tr>\n",
       "    <tr>\n",
       "      <th>mean</th>\n",
       "      <td>82.036403</td>\n",
       "      <td>2.404277</td>\n",
       "      <td>9.781031</td>\n",
       "      <td>2.270340</td>\n",
       "      <td>6.484528</td>\n",
       "      <td>79.987044</td>\n",
       "      <td>27.407044</td>\n",
       "    </tr>\n",
       "    <tr>\n",
       "      <th>std</th>\n",
       "      <td>7.086730</td>\n",
       "      <td>1.170234</td>\n",
       "      <td>6.912136</td>\n",
       "      <td>1.803633</td>\n",
       "      <td>2.708536</td>\n",
       "      <td>7.454091</td>\n",
       "      <td>8.290604</td>\n",
       "    </tr>\n",
       "    <tr>\n",
       "      <th>min</th>\n",
       "      <td>64.000000</td>\n",
       "      <td>0.100000</td>\n",
       "      <td>0.000000</td>\n",
       "      <td>0.000000</td>\n",
       "      <td>0.700000</td>\n",
       "      <td>59.700000</td>\n",
       "      <td>11.000000</td>\n",
       "    </tr>\n",
       "    <tr>\n",
       "      <th>25%</th>\n",
       "      <td>77.600000</td>\n",
       "      <td>1.500000</td>\n",
       "      <td>3.300000</td>\n",
       "      <td>0.600000</td>\n",
       "      <td>4.400000</td>\n",
       "      <td>75.000000</td>\n",
       "      <td>21.000000</td>\n",
       "    </tr>\n",
       "    <tr>\n",
       "      <th>50%</th>\n",
       "      <td>81.700000</td>\n",
       "      <td>2.200000</td>\n",
       "      <td>9.500000</td>\n",
       "      <td>1.700000</td>\n",
       "      <td>6.300000</td>\n",
       "      <td>79.600000</td>\n",
       "      <td>26.000000</td>\n",
       "    </tr>\n",
       "    <tr>\n",
       "      <th>75%</th>\n",
       "      <td>86.450000</td>\n",
       "      <td>3.200000</td>\n",
       "      <td>15.850000</td>\n",
       "      <td>4.000000</td>\n",
       "      <td>8.400000</td>\n",
       "      <td>84.900000</td>\n",
       "      <td>33.000000</td>\n",
       "    </tr>\n",
       "    <tr>\n",
       "      <th>max</th>\n",
       "      <td>100.300000</td>\n",
       "      <td>5.500000</td>\n",
       "      <td>22.200000</td>\n",
       "      <td>6.000000</td>\n",
       "      <td>13.800000</td>\n",
       "      <td>100.400000</td>\n",
       "      <td>51.000000</td>\n",
       "    </tr>\n",
       "  </tbody>\n",
       "</table>\n",
       "</div>"
      ],
      "text/plain": [
       "           genetic     exercise      smoking      alcohol        sugar  \\\n",
       "count  3975.000000  3975.000000  3975.000000  3975.000000  3975.000000   \n",
       "mean     82.036403     2.404277     9.781031     2.270340     6.484528   \n",
       "std       7.086730     1.170234     6.912136     1.803633     2.708536   \n",
       "min      64.000000     0.100000     0.000000     0.000000     0.700000   \n",
       "25%      77.600000     1.500000     3.300000     0.600000     4.400000   \n",
       "50%      81.700000     2.200000     9.500000     1.700000     6.300000   \n",
       "75%      86.450000     3.200000    15.850000     4.000000     8.400000   \n",
       "max     100.300000     5.500000    22.200000     6.000000    13.800000   \n",
       "\n",
       "          lifespan          bmi  \n",
       "count  3975.000000  3975.000000  \n",
       "mean     79.987044    27.407044  \n",
       "std       7.454091     8.290604  \n",
       "min      59.700000    11.000000  \n",
       "25%      75.000000    21.000000  \n",
       "50%      79.600000    26.000000  \n",
       "75%      84.900000    33.000000  \n",
       "max     100.400000    51.000000  "
      ]
     },
     "metadata": {},
     "output_type": "display_data"
    }
   ],
   "source": [
    "lsd = pd.read_csv('lsdLightNoOutl230310.csv')\n",
    "display(lsd.describe())"
   ]
  },
  {
   "cell_type": "markdown",
   "id": "b98c5687-60bd-4771-854d-85737ee223f8",
   "metadata": {},
   "source": [
    "X en y definieren en dataset verdelen in trainingsgedeelte en testgedeelte:"
   ]
  },
  {
   "cell_type": "code",
   "execution_count": 156,
   "id": "fca2d0bf-b314-4926-b666-7256203b6d86",
   "metadata": {},
   "outputs": [],
   "source": [
    "y = lsd.lifespan.values\n",
    "X = lsd[['genetic','exercise','smoking','alcohol','sugar','bmi']].values\n",
    "X_train, X_test, y_train, y_test = train_test_split(X, y, test_size=0.2, random_state=42)"
   ]
  },
  {
   "cell_type": "code",
   "execution_count": 148,
   "id": "aa44c34d-624f-44f5-ae1a-502443763fe6",
   "metadata": {},
   "outputs": [
    {
     "data": {
      "text/html": [
       "<style>#sk-container-id-17 {color: black;background-color: white;}#sk-container-id-17 pre{padding: 0;}#sk-container-id-17 div.sk-toggleable {background-color: white;}#sk-container-id-17 label.sk-toggleable__label {cursor: pointer;display: block;width: 100%;margin-bottom: 0;padding: 0.3em;box-sizing: border-box;text-align: center;}#sk-container-id-17 label.sk-toggleable__label-arrow:before {content: \"▸\";float: left;margin-right: 0.25em;color: #696969;}#sk-container-id-17 label.sk-toggleable__label-arrow:hover:before {color: black;}#sk-container-id-17 div.sk-estimator:hover label.sk-toggleable__label-arrow:before {color: black;}#sk-container-id-17 div.sk-toggleable__content {max-height: 0;max-width: 0;overflow: hidden;text-align: left;background-color: #f0f8ff;}#sk-container-id-17 div.sk-toggleable__content pre {margin: 0.2em;color: black;border-radius: 0.25em;background-color: #f0f8ff;}#sk-container-id-17 input.sk-toggleable__control:checked~div.sk-toggleable__content {max-height: 200px;max-width: 100%;overflow: auto;}#sk-container-id-17 input.sk-toggleable__control:checked~label.sk-toggleable__label-arrow:before {content: \"▾\";}#sk-container-id-17 div.sk-estimator input.sk-toggleable__control:checked~label.sk-toggleable__label {background-color: #d4ebff;}#sk-container-id-17 div.sk-label input.sk-toggleable__control:checked~label.sk-toggleable__label {background-color: #d4ebff;}#sk-container-id-17 input.sk-hidden--visually {border: 0;clip: rect(1px 1px 1px 1px);clip: rect(1px, 1px, 1px, 1px);height: 1px;margin: -1px;overflow: hidden;padding: 0;position: absolute;width: 1px;}#sk-container-id-17 div.sk-estimator {font-family: monospace;background-color: #f0f8ff;border: 1px dotted black;border-radius: 0.25em;box-sizing: border-box;margin-bottom: 0.5em;}#sk-container-id-17 div.sk-estimator:hover {background-color: #d4ebff;}#sk-container-id-17 div.sk-parallel-item::after {content: \"\";width: 100%;border-bottom: 1px solid gray;flex-grow: 1;}#sk-container-id-17 div.sk-label:hover label.sk-toggleable__label {background-color: #d4ebff;}#sk-container-id-17 div.sk-serial::before {content: \"\";position: absolute;border-left: 1px solid gray;box-sizing: border-box;top: 0;bottom: 0;left: 50%;z-index: 0;}#sk-container-id-17 div.sk-serial {display: flex;flex-direction: column;align-items: center;background-color: white;padding-right: 0.2em;padding-left: 0.2em;position: relative;}#sk-container-id-17 div.sk-item {position: relative;z-index: 1;}#sk-container-id-17 div.sk-parallel {display: flex;align-items: stretch;justify-content: center;background-color: white;position: relative;}#sk-container-id-17 div.sk-item::before, #sk-container-id-17 div.sk-parallel-item::before {content: \"\";position: absolute;border-left: 1px solid gray;box-sizing: border-box;top: 0;bottom: 0;left: 50%;z-index: -1;}#sk-container-id-17 div.sk-parallel-item {display: flex;flex-direction: column;z-index: 1;position: relative;background-color: white;}#sk-container-id-17 div.sk-parallel-item:first-child::after {align-self: flex-end;width: 50%;}#sk-container-id-17 div.sk-parallel-item:last-child::after {align-self: flex-start;width: 50%;}#sk-container-id-17 div.sk-parallel-item:only-child::after {width: 0;}#sk-container-id-17 div.sk-dashed-wrapped {border: 1px dashed gray;margin: 0 0.4em 0.5em 0.4em;box-sizing: border-box;padding-bottom: 0.4em;background-color: white;}#sk-container-id-17 div.sk-label label {font-family: monospace;font-weight: bold;display: inline-block;line-height: 1.2em;}#sk-container-id-17 div.sk-label-container {text-align: center;}#sk-container-id-17 div.sk-container {/* jupyter's `normalize.less` sets `[hidden] { display: none; }` but bootstrap.min.css set `[hidden] { display: none !important; }` so we also need the `!important` here to be able to override the default hidden behavior on the sphinx rendered scikit-learn.org. See: https://github.com/scikit-learn/scikit-learn/issues/21755 */display: inline-block !important;position: relative;}#sk-container-id-17 div.sk-text-repr-fallback {display: none;}</style><div id=\"sk-container-id-17\" class=\"sk-top-container\"><div class=\"sk-text-repr-fallback\"><pre>LinearRegression()</pre><b>In a Jupyter environment, please rerun this cell to show the HTML representation or trust the notebook. <br />On GitHub, the HTML representation is unable to render, please try loading this page with nbviewer.org.</b></div><div class=\"sk-container\" hidden><div class=\"sk-item\"><div class=\"sk-estimator sk-toggleable\"><input class=\"sk-toggleable__control sk-hidden--visually\" id=\"sk-estimator-id-17\" type=\"checkbox\" checked><label for=\"sk-estimator-id-17\" class=\"sk-toggleable__label sk-toggleable__label-arrow\">LinearRegression</label><div class=\"sk-toggleable__content\"><pre>LinearRegression()</pre></div></div></div></div></div>"
      ],
      "text/plain": [
       "LinearRegression()"
      ]
     },
     "execution_count": 148,
     "metadata": {},
     "output_type": "execute_result"
    }
   ],
   "source": [
    "reg = linear_model.LinearRegression() \n",
    "reg.fit(X_train, y_train)"
   ]
  },
  {
   "cell_type": "code",
   "execution_count": 149,
   "id": "3d9b0a71-622d-4867-9efc-f64ce35a5691",
   "metadata": {},
   "outputs": [
    {
     "data": {
      "text/plain": [
       "array([ 1.00108466,  0.81202411, -0.2640704 , -0.22176916, -0.071128  ,\n",
       "       -0.06447537])"
      ]
     },
     "execution_count": 149,
     "metadata": {},
     "output_type": "execute_result"
    }
   ],
   "source": [
    "reg.coef_ # geeft de coeff van elk van de 7 features"
   ]
  },
  {
   "cell_type": "code",
   "execution_count": 150,
   "id": "8bda35f8-c585-4cd5-b14a-781003ff0066",
   "metadata": {},
   "outputs": [
    {
     "data": {
      "text/plain": [
       "1.2283119328639316"
      ]
     },
     "execution_count": 150,
     "metadata": {},
     "output_type": "execute_result"
    }
   ],
   "source": [
    "reg.intercept_ # punt waar de intercept de y-as kruist"
   ]
  },
  {
   "cell_type": "code",
   "execution_count": 151,
   "id": "cfec2141-83c2-4d3e-b349-53fc1e5a3e6e",
   "metadata": {},
   "outputs": [
    {
     "data": {
      "text/plain": [
       "array([79.99195106])"
      ]
     },
     "metadata": {},
     "output_type": "display_data"
    }
   ],
   "source": [
    "display(reg.predict([[82.04,2.4, 9.78, 2.27, 6.48, 27.41]])) # alle gemiddelde waarden genomen."
   ]
  },
  {
   "cell_type": "markdown",
   "id": "eba0409a-8906-4407-8be4-71c1acd407eb",
   "metadata": {},
   "source": [
    "## Test: hoe goed werkt het model op de vierde dataset"
   ]
  },
  {
   "cell_type": "code",
   "execution_count": 152,
   "id": "73829619-a3fa-4b61-ba52-fdb00c554302",
   "metadata": {},
   "outputs": [
    {
     "data": {
      "text/plain": [
       "0.9799285570147052"
      ]
     },
     "metadata": {},
     "output_type": "display_data"
    }
   ],
   "source": [
    "score = reg.score(X_test,y_test)\n",
    "display(score)"
   ]
  },
  {
   "cell_type": "code",
   "execution_count": 153,
   "id": "1347f950-0733-490c-b89d-4c8aaacf9daa",
   "metadata": {},
   "outputs": [],
   "source": [
    "predict_test = reg.predict(X_test)"
   ]
  },
  {
   "cell_type": "code",
   "execution_count": 154,
   "id": "9123743a-66e9-4aa2-b9a1-34e3b5efca55",
   "metadata": {},
   "outputs": [
    {
     "data": {
      "text/plain": [
       "1.0842240409668291"
      ]
     },
     "metadata": {},
     "output_type": "display_data"
    },
    {
     "data": {
      "text/plain": [
       "1.0412607939257241"
      ]
     },
     "metadata": {},
     "output_type": "display_data"
    }
   ],
   "source": [
    "mse = mean_squared_error(y_test, predict_test)\n",
    "rmse = (math.sqrt(mse))\n",
    "display(mse)\n",
    "display(rmse)"
   ]
  },
  {
   "cell_type": "markdown",
   "id": "f07b40e5-127c-4057-86a7-9ccd3bae1c3a",
   "metadata": {},
   "source": [
    "## Conclusie Linear Regression\n",
    "Vreemd genoeg is de RSME het beste bij de dataset waarbij zowel lengte, als gewicht als bmi opgenomen zijn. Ik had niet gedacht dat de bmi an sich nog iets toe te voegen had."
   ]
  },
  {
   "cell_type": "code",
   "execution_count": null,
   "id": "4f01e8ac-08bf-448f-94c5-2f4e81f385cd",
   "metadata": {},
   "outputs": [],
   "source": []
  }
 ],
 "metadata": {
  "kernelspec": {
   "display_name": "Python 3 (ipykernel)",
   "language": "python",
   "name": "python3"
  },
  "language_info": {
   "codemirror_mode": {
    "name": "ipython",
    "version": 3
   },
   "file_extension": ".py",
   "mimetype": "text/x-python",
   "name": "python",
   "nbconvert_exporter": "python",
   "pygments_lexer": "ipython3",
   "version": "3.10.9"
  }
 },
 "nbformat": 4,
 "nbformat_minor": 5
}
