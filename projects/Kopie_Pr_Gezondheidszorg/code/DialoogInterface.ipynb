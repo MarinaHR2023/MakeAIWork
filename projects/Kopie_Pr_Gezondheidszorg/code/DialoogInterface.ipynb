{
 "cells": [
  {
   "cell_type": "markdown",
   "id": "9136fe4f-af4f-4318-86f9-976df85bcfe0",
   "metadata": {},
   "source": [
    "# Input & Dialoog interface\n"
   ]
  },
  {
   "cell_type": "code",
   "execution_count": 6,
   "id": "f8de68c9-b128-4981-bb86-8e3183322cb3",
   "metadata": {},
   "outputs": [],
   "source": [
    "import numpy as np\n",
    "import pandas as pd\n",
    "from sklearn import linear_model\n",
    "from sklearn.metrics import mean_squared_error\n",
    "from sklearn.model_selection import train_test_split"
   ]
  },
  {
   "cell_type": "code",
   "execution_count": 7,
   "id": "b7a98798-e722-4bcf-b560-8ba78c4ce61c",
   "metadata": {},
   "outputs": [
    {
     "data": {
      "text/html": [
       "<div>\n",
       "<style scoped>\n",
       "    .dataframe tbody tr th:only-of-type {\n",
       "        vertical-align: middle;\n",
       "    }\n",
       "\n",
       "    .dataframe tbody tr th {\n",
       "        vertical-align: top;\n",
       "    }\n",
       "\n",
       "    .dataframe thead th {\n",
       "        text-align: right;\n",
       "    }\n",
       "</style>\n",
       "<table border=\"1\" class=\"dataframe\">\n",
       "  <thead>\n",
       "    <tr style=\"text-align: right;\">\n",
       "      <th></th>\n",
       "      <th>genetic</th>\n",
       "      <th>length</th>\n",
       "      <th>mass</th>\n",
       "      <th>exercise</th>\n",
       "      <th>smoking</th>\n",
       "      <th>alcohol</th>\n",
       "      <th>sugar</th>\n",
       "      <th>lifespan</th>\n",
       "      <th>bmi</th>\n",
       "    </tr>\n",
       "  </thead>\n",
       "  <tbody>\n",
       "    <tr>\n",
       "      <th>count</th>\n",
       "      <td>3975.000000</td>\n",
       "      <td>3975.000000</td>\n",
       "      <td>3975.000000</td>\n",
       "      <td>3975.000000</td>\n",
       "      <td>3975.000000</td>\n",
       "      <td>3975.000000</td>\n",
       "      <td>3975.000000</td>\n",
       "      <td>3975.000000</td>\n",
       "      <td>3975.000000</td>\n",
       "    </tr>\n",
       "    <tr>\n",
       "      <th>mean</th>\n",
       "      <td>82.036403</td>\n",
       "      <td>184.054088</td>\n",
       "      <td>91.682566</td>\n",
       "      <td>2.404277</td>\n",
       "      <td>9.781031</td>\n",
       "      <td>2.270340</td>\n",
       "      <td>6.484528</td>\n",
       "      <td>79.987044</td>\n",
       "      <td>27.407044</td>\n",
       "    </tr>\n",
       "    <tr>\n",
       "      <th>std</th>\n",
       "      <td>7.086730</td>\n",
       "      <td>12.511810</td>\n",
       "      <td>25.225387</td>\n",
       "      <td>1.170234</td>\n",
       "      <td>6.912136</td>\n",
       "      <td>1.803633</td>\n",
       "      <td>2.708536</td>\n",
       "      <td>7.454091</td>\n",
       "      <td>8.290604</td>\n",
       "    </tr>\n",
       "    <tr>\n",
       "      <th>min</th>\n",
       "      <td>64.000000</td>\n",
       "      <td>154.000000</td>\n",
       "      <td>50.000000</td>\n",
       "      <td>0.100000</td>\n",
       "      <td>0.000000</td>\n",
       "      <td>0.000000</td>\n",
       "      <td>0.700000</td>\n",
       "      <td>59.700000</td>\n",
       "      <td>11.000000</td>\n",
       "    </tr>\n",
       "    <tr>\n",
       "      <th>25%</th>\n",
       "      <td>77.600000</td>\n",
       "      <td>175.000000</td>\n",
       "      <td>71.300000</td>\n",
       "      <td>1.500000</td>\n",
       "      <td>3.300000</td>\n",
       "      <td>0.600000</td>\n",
       "      <td>4.400000</td>\n",
       "      <td>75.000000</td>\n",
       "      <td>21.000000</td>\n",
       "    </tr>\n",
       "    <tr>\n",
       "      <th>50%</th>\n",
       "      <td>81.700000</td>\n",
       "      <td>184.000000</td>\n",
       "      <td>89.000000</td>\n",
       "      <td>2.200000</td>\n",
       "      <td>9.500000</td>\n",
       "      <td>1.700000</td>\n",
       "      <td>6.300000</td>\n",
       "      <td>79.600000</td>\n",
       "      <td>26.000000</td>\n",
       "    </tr>\n",
       "    <tr>\n",
       "      <th>75%</th>\n",
       "      <td>86.450000</td>\n",
       "      <td>193.000000</td>\n",
       "      <td>110.000000</td>\n",
       "      <td>3.200000</td>\n",
       "      <td>15.850000</td>\n",
       "      <td>4.000000</td>\n",
       "      <td>8.400000</td>\n",
       "      <td>84.900000</td>\n",
       "      <td>33.000000</td>\n",
       "    </tr>\n",
       "    <tr>\n",
       "      <th>max</th>\n",
       "      <td>100.300000</td>\n",
       "      <td>214.000000</td>\n",
       "      <td>163.600000</td>\n",
       "      <td>5.500000</td>\n",
       "      <td>22.200000</td>\n",
       "      <td>6.000000</td>\n",
       "      <td>13.800000</td>\n",
       "      <td>100.400000</td>\n",
       "      <td>51.000000</td>\n",
       "    </tr>\n",
       "  </tbody>\n",
       "</table>\n",
       "</div>"
      ],
      "text/plain": [
       "           genetic       length         mass     exercise      smoking  \\\n",
       "count  3975.000000  3975.000000  3975.000000  3975.000000  3975.000000   \n",
       "mean     82.036403   184.054088    91.682566     2.404277     9.781031   \n",
       "std       7.086730    12.511810    25.225387     1.170234     6.912136   \n",
       "min      64.000000   154.000000    50.000000     0.100000     0.000000   \n",
       "25%      77.600000   175.000000    71.300000     1.500000     3.300000   \n",
       "50%      81.700000   184.000000    89.000000     2.200000     9.500000   \n",
       "75%      86.450000   193.000000   110.000000     3.200000    15.850000   \n",
       "max     100.300000   214.000000   163.600000     5.500000    22.200000   \n",
       "\n",
       "           alcohol        sugar     lifespan          bmi  \n",
       "count  3975.000000  3975.000000  3975.000000  3975.000000  \n",
       "mean      2.270340     6.484528    79.987044    27.407044  \n",
       "std       1.803633     2.708536     7.454091     8.290604  \n",
       "min       0.000000     0.700000    59.700000    11.000000  \n",
       "25%       0.600000     4.400000    75.000000    21.000000  \n",
       "50%       1.700000     6.300000    79.600000    26.000000  \n",
       "75%       4.000000     8.400000    84.900000    33.000000  \n",
       "max       6.000000    13.800000   100.400000    51.000000  "
      ]
     },
     "metadata": {},
     "output_type": "display_data"
    }
   ],
   "source": [
    "lsd_no_outl = pd.read_csv('lsdNoOutl230310.csv')\n",
    "display(lsd_no_outl.describe())"
   ]
  },
  {
   "cell_type": "code",
   "execution_count": 8,
   "id": "27c10755-5ca4-48bc-af48-3b2bae55fb89",
   "metadata": {},
   "outputs": [
    {
     "data": {
      "text/html": [
       "<div>\n",
       "<style scoped>\n",
       "    .dataframe tbody tr th:only-of-type {\n",
       "        vertical-align: middle;\n",
       "    }\n",
       "\n",
       "    .dataframe tbody tr th {\n",
       "        vertical-align: top;\n",
       "    }\n",
       "\n",
       "    .dataframe thead th {\n",
       "        text-align: right;\n",
       "    }\n",
       "</style>\n",
       "<table border=\"1\" class=\"dataframe\">\n",
       "  <thead>\n",
       "    <tr style=\"text-align: right;\">\n",
       "      <th></th>\n",
       "      <th>genetic</th>\n",
       "      <th>length</th>\n",
       "      <th>mass</th>\n",
       "      <th>exercise</th>\n",
       "      <th>smoking</th>\n",
       "      <th>alcohol</th>\n",
       "      <th>sugar</th>\n",
       "      <th>lifespan</th>\n",
       "      <th>bmi</th>\n",
       "    </tr>\n",
       "  </thead>\n",
       "  <tbody>\n",
       "    <tr>\n",
       "      <th>0</th>\n",
       "      <td>73.9</td>\n",
       "      <td>185.0</td>\n",
       "      <td>99.7</td>\n",
       "      <td>0.9</td>\n",
       "      <td>0.0</td>\n",
       "      <td>2.4</td>\n",
       "      <td>6.9</td>\n",
       "      <td>73.1</td>\n",
       "      <td>29.0</td>\n",
       "    </tr>\n",
       "    <tr>\n",
       "      <th>1</th>\n",
       "      <td>86.0</td>\n",
       "      <td>172.0</td>\n",
       "      <td>105.4</td>\n",
       "      <td>1.8</td>\n",
       "      <td>8.1</td>\n",
       "      <td>0.4</td>\n",
       "      <td>4.2</td>\n",
       "      <td>85.0</td>\n",
       "      <td>36.0</td>\n",
       "    </tr>\n",
       "    <tr>\n",
       "      <th>2</th>\n",
       "      <td>83.3</td>\n",
       "      <td>176.0</td>\n",
       "      <td>111.4</td>\n",
       "      <td>1.1</td>\n",
       "      <td>0.8</td>\n",
       "      <td>4.6</td>\n",
       "      <td>7.5</td>\n",
       "      <td>81.6</td>\n",
       "      <td>36.0</td>\n",
       "    </tr>\n",
       "    <tr>\n",
       "      <th>3</th>\n",
       "      <td>82.8</td>\n",
       "      <td>164.0</td>\n",
       "      <td>111.4</td>\n",
       "      <td>4.7</td>\n",
       "      <td>11.8</td>\n",
       "      <td>1.0</td>\n",
       "      <td>2.9</td>\n",
       "      <td>81.0</td>\n",
       "      <td>41.0</td>\n",
       "    </tr>\n",
       "    <tr>\n",
       "      <th>4</th>\n",
       "      <td>78.7</td>\n",
       "      <td>178.0</td>\n",
       "      <td>71.6</td>\n",
       "      <td>1.5</td>\n",
       "      <td>8.3</td>\n",
       "      <td>4.9</td>\n",
       "      <td>5.5</td>\n",
       "      <td>75.0</td>\n",
       "      <td>23.0</td>\n",
       "    </tr>\n",
       "  </tbody>\n",
       "</table>\n",
       "</div>"
      ],
      "text/plain": [
       "   genetic  length   mass  exercise  smoking  alcohol  sugar  lifespan   bmi\n",
       "0     73.9   185.0   99.7       0.9      0.0      2.4    6.9      73.1  29.0\n",
       "1     86.0   172.0  105.4       1.8      8.1      0.4    4.2      85.0  36.0\n",
       "2     83.3   176.0  111.4       1.1      0.8      4.6    7.5      81.6  36.0\n",
       "3     82.8   164.0  111.4       4.7     11.8      1.0    2.9      81.0  41.0\n",
       "4     78.7   178.0   71.6       1.5      8.3      4.9    5.5      75.0  23.0"
      ]
     },
     "execution_count": 8,
     "metadata": {},
     "output_type": "execute_result"
    }
   ],
   "source": [
    "lsd_no_outl.head()"
   ]
  },
  {
   "cell_type": "code",
   "execution_count": 9,
   "id": "b4fa3dcb-7ce3-4c1f-a022-34172bebb925",
   "metadata": {},
   "outputs": [
    {
     "data": {
      "text/html": [
       "<style>#sk-container-id-1 {color: black;background-color: white;}#sk-container-id-1 pre{padding: 0;}#sk-container-id-1 div.sk-toggleable {background-color: white;}#sk-container-id-1 label.sk-toggleable__label {cursor: pointer;display: block;width: 100%;margin-bottom: 0;padding: 0.3em;box-sizing: border-box;text-align: center;}#sk-container-id-1 label.sk-toggleable__label-arrow:before {content: \"▸\";float: left;margin-right: 0.25em;color: #696969;}#sk-container-id-1 label.sk-toggleable__label-arrow:hover:before {color: black;}#sk-container-id-1 div.sk-estimator:hover label.sk-toggleable__label-arrow:before {color: black;}#sk-container-id-1 div.sk-toggleable__content {max-height: 0;max-width: 0;overflow: hidden;text-align: left;background-color: #f0f8ff;}#sk-container-id-1 div.sk-toggleable__content pre {margin: 0.2em;color: black;border-radius: 0.25em;background-color: #f0f8ff;}#sk-container-id-1 input.sk-toggleable__control:checked~div.sk-toggleable__content {max-height: 200px;max-width: 100%;overflow: auto;}#sk-container-id-1 input.sk-toggleable__control:checked~label.sk-toggleable__label-arrow:before {content: \"▾\";}#sk-container-id-1 div.sk-estimator input.sk-toggleable__control:checked~label.sk-toggleable__label {background-color: #d4ebff;}#sk-container-id-1 div.sk-label input.sk-toggleable__control:checked~label.sk-toggleable__label {background-color: #d4ebff;}#sk-container-id-1 input.sk-hidden--visually {border: 0;clip: rect(1px 1px 1px 1px);clip: rect(1px, 1px, 1px, 1px);height: 1px;margin: -1px;overflow: hidden;padding: 0;position: absolute;width: 1px;}#sk-container-id-1 div.sk-estimator {font-family: monospace;background-color: #f0f8ff;border: 1px dotted black;border-radius: 0.25em;box-sizing: border-box;margin-bottom: 0.5em;}#sk-container-id-1 div.sk-estimator:hover {background-color: #d4ebff;}#sk-container-id-1 div.sk-parallel-item::after {content: \"\";width: 100%;border-bottom: 1px solid gray;flex-grow: 1;}#sk-container-id-1 div.sk-label:hover label.sk-toggleable__label {background-color: #d4ebff;}#sk-container-id-1 div.sk-serial::before {content: \"\";position: absolute;border-left: 1px solid gray;box-sizing: border-box;top: 0;bottom: 0;left: 50%;z-index: 0;}#sk-container-id-1 div.sk-serial {display: flex;flex-direction: column;align-items: center;background-color: white;padding-right: 0.2em;padding-left: 0.2em;position: relative;}#sk-container-id-1 div.sk-item {position: relative;z-index: 1;}#sk-container-id-1 div.sk-parallel {display: flex;align-items: stretch;justify-content: center;background-color: white;position: relative;}#sk-container-id-1 div.sk-item::before, #sk-container-id-1 div.sk-parallel-item::before {content: \"\";position: absolute;border-left: 1px solid gray;box-sizing: border-box;top: 0;bottom: 0;left: 50%;z-index: -1;}#sk-container-id-1 div.sk-parallel-item {display: flex;flex-direction: column;z-index: 1;position: relative;background-color: white;}#sk-container-id-1 div.sk-parallel-item:first-child::after {align-self: flex-end;width: 50%;}#sk-container-id-1 div.sk-parallel-item:last-child::after {align-self: flex-start;width: 50%;}#sk-container-id-1 div.sk-parallel-item:only-child::after {width: 0;}#sk-container-id-1 div.sk-dashed-wrapped {border: 1px dashed gray;margin: 0 0.4em 0.5em 0.4em;box-sizing: border-box;padding-bottom: 0.4em;background-color: white;}#sk-container-id-1 div.sk-label label {font-family: monospace;font-weight: bold;display: inline-block;line-height: 1.2em;}#sk-container-id-1 div.sk-label-container {text-align: center;}#sk-container-id-1 div.sk-container {/* jupyter's `normalize.less` sets `[hidden] { display: none; }` but bootstrap.min.css set `[hidden] { display: none !important; }` so we also need the `!important` here to be able to override the default hidden behavior on the sphinx rendered scikit-learn.org. See: https://github.com/scikit-learn/scikit-learn/issues/21755 */display: inline-block !important;position: relative;}#sk-container-id-1 div.sk-text-repr-fallback {display: none;}</style><div id=\"sk-container-id-1\" class=\"sk-top-container\"><div class=\"sk-text-repr-fallback\"><pre>LinearRegression()</pre><b>In a Jupyter environment, please rerun this cell to show the HTML representation or trust the notebook. <br />On GitHub, the HTML representation is unable to render, please try loading this page with nbviewer.org.</b></div><div class=\"sk-container\" hidden><div class=\"sk-item\"><div class=\"sk-estimator sk-toggleable\"><input class=\"sk-toggleable__control sk-hidden--visually\" id=\"sk-estimator-id-1\" type=\"checkbox\" checked><label for=\"sk-estimator-id-1\" class=\"sk-toggleable__label sk-toggleable__label-arrow\">LinearRegression</label><div class=\"sk-toggleable__content\"><pre>LinearRegression()</pre></div></div></div></div></div>"
      ],
      "text/plain": [
       "LinearRegression()"
      ]
     },
     "execution_count": 9,
     "metadata": {},
     "output_type": "execute_result"
    }
   ],
   "source": [
    "# Define X, y in LinearRegr model & create train_test_split\n",
    "y = lsd_no_outl.lifespan.values\n",
    "X = lsd_no_outl[['genetic','length','mass','exercise','smoking','alcohol','sugar','bmi']].values\n",
    "\n",
    "X_train, X_test, y_train, y_test = train_test_split(X, y, test_size=0.2, random_state=42)\n",
    "\n",
    "# Create linear regression class object\n",
    "reg = linear_model.LinearRegression()\n",
    "reg.fit(X_train, y_train)"
   ]
  },
  {
   "cell_type": "code",
   "execution_count": 10,
   "id": "227744a7-081c-4e03-a5ef-544f155d7039",
   "metadata": {},
   "outputs": [],
   "source": [
    "# #logging.basicConfig(level=logging.DEBUG)\n",
    "\n",
    "# def inputDigit(message, acceptableRange):\n",
    "#     inputStr = str()\n",
    "#     withinRange = False\n",
    "#     numberOfTries = 3\n",
    "#     i = 0\n",
    "\n",
    "#     while not (inputStr.isdigit() and withinRange) and i < numberOfTries:\n",
    "#         inputStr = input(message)\n",
    "\n",
    "#         if inputStr.isdigit():\n",
    "#             inputNum = float(inputStr)\n",
    "\n",
    "#             if inputNum in acceptableRange:\n",
    "#                 return inputNum\n",
    "\n",
    "#         i += 1\n",
    "\n",
    "# acceptableRange = range(18, 118)\n",
    "# age = int(inputDigit(\"Age [18 - 118]: \", acceptableRange))\n",
    "# #logging.debug(f\"age : {age}\")"
   ]
  },
  {
   "cell_type": "code",
   "execution_count": 41,
   "id": "3f564078-ce30-4a24-9e9f-7212af776806",
   "metadata": {},
   "outputs": [],
   "source": [
    "\n",
    "def inputDigit(message, acceptableRange):\n",
    "    inputStr = str()                   #hier 'str' in float veranderd - gaf foutmelding op .isdigit()\n",
    "    withinRange = False\n",
    "    numberOfTries = 3\n",
    "    i = 0\n",
    "\n",
    "    while not (inputStr.isdigit() and withinRange) and i < numberOfTries:\n",
    "        inputStr = input(message)\n",
    "\n",
    "        if inputStr.isdigit():\n",
    "            inputNum = float(inputStr)\n",
    "\n",
    "\n",
    "            if inputNum in acceptableRange:\n",
    "                return inputNum\n",
    "\n",
    "        i += 1\n",
    "        if i < 3:\n",
    "            print(f'Ongeldige invoer. U heeft nog {3-i} pogingen over voordat het programma stopt.')\n",
    "        else:       # geeft foutmeldingen\n",
    "            print(f'Uw invoer wordt niet geaccepteerd. Het programma stopt.')    \n",
    "            #break - is gereserveerd voor het 'halverwege onderbreken van een loop'\n",
    "            \n",
    "\n",
    "# genetic = int(inputDigit(\"Vul de genetische leeftijd in (tussen 60 - 105 jaar): \", acceptableRange))\n"
   ]
  },
  {
   "cell_type": "code",
   "execution_count": 42,
   "id": "34bb9740-84b1-4ba3-ad80-f41dd61f7ff5",
   "metadata": {},
   "outputs": [
    {
     "name": "stdout",
     "output_type": "stream",
     "text": [
      "Welkom bij de lifespan calculator. \n",
      " deze calculator berekent na invoer van gegevens: \n",
      " - de verwachte levensduur van de patient, \n",
      " - de bmi van de patient, \n",
      " - de premiefactor en het kortingspercentage van de patient.\n",
      " LET OP: deze calculator beoogt slechts een indicatie te geven van de levensverwachting en biedt geen zekerheden daaromtrent.\n"
     ]
    }
   ],
   "source": [
    "\"\"\"Prints Welcome message\"\"\"\n",
    "def welcome():\n",
    "    print('Welkom bij de lifespan calculator. \\n',\n",
    "          'deze calculator berekent na invoer van gegevens: \\n',\n",
    "          '- de verwachte levensduur van de patient, \\n',\n",
    "          '- de bmi van de patient, \\n',\n",
    "          '- de premiefactor en het kortingspercentage van de patient.\\n',\n",
    "          'LET OP: deze calculator beoogt slechts een indicatie te geven van de levensverwachting en biedt geen zekerheden daaromtrent.')\n",
    "\n",
    "#=============\n",
    "welcome()\n"
   ]
  },
  {
   "cell_type": "code",
   "execution_count": 43,
   "id": "6c457724-cb05-4fe3-ad8e-c8d081845d0c",
   "metadata": {},
   "outputs": [
    {
     "name": "stdin",
     "output_type": "stream",
     "text": [
      "Wat is de leeftijd in hele jaren (tussen 18 - 115):  w\n"
     ]
    },
    {
     "name": "stdout",
     "output_type": "stream",
     "text": [
      "Ongeldige invoer. U heeft nog 2 pogingen over voordat het programma stopt.\n"
     ]
    },
    {
     "name": "stdin",
     "output_type": "stream",
     "text": [
      "Wat is de leeftijd in hele jaren (tussen 18 - 115):  w\n"
     ]
    },
    {
     "name": "stdout",
     "output_type": "stream",
     "text": [
      "Ongeldige invoer. U heeft nog 1 pogingen over voordat het programma stopt.\n"
     ]
    },
    {
     "name": "stdin",
     "output_type": "stream",
     "text": [
      "Wat is de leeftijd in hele jaren (tussen 18 - 115):  w\n"
     ]
    },
    {
     "name": "stdout",
     "output_type": "stream",
     "text": [
      "Uw invoer wordt niet geaccepteerd. Het programma stopt.\n"
     ]
    },
    {
     "ename": "TypeError",
     "evalue": "int() argument must be a string, a bytes-like object or a real number, not 'NoneType'",
     "output_type": "error",
     "traceback": [
      "\u001b[0;31m---------------------------------------------------------------------------\u001b[0m",
      "\u001b[0;31mTypeError\u001b[0m                                 Traceback (most recent call last)",
      "Cell \u001b[0;32mIn[43], line 4\u001b[0m\n\u001b[1;32m      1\u001b[0m \u001b[38;5;66;03m# Ik kies ervoor om de toegestane inputwaardes aan te laten sluiten op de min - max waarden van het dataframe\u001b[39;00m\n\u001b[1;32m      2\u001b[0m \u001b[38;5;66;03m# acceptableRange realAge\u001b[39;00m\n\u001b[1;32m      3\u001b[0m acceptableRangerealAge \u001b[38;5;241m=\u001b[39m \u001b[38;5;28mrange\u001b[39m(\u001b[38;5;241m18\u001b[39m, \u001b[38;5;241m116\u001b[39m) \n\u001b[0;32m----> 4\u001b[0m realAge \u001b[38;5;241m=\u001b[39m \u001b[38;5;28;43mint\u001b[39;49m\u001b[43m(\u001b[49m\u001b[43minputDigit\u001b[49m\u001b[43m(\u001b[49m\u001b[38;5;124;43m\"\u001b[39;49m\u001b[38;5;124;43mWat is de leeftijd in hele jaren (tussen 18 - 115): \u001b[39;49m\u001b[38;5;124;43m\"\u001b[39;49m\u001b[43m,\u001b[49m\u001b[43m \u001b[49m\u001b[43macceptableRangerealAge\u001b[49m\u001b[43m)\u001b[49m\u001b[43m)\u001b[49m\n\u001b[1;32m      5\u001b[0m \u001b[38;5;66;03m# acceptableRange genetic\u001b[39;00m\n\u001b[1;32m      6\u001b[0m acceptableRangeGen \u001b[38;5;241m=\u001b[39m \u001b[38;5;28mrange\u001b[39m(\u001b[38;5;241m64\u001b[39m, \u001b[38;5;241m102\u001b[39m) \n",
      "\u001b[0;31mTypeError\u001b[0m: int() argument must be a string, a bytes-like object or a real number, not 'NoneType'"
     ]
    }
   ],
   "source": [
    "# Ik kies ervoor om de toegestane inputwaardes aan te laten sluiten op de min - max waarden van het dataframe\n",
    "# acceptableRange realAge\n",
    "acceptableRangerealAge = range(18, 116) \n",
    "realAge = int(inputDigit(\"Wat is de leeftijd in hele jaren (tussen 18 - 115): \", acceptableRangerealAge))\n",
    "# acceptableRange genetic\n",
    "acceptableRangeGen = range(64, 102) \n",
    "genetic = int(inputDigit(\"Wat is de genetische leeftijd in hele jaren (tussen 64 - 101)? \", acceptableRangeGen))\n",
    "# acceptableRange length\n",
    "acceptableRangeLen = range(154, 215) \n",
    "length = int(inputDigit(\"Wat is de lichaamslengte in centimeters (tussen 154 - 214)? \", acceptableRangeLen))\n",
    "# # acceptableRange mass\n",
    "# acceptableRangeMass = range(50, 165) \n",
    "# mass = int(inputDigit(\"Wat is het lichaamsgewicht in hele kilo's (tussen 50 - 164)? \", acceptableRangeMass))\n",
    "# # acceptableRange exercise\n",
    "# acceptableRangeEx = range(0, 331) \n",
    "# exercise1 = int(inputDigit(\"Hoeveel minuten beweging per dag (tussen 0 - 330)? \", acceptableRangeEx))\n",
    "# exercise = exercise1/60\n",
    "# # acceptableRange smoking\n",
    "# acceptableRangeSmok = range(0, 24) \n",
    "# smoking = int(inputDigit(\"Hoeveel sigaretten per dag (tussen 0 - 23)? \", acceptableRangeSmok))\n",
    "# # acceptableRange alcohol\n",
    "# acceptableRangeAlc = range(0, 7) \n",
    "# alcohol = int(inputDigit(\"Hoeveel glazen alcohol per dag (tussen 0 - 6)? \", acceptableRangeAlc))\n",
    "# # acceptableRange sugar\n",
    "# acceptableRangeSug = range(0, 15) \n",
    "# sugar = int(inputDigit(\"Hoeveel suikerklontjes per dag (tussen 0 - 14)? \", acceptableRangeSug))\n",
    "\n",
    "# Waarom springt deze cel niet meteen door naar de volgende nadat de laatste vraag beantwoord is?"
   ]
  },
  {
   "cell_type": "code",
   "execution_count": 20,
   "id": "5faa1e0a-3d83-4a9c-b4d4-d38b592f0f71",
   "metadata": {},
   "outputs": [],
   "source": [
    "\n",
    "\"\"\" Calculates bmi \"\"\"\n",
    "def calc_bmi(leng, mas):\n",
    "    divider = pow(leng/100, 2) \n",
    "    bmi = round(mas/divider)\n",
    "    #print(f\"De bmi van deze patient is: {bmi}\")\n",
    "    return bmi\n",
    "#=============\n",
    "\n",
    "result_bmi = calc_bmi(length, mass) \n"
   ]
  },
  {
   "cell_type": "code",
   "execution_count": 21,
   "id": "75c30116-2337-4fcf-9838-168ebd1ace52",
   "metadata": {},
   "outputs": [
    {
     "name": "stdout",
     "output_type": "stream",
     "text": [
      "De voorspelde levensduur van deze patient is: 77 jaar\n"
     ]
    }
   ],
   "source": [
    "\"\"\" Predicts lifespan \"\"\"\n",
    "def lifespan_predict(gen1, leng1, mas1, ex1, smok1, alc1, sug1, res_bmi):\n",
    "    lifespan_pred = reg.predict([[gen1, leng1, mas1, ex1, smok1, alc1, sug1, res_bmi]])\n",
    "    lifespan_pred = round(lifespan_pred[0])\n",
    "    print(f\"De voorspelde levensduur van deze patient is: {lifespan_pred} jaar\")\n",
    "    return lifespan_pred\n",
    "#=============\n",
    "\n",
    "pred_lifespan = lifespan_predict(genetic, length, mass, exercise, smoking, alcohol, sugar, result_bmi)\n",
    "\n",
    "#type(pred_lifespan)\n",
    "\n",
    "#display(pred_lifespan)\n",
    "\n",
    "# print(f' reg.predict = {reg.predict(['genetic','length','mass','exercise','smoking','alcohol','sugar','bmi'])})\n",
    "# waarom is pred_lifespan een NoneType? Veroorzaakt later een probleem bij de berekening van de premiefactor"
   ]
  },
  {
   "cell_type": "code",
   "execution_count": 22,
   "id": "25aaf10f-5895-4999-b546-902538d0144f",
   "metadata": {},
   "outputs": [
    {
     "name": "stdout",
     "output_type": "stream",
     "text": [
      "LET OP!! DE BMI IS MINDER GESCHIKT VOOR: \n",
      "  * heel gespierde personen, \n",
      " * zwangere vrouwen, \n",
      " * vrouwen die borstvoeding geven, of \n",
      " * mensen van Aziatische afkomst.\n",
      " (BRON: Voedingscentrum) \n",
      " \n"
     ]
    },
    {
     "data": {
      "text/plain": [
       "'Gelet op leeftijd  (20) en bmi (24): patient heeft een gezond gewicht.'"
      ]
     },
     "execution_count": 22,
     "metadata": {},
     "output_type": "execute_result"
    }
   ],
   "source": [
    "\"\"\" Checks in which bmi-range patients bmi is \"\"\"\n",
    "print(\"LET OP!! DE BMI IS MINDER GESCHIKT VOOR: \\n \",\n",
    "    \"* heel gespierde personen, \\n\",\n",
    "     \"* zwangere vrouwen, \\n\",\n",
    "     \"* vrouwen die borstvoeding geven, of \\n\",\n",
    "     \"* mensen van Aziatische afkomst.\\n\",\n",
    "      \"(BRON: Voedingscentrum) \\n\",\n",
    "     \"\")\n",
    "\n",
    "def bmi_check (realAge1, result_bmi1):\n",
    "    if realAge1  < 70 and result_bmi < 18.5:\n",
    "        result = (f'Gelet op leeftijd ({realAge1}) en bmi ({result_bmi1}): patient heeft ondergewicht.')\n",
    "    elif realAge1  < 70 and result_bmi1 <= 25.0:\n",
    "        result = (f'Gelet op leeftijd  ({realAge1}) en bmi ({result_bmi1}): patient heeft een gezond gewicht.')\n",
    "    elif realAge1  >= 70 and result_bmi1 < 22:\n",
    "        result = (f'Gelet op leeftijd ({realAge1}) en bmi ({result_bmi1}): patient heeft ondergewicht.')\n",
    "    elif realAge1  >= 70 and result_bmi1 < 28:\n",
    "        result = (f'Gelet op leeftijd  ({realAge1}) en bmi ({result_bmi1}): patient heeft een gezond gewicht.')\n",
    "    elif result_bmi1 <=30.0:\n",
    "        result = (f'De bmi is ({result_bmi1}): patient heeft overgewicht.')\n",
    "    else:\n",
    "        result = (f'De bmi is ({result_bmi1}): patient heeft ernstig overgewicht.')\n",
    "    return result\n",
    "\n",
    "#=============\n",
    "\n",
    "bmi_check(realAge, result_bmi) # genereert foutmelding \"name 'bmi' is not defined\" "
   ]
  },
  {
   "cell_type": "code",
   "execution_count": 23,
   "id": "1a608aef-53cc-45ed-907e-9c7aeb23cd46",
   "metadata": {},
   "outputs": [],
   "source": [
    "# premiefactor (pf)berekenen:\n",
    "# genetic = 90\n",
    "# lifespan = 80\n",
    "# pf = round(genetic / lifespan, 2)\n",
    "# print(f'De PremieFactor is: {pf}')\n",
    "# discPerc = round(1 - pf,2)*100\n",
    "# print(f'discPerc is: {discPerc}')\n",
    "# if discPerc > 0:\n",
    "#     print(f'Patient krijgt {discPerc}% korting op de verzekeringspremie.')\n",
    "# else:\n",
    "#     discPercAbs = abs(discPerc)\n",
    "#     print(discPercAbs)\n",
    "#     print(f'Patient krijgt {discPercAbs}% opslag op de verzekeringspremie.')\n",
    "#Code werkt niet goed"
   ]
  },
  {
   "cell_type": "code",
   "execution_count": 24,
   "id": "33d735a3-b669-4f94-ab88-3f67cf68b452",
   "metadata": {},
   "outputs": [
    {
     "data": {
      "text/plain": [
       "\"De PremieFactor is: 1.0, het 'discount'percentage is 0.0%. LET OP: als het discountpercentage negatief is gaat het feitelijk om een premieverhoging.\""
      ]
     },
     "execution_count": 24,
     "metadata": {},
     "output_type": "execute_result"
    }
   ],
   "source": [
    "\n",
    "# \"\"\" Calculates PremiumFactor and DiscountPercentage \"\"\"\n",
    "# def calc_premiumfactor(gen1, lifesp1):\n",
    "#     pf = round(gen1 / lifesp1, 2)\n",
    "#     # return(f'De PremieFactor is: {pf}')\n",
    "#     discPerc = round(1 - pf,2)*100\n",
    "#     # return(f'discPerc is: {discPerc}')\n",
    "#     # if discPerc > 0:\n",
    "#     #     return(f'Patient krijgt {discPerc}% korting op de verzekeringspremie.')\n",
    "#     # else:\n",
    "#     #     discPercAbs = abs(discPerc)\n",
    "#     #     return(discPercAbs)\n",
    "#     #     return(f'Patient krijgt {discPercAbs}% opslag op de verzekeringspremie.')\n",
    "#     return(f\"De PremieFactor is: {pf}, het 'discount'percentage is {discPerc}%. LET OP: als het discountpercentage negatief is gaat het feitelijk om een premieverhoging.\")\n",
    "\n",
    "\n",
    "\n",
    "# calc_premiumfactor(genetic, pred_lifespan)"
   ]
  },
  {
   "cell_type": "code",
   "execution_count": 29,
   "id": "a40bb4b5-c485-4e83-83a6-5b2c33a5640d",
   "metadata": {},
   "outputs": [
    {
     "name": "stdout",
     "output_type": "stream",
     "text": [
      "LET OP: als het discountpercentage negatief is gaat het feitelijk om een premieverhoging.\n"
     ]
    },
    {
     "data": {
      "text/plain": [
       "\"De PremieFactor is: 1.0. Het 'discount'percentage is 0.0%.\""
      ]
     },
     "execution_count": 29,
     "metadata": {},
     "output_type": "execute_result"
    }
   ],
   "source": [
    "\"\"\" Calculates PremiumFactor and DiscountPercentage \"\"\"\n",
    "def calc_premiumfactor(gen1, lifesp1):\n",
    "    pf = round(gen1 / lifesp1, 2)\n",
    "    # return(f'De PremieFactor is: {pf}')\n",
    "    discPerc = round(1 - pf,2)*100\n",
    "    return(f\"De PremieFactor is: {pf}. Het 'discount'percentage is {discPerc}%.\")\n",
    "\n",
    "#=============\n",
    "\n",
    "print(\"LET OP: als het discountpercentage negatief is gaat het feitelijk om een premieverhoging.\")\n",
    "calc_premiumfactor(genetic, pred_lifespan)"
   ]
  },
  {
   "cell_type": "code",
   "execution_count": null,
   "id": "eec274e3-17c0-4211-ba1b-1855cc893c49",
   "metadata": {},
   "outputs": [],
   "source": []
  },
  {
   "cell_type": "code",
   "execution_count": null,
   "id": "aac359f6-b2c8-4db4-85f4-89b644c6e7c4",
   "metadata": {},
   "outputs": [],
   "source": []
  }
 ],
 "metadata": {
  "kernelspec": {
   "display_name": "Python 3 (ipykernel)",
   "language": "python",
   "name": "python3"
  },
  "language_info": {
   "codemirror_mode": {
    "name": "ipython",
    "version": 3
   },
   "file_extension": ".py",
   "mimetype": "text/x-python",
   "name": "python",
   "nbconvert_exporter": "python",
   "pygments_lexer": "ipython3",
   "version": "3.10.9"
  }
 },
 "nbformat": 4,
 "nbformat_minor": 5
}
