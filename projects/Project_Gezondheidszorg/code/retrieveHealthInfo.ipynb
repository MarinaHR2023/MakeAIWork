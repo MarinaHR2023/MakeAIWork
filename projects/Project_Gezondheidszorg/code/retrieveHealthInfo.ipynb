{
 "cells": [
  {
   "cell_type": "code",
   "execution_count": 17,
   "id": "1dc33a92-a67e-4f9d-8e33-b009a767ffce",
   "metadata": {},
   "outputs": [],
   "source": [
    "import requests\n",
    "import json\n",
    "from IPython.display import display, HTML #Geen idee wat dit doet, nog checken\n",
    "#import time\n",
    "import pandas as pd\n",
    "import seaborn as sns\n",
    "import matplotlib.pyplot as plt\n",
    "%matplotlib inline     \n",
    "sns.set(color_codes=True)"
   ]
  },
  {
   "cell_type": "markdown",
   "id": "3648a6af-0f33-4d37-9121-d424b597c1d6",
   "metadata": {},
   "source": [
    "## Steps\n",
    "\n",
    "1. Make request to an URL \n",
    "2. Check Status code\n",
    "3. Check content type\n",
    "4. Print content type\n",
    "5. Parse content type to python representation\n",
    "6. Use the data in your application"
   ]
  },
  {
   "cell_type": "code",
   "execution_count": 18,
   "id": "4f163722-1450-4376-9cd5-d32941d457b4",
   "metadata": {},
   "outputs": [],
   "source": [
    "# \n",
    "# Make request to an URL: http://localhost:8080/medish_centrum_randstad/api/netlify?page=1\n",
    "healthInfo = requests.get('http://localhost:8080/medish_centrum_randstad/api/netlify?page=1')\n"
   ]
  },
  {
   "cell_type": "code",
   "execution_count": 19,
   "id": "4c1cca5d-b541-4f3b-ab8f-5e9745ac9897",
   "metadata": {},
   "outputs": [
    {
     "data": {
      "text/plain": [
       "200"
      ]
     },
     "execution_count": 19,
     "metadata": {},
     "output_type": "execute_result"
    }
   ],
   "source": [
    "# Check Status code\n",
    "healthInfo.status_code"
   ]
  },
  {
   "cell_type": "code",
   "execution_count": 20,
   "id": "78170a5a-7745-4335-9636-ab7a1b836d9c",
   "metadata": {},
   "outputs": [
    {
     "data": {
      "text/plain": [
       "'application/json'"
      ]
     },
     "execution_count": 20,
     "metadata": {},
     "output_type": "execute_result"
    }
   ],
   "source": [
    "# Check content type\n",
    "healthInfo.headers['content-type']"
   ]
  },
  {
   "cell_type": "code",
   "execution_count": 21,
   "id": "63453241-3f24-4e92-b1ee-deb46f101455",
   "metadata": {},
   "outputs": [],
   "source": [
    "# Print content type as string\n",
    "#healthInfo.text\n",
    "# Dit levert erg veel tekst, daarom tijdelijk uitgeschakeld"
   ]
  },
  {
   "cell_type": "code",
   "execution_count": 22,
   "id": "5b1fc721-4521-4e2b-9dc7-0e0b4117c301",
   "metadata": {},
   "outputs": [],
   "source": [
    "# Parse content type to python data type (dictionary)\n",
    "#healthInfo = json.loads(healthInfo.text)"
   ]
  },
  {
   "cell_type": "code",
   "execution_count": 23,
   "id": "6d0612a8-ad32-4909-94e9-74e818f54fbd",
   "metadata": {},
   "outputs": [],
   "source": [
    "df = pd.read_json(healthInfo.text)"
   ]
  },
  {
   "cell_type": "code",
   "execution_count": 24,
   "id": "f097079e-6d81-4a69-be64-c91cd2d700b0",
   "metadata": {},
   "outputs": [
    {
     "data": {
      "text/html": [
       "<div>\n",
       "<style scoped>\n",
       "    .dataframe tbody tr th:only-of-type {\n",
       "        vertical-align: middle;\n",
       "    }\n",
       "\n",
       "    .dataframe tbody tr th {\n",
       "        vertical-align: top;\n",
       "    }\n",
       "\n",
       "    .dataframe thead th {\n",
       "        text-align: right;\n",
       "    }\n",
       "</style>\n",
       "<table border=\"1\" class=\"dataframe\">\n",
       "  <thead>\n",
       "    <tr style=\"text-align: right;\">\n",
       "      <th></th>\n",
       "      <th>status</th>\n",
       "      <th>total_nr_of_records</th>\n",
       "      <th>nr_of_pages</th>\n",
       "      <th>page_size</th>\n",
       "      <th>next</th>\n",
       "      <th>data</th>\n",
       "    </tr>\n",
       "  </thead>\n",
       "  <tbody>\n",
       "    <tr>\n",
       "      <th>0</th>\n",
       "      <td>200</td>\n",
       "      <td>8192</td>\n",
       "      <td>82</td>\n",
       "      <td>100</td>\n",
       "      <td>http://localhost:8080/medish_centrum_randstad/...</td>\n",
       "      <td>{'genetic': 84, 'length': 180, 'mass': 90, 'ex...</td>\n",
       "    </tr>\n",
       "    <tr>\n",
       "      <th>1</th>\n",
       "      <td>200</td>\n",
       "      <td>8192</td>\n",
       "      <td>82</td>\n",
       "      <td>100</td>\n",
       "      <td>http://localhost:8080/medish_centrum_randstad/...</td>\n",
       "      <td>{'genetic': 84, 'length': 204, 'mass': 79, 'ex...</td>\n",
       "    </tr>\n",
       "    <tr>\n",
       "      <th>2</th>\n",
       "      <td>200</td>\n",
       "      <td>8192</td>\n",
       "      <td>82</td>\n",
       "      <td>100</td>\n",
       "      <td>http://localhost:8080/medish_centrum_randstad/...</td>\n",
       "      <td>{'genetic': 84, 'length': 174, 'mass': 74, 'ex...</td>\n",
       "    </tr>\n",
       "    <tr>\n",
       "      <th>3</th>\n",
       "      <td>200</td>\n",
       "      <td>8192</td>\n",
       "      <td>82</td>\n",
       "      <td>100</td>\n",
       "      <td>http://localhost:8080/medish_centrum_randstad/...</td>\n",
       "      <td>{'genetic': 84, 'length': 187, 'mass': 78, 'ex...</td>\n",
       "    </tr>\n",
       "    <tr>\n",
       "      <th>4</th>\n",
       "      <td>200</td>\n",
       "      <td>8192</td>\n",
       "      <td>82</td>\n",
       "      <td>100</td>\n",
       "      <td>http://localhost:8080/medish_centrum_randstad/...</td>\n",
       "      <td>{'genetic': 84, 'length': 187, 'mass': 89, 'ex...</td>\n",
       "    </tr>\n",
       "    <tr>\n",
       "      <th>...</th>\n",
       "      <td>...</td>\n",
       "      <td>...</td>\n",
       "      <td>...</td>\n",
       "      <td>...</td>\n",
       "      <td>...</td>\n",
       "      <td>...</td>\n",
       "    </tr>\n",
       "    <tr>\n",
       "      <th>8187</th>\n",
       "      <td>200</td>\n",
       "      <td>8192</td>\n",
       "      <td>82</td>\n",
       "      <td>100</td>\n",
       "      <td>http://localhost:8080/medish_centrum_randstad/...</td>\n",
       "      <td>{'genetic': 82, 'length': 185, 'mass': 67, 'ex...</td>\n",
       "    </tr>\n",
       "    <tr>\n",
       "      <th>8188</th>\n",
       "      <td>200</td>\n",
       "      <td>8192</td>\n",
       "      <td>82</td>\n",
       "      <td>100</td>\n",
       "      <td>http://localhost:8080/medish_centrum_randstad/...</td>\n",
       "      <td>{'genetic': 82, 'length': 183, 'mass': 72, 'ex...</td>\n",
       "    </tr>\n",
       "    <tr>\n",
       "      <th>8189</th>\n",
       "      <td>200</td>\n",
       "      <td>8192</td>\n",
       "      <td>82</td>\n",
       "      <td>100</td>\n",
       "      <td>http://localhost:8080/medish_centrum_randstad/...</td>\n",
       "      <td>{'genetic': 83, 'length': 192, 'mass': 92, 'ex...</td>\n",
       "    </tr>\n",
       "    <tr>\n",
       "      <th>8190</th>\n",
       "      <td>200</td>\n",
       "      <td>8192</td>\n",
       "      <td>82</td>\n",
       "      <td>100</td>\n",
       "      <td>http://localhost:8080/medish_centrum_randstad/...</td>\n",
       "      <td>{'genetic': 81, 'length': 175, 'mass': 60, 'ex...</td>\n",
       "    </tr>\n",
       "    <tr>\n",
       "      <th>8191</th>\n",
       "      <td>200</td>\n",
       "      <td>8192</td>\n",
       "      <td>82</td>\n",
       "      <td>100</td>\n",
       "      <td>http://localhost:8080/medish_centrum_randstad/...</td>\n",
       "      <td>{'genetic': 83, 'length': 204, 'mass': 76, 'ex...</td>\n",
       "    </tr>\n",
       "  </tbody>\n",
       "</table>\n",
       "<p>8192 rows × 6 columns</p>\n",
       "</div>"
      ],
      "text/plain": [
       "      status  total_nr_of_records  nr_of_pages  page_size  \\\n",
       "0        200                 8192           82        100   \n",
       "1        200                 8192           82        100   \n",
       "2        200                 8192           82        100   \n",
       "3        200                 8192           82        100   \n",
       "4        200                 8192           82        100   \n",
       "...      ...                  ...          ...        ...   \n",
       "8187     200                 8192           82        100   \n",
       "8188     200                 8192           82        100   \n",
       "8189     200                 8192           82        100   \n",
       "8190     200                 8192           82        100   \n",
       "8191     200                 8192           82        100   \n",
       "\n",
       "                                                   next  \\\n",
       "0     http://localhost:8080/medish_centrum_randstad/...   \n",
       "1     http://localhost:8080/medish_centrum_randstad/...   \n",
       "2     http://localhost:8080/medish_centrum_randstad/...   \n",
       "3     http://localhost:8080/medish_centrum_randstad/...   \n",
       "4     http://localhost:8080/medish_centrum_randstad/...   \n",
       "...                                                 ...   \n",
       "8187  http://localhost:8080/medish_centrum_randstad/...   \n",
       "8188  http://localhost:8080/medish_centrum_randstad/...   \n",
       "8189  http://localhost:8080/medish_centrum_randstad/...   \n",
       "8190  http://localhost:8080/medish_centrum_randstad/...   \n",
       "8191  http://localhost:8080/medish_centrum_randstad/...   \n",
       "\n",
       "                                                   data  \n",
       "0     {'genetic': 84, 'length': 180, 'mass': 90, 'ex...  \n",
       "1     {'genetic': 84, 'length': 204, 'mass': 79, 'ex...  \n",
       "2     {'genetic': 84, 'length': 174, 'mass': 74, 'ex...  \n",
       "3     {'genetic': 84, 'length': 187, 'mass': 78, 'ex...  \n",
       "4     {'genetic': 84, 'length': 187, 'mass': 89, 'ex...  \n",
       "...                                                 ...  \n",
       "8187  {'genetic': 82, 'length': 185, 'mass': 67, 'ex...  \n",
       "8188  {'genetic': 82, 'length': 183, 'mass': 72, 'ex...  \n",
       "8189  {'genetic': 83, 'length': 192, 'mass': 92, 'ex...  \n",
       "8190  {'genetic': 81, 'length': 175, 'mass': 60, 'ex...  \n",
       "8191  {'genetic': 83, 'length': 204, 'mass': 76, 'ex...  \n",
       "\n",
       "[8192 rows x 6 columns]"
      ]
     },
     "execution_count": 24,
     "metadata": {},
     "output_type": "execute_result"
    }
   ],
   "source": [
    "df"
   ]
  },
  {
   "cell_type": "code",
   "execution_count": 25,
   "id": "f98553b0-0680-41a3-b921-239d2312b728",
   "metadata": {},
   "outputs": [
    {
     "data": {
      "text/plain": [
       "0    {'genetic': 84, 'length': 180, 'mass': 90, 'ex...\n",
       "1    {'genetic': 84, 'length': 204, 'mass': 79, 'ex...\n",
       "2    {'genetic': 84, 'length': 174, 'mass': 74, 'ex...\n",
       "3    {'genetic': 84, 'length': 187, 'mass': 78, 'ex...\n",
       "4    {'genetic': 84, 'length': 187, 'mass': 89, 'ex...\n",
       "Name: data, dtype: object"
      ]
     },
     "metadata": {},
     "output_type": "display_data"
    }
   ],
   "source": [
    "df_1 = df['data']\n",
    "display(df_1.head())"
   ]
  },
  {
   "cell_type": "code",
   "execution_count": 26,
   "id": "823e3dce-3193-44fc-8916-ad918f5acfda",
   "metadata": {},
   "outputs": [
    {
     "name": "stdout",
     "output_type": "stream",
     "text": [
      "{'genetic': 84, 'length': 191, 'mass': 73, 'exercise': 1, 'smoking': 18, 'alcohol': 7, 'sugar': 4, 'lifespan': 67}\n"
     ]
    }
   ],
   "source": [
    "# geselecteerde data uit df omzetten naar dictionary: https://pandas.pydata.org/pandas-docs/stable/reference/api/pandas.DataFrame.to_dict.html\n",
    "# DataFrame.to_dict(orient='dict', into=<class 'dict'>)\n",
    "data_dict = df_1.to_dict()\n",
    "print(data_dict[10])"
   ]
  },
  {
   "cell_type": "code",
   "execution_count": 27,
   "id": "897b4321-15e5-494b-b5ef-0d9588b234d1",
   "metadata": {},
   "outputs": [
    {
     "name": "stdout",
     "output_type": "stream",
     "text": [
      "   genetic  length  mass  exercise  smoking  alcohol  sugar  lifespan\n",
      "0     84.0   180.0  90.0       2.0      9.0      1.0      2        86\n",
      "1     84.0   204.0  79.0       3.0      2.0      7.0      3       100\n",
      "2     84.0   174.0  74.0       3.0     20.0      3.0      2        87\n",
      "3     84.0   187.0  78.0       2.0      6.0      5.0      3        91\n",
      "4     84.0   187.0  89.0       2.0     12.0      0.0      2        83\n",
      "5     84.0   175.0  74.0       2.0      2.0      3.0      3        89\n",
      "6     84.0   196.0  68.0       2.0     14.0      8.0      1        80\n",
      "7     84.0   182.0  83.0       1.0      1.0      8.0      3        77\n",
      "8     84.0   176.0  91.0       1.0     17.0      1.0      2        73\n",
      "9     84.0   180.0  74.0       1.0      5.0      9.0      2        73\n"
     ]
    }
   ],
   "source": [
    "# data_dict weer (terug) omzetten naar een df.\n",
    "# https://pandas.pydata.org/pandas-docs/stable/reference/api/pandas.DataFrame.from_dict.html#pandas.DataFrame.from_dict\n",
    "# pd.DataFrame.from_dict(data, orient='index')\n",
    "healthData = pd.DataFrame.from_dict(data_dict, orient='index')\n",
    "print(healthData.head(10))"
   ]
  },
  {
   "cell_type": "code",
   "execution_count": 29,
   "id": "a4f39664-e5fb-44f6-90dd-eec18760f7c6",
   "metadata": {},
   "outputs": [],
   "source": [
    "# Dit df omzetten naar een csv:  https://pandas.pydata.org/docs/reference/api/pandas.DataFrame.to_csv.html?highlight=csv#pandas.DataFrame.to_csv\n",
    "# pd.healthData.to_csv(healthDataCsv)\n",
    "healthData.to_csv('healthData.csv',index=False)\n",
    "healthData.to_csv('healthDataOrig.csv',index=False)"
   ]
  }
 ],
 "metadata": {
  "kernelspec": {
   "display_name": "Python 3 (ipykernel)",
   "language": "python",
   "name": "python3"
  },
  "language_info": {
   "codemirror_mode": {
    "name": "ipython",
    "version": 3
   },
   "file_extension": ".py",
   "mimetype": "text/x-python",
   "name": "python",
   "nbconvert_exporter": "python",
   "pygments_lexer": "ipython3",
   "version": "3.10.9"
  },
  "vscode": {
   "interpreter": {
    "hash": "7bcdc6b3b86716660d7eadbb40941a954fc54027f36a2a2e4af8cf25c6bb0831"
   }
  }
 },
 "nbformat": 4,
 "nbformat_minor": 5
}
